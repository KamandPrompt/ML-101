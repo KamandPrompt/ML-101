{
 "cells": [
  {
   "cell_type": "markdown",
   "id": "f6d509fa-ea68-40f0-a5b4-3e8a82744abf",
   "metadata": {},
   "source": [
    "<h1 style=\"color:skyblue;\">Health Risk Category Classification (Classification Task) </h1>"
   ]
  },
  {
   "cell_type": "code",
   "execution_count": 1,
   "id": "48b2b823-a8c6-4f6b-b3a7-00bbd31824b0",
   "metadata": {},
   "outputs": [],
   "source": [
    "import pandas as pd\n",
    "import numpy as np\n",
    "import seaborn as sns\n",
    "import matplotlib.pyplot as plt"
   ]
  },
  {
   "cell_type": "code",
   "execution_count": 2,
   "id": "9f5f5601-8565-4d57-9d3d-30f3f377f39e",
   "metadata": {},
   "outputs": [],
   "source": [
    "df=pd.read_csv(\"ML101_train_dataset.csv\")"
   ]
  },
  {
   "cell_type": "markdown",
   "id": "75f8464e-b298-4b3f-b519-6c4bdd761cf7",
   "metadata": {},
   "source": [
    "<h2 style=\"color:orange;\"> Imported ColumnTransformer for performing Imputation on Columns</h2>"
   ]
  },
  {
   "cell_type": "code",
   "execution_count": 3,
   "id": "0c523ee3-7554-4bc1-910f-bdff4b7fa74c",
   "metadata": {},
   "outputs": [],
   "source": [
    "from sklearn.compose import ColumnTransformer\n",
    "from sklearn.impute import SimpleImputer"
   ]
  },
  {
   "cell_type": "code",
   "execution_count": 4,
   "id": "47f6d6d3-a72b-4542-abc1-ff54be648fd8",
   "metadata": {},
   "outputs": [],
   "source": [
    "trf1=ColumnTransformer([\n",
    "    ('impute_missing',SimpleImputer(strategy='mean'),[0,1,2,3,5,6,7,8,9,10]),\n",
    "    ('impute_missing1',SimpleImputer(strategy='most_frequent'),[4,11])\n",
    "],remainder='passthrough')"
   ]
  },
  {
   "cell_type": "code",
   "execution_count": 5,
   "id": "0f2fbd56-1e56-40c9-a7ed-f25b2bdac800",
   "metadata": {},
   "outputs": [],
   "source": [
    "new=trf1.fit_transform(df)"
   ]
  },
  {
   "cell_type": "markdown",
   "id": "200712cf-0816-4b78-a453-0a0b8b8dd6ab",
   "metadata": {},
   "source": [
    "<h2 style=\"color:orange;\">After fitting the data performed OneHotEncoding on 'Gender' column</h2>"
   ]
  },
  {
   "cell_type": "code",
   "execution_count": 6,
   "id": "9e045681-37f5-4e84-936d-b668eaf88ac7",
   "metadata": {},
   "outputs": [],
   "source": [
    "new=pd.DataFrame(new,columns=['Average Daily Steps','Hours of Sleep','Caloric Intake','Age','Height','Weight','Cholesterol level','Blood Sugar level','Systolic BP','Diastolic BP','Gender','LifeStyle'])"
   ]
  },
  {
   "cell_type": "code",
   "execution_count": 7,
   "id": "63a906c0-cfb3-44f0-9e60-88aa7ce8b53a",
   "metadata": {},
   "outputs": [],
   "source": [
    "new2=pd.get_dummies(new,columns=['Gender'])"
   ]
  },
  {
   "cell_type": "code",
   "execution_count": 8,
   "id": "bca7c683-6337-476d-9782-97829b813ed2",
   "metadata": {},
   "outputs": [
    {
     "data": {
      "text/html": [
       "<div>\n",
       "<style scoped>\n",
       "    .dataframe tbody tr th:only-of-type {\n",
       "        vertical-align: middle;\n",
       "    }\n",
       "\n",
       "    .dataframe tbody tr th {\n",
       "        vertical-align: top;\n",
       "    }\n",
       "\n",
       "    .dataframe thead th {\n",
       "        text-align: right;\n",
       "    }\n",
       "</style>\n",
       "<table border=\"1\" class=\"dataframe\">\n",
       "  <thead>\n",
       "    <tr style=\"text-align: right;\">\n",
       "      <th></th>\n",
       "      <th>Average Daily Steps</th>\n",
       "      <th>Hours of Sleep</th>\n",
       "      <th>Caloric Intake</th>\n",
       "      <th>Age</th>\n",
       "      <th>Height</th>\n",
       "      <th>Weight</th>\n",
       "      <th>Cholesterol level</th>\n",
       "      <th>Blood Sugar level</th>\n",
       "      <th>Systolic BP</th>\n",
       "      <th>Diastolic BP</th>\n",
       "      <th>LifeStyle</th>\n",
       "      <th>Gender_Female</th>\n",
       "      <th>Gender_Male</th>\n",
       "    </tr>\n",
       "  </thead>\n",
       "  <tbody>\n",
       "    <tr>\n",
       "      <th>0</th>\n",
       "      <td>15725.0</td>\n",
       "      <td>6.518042</td>\n",
       "      <td>1714.0</td>\n",
       "      <td>56.0</td>\n",
       "      <td>178.416872</td>\n",
       "      <td>75.489346</td>\n",
       "      <td>185.40855</td>\n",
       "      <td>104.442836</td>\n",
       "      <td>172.813045</td>\n",
       "      <td>75.552416</td>\n",
       "      <td>Average</td>\n",
       "      <td>0</td>\n",
       "      <td>1</td>\n",
       "    </tr>\n",
       "    <tr>\n",
       "      <th>1</th>\n",
       "      <td>6733.0</td>\n",
       "      <td>9.1763</td>\n",
       "      <td>2508.0</td>\n",
       "      <td>69.0</td>\n",
       "      <td>176.826592</td>\n",
       "      <td>54.635484</td>\n",
       "      <td>191.698148</td>\n",
       "      <td>104.851888</td>\n",
       "      <td>198.729261</td>\n",
       "      <td>-103.634282</td>\n",
       "      <td>Average</td>\n",
       "      <td>1</td>\n",
       "      <td>0</td>\n",
       "    </tr>\n",
       "    <tr>\n",
       "      <th>2</th>\n",
       "      <td>7424.0</td>\n",
       "      <td>4.856772</td>\n",
       "      <td>1366.0</td>\n",
       "      <td>46.0</td>\n",
       "      <td>182.281966</td>\n",
       "      <td>63.578372</td>\n",
       "      <td>212.625051</td>\n",
       "      <td>106.649132</td>\n",
       "      <td>172.905053</td>\n",
       "      <td>87.816911</td>\n",
       "      <td>Bad</td>\n",
       "      <td>0</td>\n",
       "      <td>1</td>\n",
       "    </tr>\n",
       "    <tr>\n",
       "      <th>3</th>\n",
       "      <td>11853.0</td>\n",
       "      <td>9.727244</td>\n",
       "      <td>2189.0</td>\n",
       "      <td>32.0</td>\n",
       "      <td>168.520316</td>\n",
       "      <td>59.397202</td>\n",
       "      <td>205.440351</td>\n",
       "      <td>121.982302</td>\n",
       "      <td>204.527361</td>\n",
       "      <td>99.791603</td>\n",
       "      <td>Bad</td>\n",
       "      <td>1</td>\n",
       "      <td>0</td>\n",
       "    </tr>\n",
       "    <tr>\n",
       "      <th>4</th>\n",
       "      <td>7521.0</td>\n",
       "      <td>6.433183</td>\n",
       "      <td>2342.0</td>\n",
       "      <td>48.526844</td>\n",
       "      <td>145.273232</td>\n",
       "      <td>62.57474</td>\n",
       "      <td>161.368583</td>\n",
       "      <td>126.408787</td>\n",
       "      <td>187.882666</td>\n",
       "      <td>88.240932</td>\n",
       "      <td>Average</td>\n",
       "      <td>0</td>\n",
       "      <td>1</td>\n",
       "    </tr>\n",
       "    <tr>\n",
       "      <th>...</th>\n",
       "      <td>...</td>\n",
       "      <td>...</td>\n",
       "      <td>...</td>\n",
       "      <td>...</td>\n",
       "      <td>...</td>\n",
       "      <td>...</td>\n",
       "      <td>...</td>\n",
       "      <td>...</td>\n",
       "      <td>...</td>\n",
       "      <td>...</td>\n",
       "      <td>...</td>\n",
       "      <td>...</td>\n",
       "      <td>...</td>\n",
       "    </tr>\n",
       "    <tr>\n",
       "      <th>99995</th>\n",
       "      <td>2265.0</td>\n",
       "      <td>7.005729</td>\n",
       "      <td>2030.0</td>\n",
       "      <td>53.0</td>\n",
       "      <td>182.202253</td>\n",
       "      <td>65.03535</td>\n",
       "      <td>212.13338</td>\n",
       "      <td>115.360556</td>\n",
       "      <td>348.653753</td>\n",
       "      <td>88.464038</td>\n",
       "      <td>Bad</td>\n",
       "      <td>0</td>\n",
       "      <td>1</td>\n",
       "    </tr>\n",
       "    <tr>\n",
       "      <th>99996</th>\n",
       "      <td>10959.0</td>\n",
       "      <td>9.661165</td>\n",
       "      <td>2233.0</td>\n",
       "      <td>22.0</td>\n",
       "      <td>185.802297</td>\n",
       "      <td>63.457075</td>\n",
       "      <td>227.699267</td>\n",
       "      <td>112.321197</td>\n",
       "      <td>205.758576</td>\n",
       "      <td>97.740461</td>\n",
       "      <td>Good</td>\n",
       "      <td>0</td>\n",
       "      <td>1</td>\n",
       "    </tr>\n",
       "    <tr>\n",
       "      <th>99997</th>\n",
       "      <td>10497.616889</td>\n",
       "      <td>7.378317</td>\n",
       "      <td>2080.0</td>\n",
       "      <td>37.0</td>\n",
       "      <td>168.520316</td>\n",
       "      <td>41.227254</td>\n",
       "      <td>224.300704</td>\n",
       "      <td>121.369845</td>\n",
       "      <td>195.905161</td>\n",
       "      <td>-107.061245</td>\n",
       "      <td>Good</td>\n",
       "      <td>0</td>\n",
       "      <td>1</td>\n",
       "    </tr>\n",
       "    <tr>\n",
       "      <th>99998</th>\n",
       "      <td>12110.0</td>\n",
       "      <td>9.843323</td>\n",
       "      <td>1434.0</td>\n",
       "      <td>72.0</td>\n",
       "      <td>155.025779</td>\n",
       "      <td>106.908491</td>\n",
       "      <td>140.865132</td>\n",
       "      <td>94.524506</td>\n",
       "      <td>149.675364</td>\n",
       "      <td>200.964967</td>\n",
       "      <td>Great</td>\n",
       "      <td>1</td>\n",
       "      <td>0</td>\n",
       "    </tr>\n",
       "    <tr>\n",
       "      <th>99999</th>\n",
       "      <td>18618.0</td>\n",
       "      <td>9.301179</td>\n",
       "      <td>3458.0</td>\n",
       "      <td>37.0</td>\n",
       "      <td>180.716378</td>\n",
       "      <td>79.617356</td>\n",
       "      <td>177.339752</td>\n",
       "      <td>87.519145</td>\n",
       "      <td>216.590126</td>\n",
       "      <td>96.114712</td>\n",
       "      <td>Bad</td>\n",
       "      <td>0</td>\n",
       "      <td>1</td>\n",
       "    </tr>\n",
       "  </tbody>\n",
       "</table>\n",
       "<p>100000 rows × 13 columns</p>\n",
       "</div>"
      ],
      "text/plain": [
       "      Average Daily Steps Hours of Sleep Caloric Intake        Age  \\\n",
       "0                 15725.0       6.518042         1714.0       56.0   \n",
       "1                  6733.0         9.1763         2508.0       69.0   \n",
       "2                  7424.0       4.856772         1366.0       46.0   \n",
       "3                 11853.0       9.727244         2189.0       32.0   \n",
       "4                  7521.0       6.433183         2342.0  48.526844   \n",
       "...                   ...            ...            ...        ...   \n",
       "99995              2265.0       7.005729         2030.0       53.0   \n",
       "99996             10959.0       9.661165         2233.0       22.0   \n",
       "99997        10497.616889       7.378317         2080.0       37.0   \n",
       "99998             12110.0       9.843323         1434.0       72.0   \n",
       "99999             18618.0       9.301179         3458.0       37.0   \n",
       "\n",
       "           Height      Weight Cholesterol level Blood Sugar level Systolic BP  \\\n",
       "0      178.416872   75.489346         185.40855        104.442836  172.813045   \n",
       "1      176.826592   54.635484        191.698148        104.851888  198.729261   \n",
       "2      182.281966   63.578372        212.625051        106.649132  172.905053   \n",
       "3      168.520316   59.397202        205.440351        121.982302  204.527361   \n",
       "4      145.273232    62.57474        161.368583        126.408787  187.882666   \n",
       "...           ...         ...               ...               ...         ...   \n",
       "99995  182.202253    65.03535         212.13338        115.360556  348.653753   \n",
       "99996  185.802297   63.457075        227.699267        112.321197  205.758576   \n",
       "99997  168.520316   41.227254        224.300704        121.369845  195.905161   \n",
       "99998  155.025779  106.908491        140.865132         94.524506  149.675364   \n",
       "99999  180.716378   79.617356        177.339752         87.519145  216.590126   \n",
       "\n",
       "      Diastolic BP LifeStyle  Gender_Female  Gender_Male  \n",
       "0        75.552416   Average              0            1  \n",
       "1      -103.634282   Average              1            0  \n",
       "2        87.816911       Bad              0            1  \n",
       "3        99.791603       Bad              1            0  \n",
       "4        88.240932   Average              0            1  \n",
       "...            ...       ...            ...          ...  \n",
       "99995    88.464038       Bad              0            1  \n",
       "99996    97.740461      Good              0            1  \n",
       "99997  -107.061245      Good              0            1  \n",
       "99998   200.964967     Great              1            0  \n",
       "99999    96.114712       Bad              0            1  \n",
       "\n",
       "[100000 rows x 13 columns]"
      ]
     },
     "execution_count": 8,
     "metadata": {},
     "output_type": "execute_result"
    }
   ],
   "source": [
    "new2"
   ]
  },
  {
   "cell_type": "markdown",
   "id": "2b5a0230-5360-4778-9e7d-f892a70b325d",
   "metadata": {},
   "source": [
    "<h2 style=\"color:orange;\">As the Data Contained too much Outliers, tried filling most with median</h2>"
   ]
  },
  {
   "cell_type": "code",
   "execution_count": 9,
   "id": "cd1435c6-0cbf-4015-8354-925502c6183b",
   "metadata": {},
   "outputs": [],
   "source": [
    "def outliers_updated(new_df):\n",
    "\n",
    "    for i in new_df.columns:\n",
    "        data  = new_df[i].tolist()\n",
    "        sorted_data = sorted(data)\n",
    "\n",
    "        Q1 = np.percentile(data,25)\n",
    "        Q3 = np.percentile(data,75)\n",
    "        IQR = Q3 -Q1\n",
    "\n",
    "        median = sorted_data[len(data)//2]\n",
    "        updated = [median if j< Q1 - 1.5*IQR or j>Q3 + 1.5*IQR else j for j in data]\n",
    "\n",
    "        new_df[i] = updated\n",
    "X_train=new2.drop(columns=['LifeStyle'])\n",
    "Y_train=new2.iloc[:,-3]\n",
    "outliers_updated(X_train)"
   ]
  },
  {
   "cell_type": "code",
   "execution_count": 10,
   "id": "9c13f070-4f85-45b0-af37-ab96d24decdd",
   "metadata": {},
   "outputs": [
    {
     "data": {
      "text/html": [
       "<div>\n",
       "<style scoped>\n",
       "    .dataframe tbody tr th:only-of-type {\n",
       "        vertical-align: middle;\n",
       "    }\n",
       "\n",
       "    .dataframe tbody tr th {\n",
       "        vertical-align: top;\n",
       "    }\n",
       "\n",
       "    .dataframe thead th {\n",
       "        text-align: right;\n",
       "    }\n",
       "</style>\n",
       "<table border=\"1\" class=\"dataframe\">\n",
       "  <thead>\n",
       "    <tr style=\"text-align: right;\">\n",
       "      <th></th>\n",
       "      <th>Average Daily Steps</th>\n",
       "      <th>Hours of Sleep</th>\n",
       "      <th>Caloric Intake</th>\n",
       "      <th>Age</th>\n",
       "      <th>Height</th>\n",
       "      <th>Weight</th>\n",
       "      <th>Cholesterol level</th>\n",
       "      <th>Blood Sugar level</th>\n",
       "      <th>Systolic BP</th>\n",
       "      <th>Diastolic BP</th>\n",
       "      <th>Gender_Female</th>\n",
       "      <th>Gender_Male</th>\n",
       "    </tr>\n",
       "  </thead>\n",
       "  <tbody>\n",
       "    <tr>\n",
       "      <th>0</th>\n",
       "      <td>15725.000000</td>\n",
       "      <td>6.518042</td>\n",
       "      <td>1714.0</td>\n",
       "      <td>56.000000</td>\n",
       "      <td>178.416872</td>\n",
       "      <td>75.489346</td>\n",
       "      <td>185.408550</td>\n",
       "      <td>104.442836</td>\n",
       "      <td>172.813045</td>\n",
       "      <td>75.552416</td>\n",
       "      <td>0</td>\n",
       "      <td>1</td>\n",
       "    </tr>\n",
       "    <tr>\n",
       "      <th>1</th>\n",
       "      <td>6733.000000</td>\n",
       "      <td>9.176300</td>\n",
       "      <td>2508.0</td>\n",
       "      <td>69.000000</td>\n",
       "      <td>176.826592</td>\n",
       "      <td>54.635484</td>\n",
       "      <td>191.698148</td>\n",
       "      <td>104.851888</td>\n",
       "      <td>198.729261</td>\n",
       "      <td>91.102447</td>\n",
       "      <td>1</td>\n",
       "      <td>0</td>\n",
       "    </tr>\n",
       "    <tr>\n",
       "      <th>2</th>\n",
       "      <td>7424.000000</td>\n",
       "      <td>4.856772</td>\n",
       "      <td>1366.0</td>\n",
       "      <td>46.000000</td>\n",
       "      <td>182.281966</td>\n",
       "      <td>63.578372</td>\n",
       "      <td>212.625051</td>\n",
       "      <td>106.649132</td>\n",
       "      <td>172.905053</td>\n",
       "      <td>87.816911</td>\n",
       "      <td>0</td>\n",
       "      <td>1</td>\n",
       "    </tr>\n",
       "    <tr>\n",
       "      <th>3</th>\n",
       "      <td>11853.000000</td>\n",
       "      <td>9.727244</td>\n",
       "      <td>2189.0</td>\n",
       "      <td>32.000000</td>\n",
       "      <td>168.520316</td>\n",
       "      <td>59.397202</td>\n",
       "      <td>205.440351</td>\n",
       "      <td>121.982302</td>\n",
       "      <td>204.527361</td>\n",
       "      <td>99.791603</td>\n",
       "      <td>1</td>\n",
       "      <td>0</td>\n",
       "    </tr>\n",
       "    <tr>\n",
       "      <th>4</th>\n",
       "      <td>7521.000000</td>\n",
       "      <td>6.433183</td>\n",
       "      <td>2342.0</td>\n",
       "      <td>48.526844</td>\n",
       "      <td>145.273232</td>\n",
       "      <td>62.574740</td>\n",
       "      <td>161.368583</td>\n",
       "      <td>126.408787</td>\n",
       "      <td>187.882666</td>\n",
       "      <td>88.240932</td>\n",
       "      <td>0</td>\n",
       "      <td>1</td>\n",
       "    </tr>\n",
       "    <tr>\n",
       "      <th>...</th>\n",
       "      <td>...</td>\n",
       "      <td>...</td>\n",
       "      <td>...</td>\n",
       "      <td>...</td>\n",
       "      <td>...</td>\n",
       "      <td>...</td>\n",
       "      <td>...</td>\n",
       "      <td>...</td>\n",
       "      <td>...</td>\n",
       "      <td>...</td>\n",
       "      <td>...</td>\n",
       "      <td>...</td>\n",
       "    </tr>\n",
       "    <tr>\n",
       "      <th>99995</th>\n",
       "      <td>2265.000000</td>\n",
       "      <td>7.005729</td>\n",
       "      <td>2030.0</td>\n",
       "      <td>53.000000</td>\n",
       "      <td>182.202253</td>\n",
       "      <td>65.035350</td>\n",
       "      <td>212.133380</td>\n",
       "      <td>115.360556</td>\n",
       "      <td>200.394654</td>\n",
       "      <td>88.464038</td>\n",
       "      <td>0</td>\n",
       "      <td>1</td>\n",
       "    </tr>\n",
       "    <tr>\n",
       "      <th>99996</th>\n",
       "      <td>10959.000000</td>\n",
       "      <td>9.661165</td>\n",
       "      <td>2233.0</td>\n",
       "      <td>22.000000</td>\n",
       "      <td>185.802297</td>\n",
       "      <td>63.457075</td>\n",
       "      <td>227.699267</td>\n",
       "      <td>112.321197</td>\n",
       "      <td>205.758576</td>\n",
       "      <td>97.740461</td>\n",
       "      <td>0</td>\n",
       "      <td>1</td>\n",
       "    </tr>\n",
       "    <tr>\n",
       "      <th>99997</th>\n",
       "      <td>10497.616889</td>\n",
       "      <td>7.378317</td>\n",
       "      <td>2080.0</td>\n",
       "      <td>37.000000</td>\n",
       "      <td>168.520316</td>\n",
       "      <td>41.227254</td>\n",
       "      <td>224.300704</td>\n",
       "      <td>121.369845</td>\n",
       "      <td>195.905161</td>\n",
       "      <td>91.102447</td>\n",
       "      <td>0</td>\n",
       "      <td>1</td>\n",
       "    </tr>\n",
       "    <tr>\n",
       "      <th>99998</th>\n",
       "      <td>12110.000000</td>\n",
       "      <td>9.843323</td>\n",
       "      <td>1434.0</td>\n",
       "      <td>72.000000</td>\n",
       "      <td>155.025779</td>\n",
       "      <td>70.025165</td>\n",
       "      <td>140.865132</td>\n",
       "      <td>94.524506</td>\n",
       "      <td>149.675364</td>\n",
       "      <td>91.102447</td>\n",
       "      <td>1</td>\n",
       "      <td>0</td>\n",
       "    </tr>\n",
       "    <tr>\n",
       "      <th>99999</th>\n",
       "      <td>18618.000000</td>\n",
       "      <td>9.301179</td>\n",
       "      <td>3458.0</td>\n",
       "      <td>37.000000</td>\n",
       "      <td>180.716378</td>\n",
       "      <td>79.617356</td>\n",
       "      <td>177.339752</td>\n",
       "      <td>87.519145</td>\n",
       "      <td>216.590126</td>\n",
       "      <td>96.114712</td>\n",
       "      <td>0</td>\n",
       "      <td>1</td>\n",
       "    </tr>\n",
       "  </tbody>\n",
       "</table>\n",
       "<p>100000 rows × 12 columns</p>\n",
       "</div>"
      ],
      "text/plain": [
       "       Average Daily Steps  Hours of Sleep  Caloric Intake        Age  \\\n",
       "0             15725.000000        6.518042          1714.0  56.000000   \n",
       "1              6733.000000        9.176300          2508.0  69.000000   \n",
       "2              7424.000000        4.856772          1366.0  46.000000   \n",
       "3             11853.000000        9.727244          2189.0  32.000000   \n",
       "4              7521.000000        6.433183          2342.0  48.526844   \n",
       "...                    ...             ...             ...        ...   \n",
       "99995          2265.000000        7.005729          2030.0  53.000000   \n",
       "99996         10959.000000        9.661165          2233.0  22.000000   \n",
       "99997         10497.616889        7.378317          2080.0  37.000000   \n",
       "99998         12110.000000        9.843323          1434.0  72.000000   \n",
       "99999         18618.000000        9.301179          3458.0  37.000000   \n",
       "\n",
       "           Height     Weight  Cholesterol level  Blood Sugar level  \\\n",
       "0      178.416872  75.489346         185.408550         104.442836   \n",
       "1      176.826592  54.635484         191.698148         104.851888   \n",
       "2      182.281966  63.578372         212.625051         106.649132   \n",
       "3      168.520316  59.397202         205.440351         121.982302   \n",
       "4      145.273232  62.574740         161.368583         126.408787   \n",
       "...           ...        ...                ...                ...   \n",
       "99995  182.202253  65.035350         212.133380         115.360556   \n",
       "99996  185.802297  63.457075         227.699267         112.321197   \n",
       "99997  168.520316  41.227254         224.300704         121.369845   \n",
       "99998  155.025779  70.025165         140.865132          94.524506   \n",
       "99999  180.716378  79.617356         177.339752          87.519145   \n",
       "\n",
       "       Systolic BP  Diastolic BP  Gender_Female  Gender_Male  \n",
       "0       172.813045     75.552416              0            1  \n",
       "1       198.729261     91.102447              1            0  \n",
       "2       172.905053     87.816911              0            1  \n",
       "3       204.527361     99.791603              1            0  \n",
       "4       187.882666     88.240932              0            1  \n",
       "...            ...           ...            ...          ...  \n",
       "99995   200.394654     88.464038              0            1  \n",
       "99996   205.758576     97.740461              0            1  \n",
       "99997   195.905161     91.102447              0            1  \n",
       "99998   149.675364     91.102447              1            0  \n",
       "99999   216.590126     96.114712              0            1  \n",
       "\n",
       "[100000 rows x 12 columns]"
      ]
     },
     "execution_count": 10,
     "metadata": {},
     "output_type": "execute_result"
    }
   ],
   "source": [
    "X_train"
   ]
  },
  {
   "cell_type": "code",
   "execution_count": 11,
   "id": "f0eb8fac-7167-4ac1-94e1-219ec4324ea5",
   "metadata": {},
   "outputs": [
    {
     "data": {
      "image/png": "[encoded data removed]",
      "text/plain": [
       "<Figure size 640x480 with 1 Axes>"
      ]
     },
     "metadata": {},
     "output_type": "display_data"
    },
    {
     "data": {
      "image/png": "[encoded data removed]",
      "text/plain": [
       "<Figure size 640x480 with 1 Axes>"
      ]
     },
     "metadata": {},
     "output_type": "display_data"
    },
    {
     "data": {
      "image/png": "[encoded data removed]",
      "text/plain": [
       "<Figure size 640x480 with 1 Axes>"
      ]
     },
     "metadata": {},
     "output_type": "display_data"
    },
    {
     "data": {
      "image/png": "[encoded data removed]",
      "text/plain": [
       "<Figure size 640x480 with 1 Axes>"
      ]
     },
     "metadata": {},
     "output_type": "display_data"
    },
    {
     "data": {
      "image/png": "[encoded data removed]",
      "text/plain": [
       "<Figure size 640x480 with 1 Axes>"
      ]
     },
     "metadata": {},
     "output_type": "display_data"
    },
    {
     "data": {
      "image/png": "[encoded data removed]",
      "text/plain": [
       "<Figure size 640x480 with 1 Axes>"
      ]
     },
     "metadata": {},
     "output_type": "display_data"
    },
    {
     "data": {
      "image/png": "[encoded data removed]",
      "text/plain": [
       "<Figure size 640x480 with 1 Axes>"
      ]
     },
     "metadata": {},
     "output_type": "display_data"
    },
    {
     "data": {
      "image/png": "[encoded data removed]",
      "text/plain": [
       "<Figure size 640x480 with 1 Axes>"
      ]
     },
     "metadata": {},
     "output_type": "display_data"
    },
    {
     "data": {
      "image/png": "[encoded data removed]",
      "text/plain": [
       "<Figure size 640x480 with 1 Axes>"
      ]
     },
     "metadata": {},
     "output_type": "display_data"
    },
    {
     "data": {
      "image/png": "[encoded data removed]",
      "text/plain": [
       "<Figure size 640x480 with 1 Axes>"
      ]
     },
     "metadata": {},
     "output_type": "display_data"
    },
    {
     "data": {
      "image/png": "[encoded data removed]",
      "text/plain": [
       "<Figure size 640x480 with 1 Axes>"
      ]
     },
     "metadata": {},
     "output_type": "display_data"
    },
    {
     "data": {
      "image/png": "[encoded data removed]",
      "text/plain": [
       "<Figure size 640x480 with 1 Axes>"
      ]
     },
     "metadata": {},
     "output_type": "display_data"
    }
   ],
   "source": [
    "for i in X_train:\n",
    "    sns.boxplot(X_train[i])\n",
    "    plt.title(i)\n",
    "    plt.show()"
   ]
  },
  {
   "cell_type": "markdown",
   "id": "3635a203-b862-4bc5-90e0-0257f922589d",
   "metadata": {},
   "source": [
    "<h2 style=\"color:orange;\">For basic testing did Test_Train_Split and checked for various Classification Algorithms </h2>"
   ]
  },
  {
   "cell_type": "code",
   "execution_count": 12,
   "id": "202dda24-79b3-4890-b1c0-b727717cb073",
   "metadata": {},
   "outputs": [],
   "source": [
    "from sklearn.model_selection import train_test_split\n",
    "x_train,x_test,y_train,y_test=train_test_split(X_train.drop(columns=['Systolic BP','Diastolic BP']),Y_train,test_size=0.3,shuffle=True)"
   ]
  },
  {
   "cell_type": "markdown",
   "id": "a09586c6-709b-463a-a687-e70e0a7e9cf8",
   "metadata": {},
   "source": [
    "### KNN for Classification"
   ]
  },
  {
   "cell_type": "code",
   "execution_count": 13,
   "id": "8e097744-bf0b-4d52-9bb2-c42cbb27834f",
   "metadata": {},
   "outputs": [
    {
     "data": {
      "text/html": [
       "<style>#sk-container-id-1 {color: black;}#sk-container-id-1 pre{padding: 0;}#sk-container-id-1 div.sk-toggleable {background-color: white;}#sk-container-id-1 label.sk-toggleable__label {cursor: pointer;display: block;width: 100%;margin-bottom: 0;padding: 0.3em;box-sizing: border-box;text-align: center;}#sk-container-id-1 label.sk-toggleable__label-arrow:before {content: \"▸\";float: left;margin-right: 0.25em;color: #696969;}#sk-container-id-1 label.sk-toggleable__label-arrow:hover:before {color: black;}#sk-container-id-1 div.sk-estimator:hover label.sk-toggleable__label-arrow:before {color: black;}#sk-container-id-1 div.sk-toggleable__content {max-height: 0;max-width: 0;overflow: hidden;text-align: left;background-color: #f0f8ff;}#sk-container-id-1 div.sk-toggleable__content pre {margin: 0.2em;color: black;border-radius: 0.25em;background-color: #f0f8ff;}#sk-container-id-1 input.sk-toggleable__control:checked~div.sk-toggleable__content {max-height: 200px;max-width: 100%;overflow: auto;}#sk-container-id-1 input.sk-toggleable__control:checked~label.sk-toggleable__label-arrow:before {content: \"▾\";}#sk-container-id-1 div.sk-estimator input.sk-toggleable__control:checked~label.sk-toggleable__label {background-color: #d4ebff;}#sk-container-id-1 div.sk-label input.sk-toggleable__control:checked~label.sk-toggleable__label {background-color: #d4ebff;}#sk-container-id-1 input.sk-hidden--visually {border: 0;clip: rect(1px 1px 1px 1px);clip: rect(1px, 1px, 1px, 1px);height: 1px;margin: -1px;overflow: hidden;padding: 0;position: absolute;width: 1px;}#sk-container-id-1 div.sk-estimator {font-family: monospace;background-color: #f0f8ff;border: 1px dotted black;border-radius: 0.25em;box-sizing: border-box;margin-bottom: 0.5em;}#sk-container-id-1 div.sk-estimator:hover {background-color: #d4ebff;}#sk-container-id-1 div.sk-parallel-item::after {content: \"\";width: 100%;border-bottom: 1px solid gray;flex-grow: 1;}#sk-container-id-1 div.sk-label:hover label.sk-toggleable__label {background-color: #d4ebff;}#sk-container-id-1 div.sk-serial::before {content: \"\";position: absolute;border-left: 1px solid gray;box-sizing: border-box;top: 0;bottom: 0;left: 50%;z-index: 0;}#sk-container-id-1 div.sk-serial {display: flex;flex-direction: column;align-items: center;background-color: white;padding-right: 0.2em;padding-left: 0.2em;position: relative;}#sk-container-id-1 div.sk-item {position: relative;z-index: 1;}#sk-container-id-1 div.sk-parallel {display: flex;align-items: stretch;justify-content: center;background-color: white;position: relative;}#sk-container-id-1 div.sk-item::before, #sk-container-id-1 div.sk-parallel-item::before {content: \"\";position: absolute;border-left: 1px solid gray;box-sizing: border-box;top: 0;bottom: 0;left: 50%;z-index: -1;}#sk-container-id-1 div.sk-parallel-item {display: flex;flex-direction: column;z-index: 1;position: relative;background-color: white;}#sk-container-id-1 div.sk-parallel-item:first-child::after {align-self: flex-end;width: 50%;}#sk-container-id-1 div.sk-parallel-item:last-child::after {align-self: flex-start;width: 50%;}#sk-container-id-1 div.sk-parallel-item:only-child::after {width: 0;}#sk-container-id-1 div.sk-dashed-wrapped {border: 1px dashed gray;margin: 0 0.4em 0.5em 0.4em;box-sizing: border-box;padding-bottom: 0.4em;background-color: white;}#sk-container-id-1 div.sk-label label {font-family: monospace;font-weight: bold;display: inline-block;line-height: 1.2em;}#sk-container-id-1 div.sk-label-container {text-align: center;}#sk-container-id-1 div.sk-container {/* jupyter's `normalize.less` sets `[hidden] { display: none; }` but bootstrap.min.css set `[hidden] { display: none !important; }` so we also need the `!important` here to be able to override the default hidden behavior on the sphinx rendered scikit-learn.org. See: https://github.com/scikit-learn/scikit-learn/issues/21755 */display: inline-block !important;position: relative;}#sk-container-id-1 div.sk-text-repr-fallback {display: none;}</style><div id=\"sk-container-id-1\" class=\"sk-top-container\"><div class=\"sk-text-repr-fallback\"><pre>KNeighborsClassifier(n_neighbors=7)</pre><b>In a Jupyter environment, please rerun this cell to show the HTML representation or trust the notebook. <br />On GitHub, the HTML representation is unable to render, please try loading this page with nbviewer.org.</b></div><div class=\"sk-container\" hidden><div class=\"sk-item\"><div class=\"sk-estimator sk-toggleable\"><input class=\"sk-toggleable__control sk-hidden--visually\" id=\"sk-estimator-id-1\" type=\"checkbox\" checked><label for=\"sk-estimator-id-1\" class=\"sk-toggleable__label sk-toggleable__label-arrow\">KNeighborsClassifier</label><div class=\"sk-toggleable__content\"><pre>KNeighborsClassifier(n_neighbors=7)</pre></div></div></div></div></div>"
      ],
      "text/plain": [
       "KNeighborsClassifier(n_neighbors=7)"
      ]
     },
     "execution_count": 13,
     "metadata": {},
     "output_type": "execute_result"
    }
   ],
   "source": [
    "from sklearn.neighbors import KNeighborsClassifier\n",
    "knn1=KNeighborsClassifier(n_neighbors=11)\n",
    "knn1.fit(x_train,y_train)"
   ]
  },
  {
   "cell_type": "code",
   "execution_count": 14,
   "id": "e5efaa95-76ca-49f6-9722-2550ca7c035f",
   "metadata": {},
   "outputs": [],
   "source": [
    "Y_pred=knn1.predict(x_test)"
   ]
  },
  {
   "cell_type": "code",
   "execution_count": 15,
   "id": "e25e241d-7278-4528-9b6b-f5a47effc757",
   "metadata": {},
   "outputs": [
    {
     "data": {
      "text/plain": [
       "0.6587"
      ]
     },
     "execution_count": 15,
     "metadata": {},
     "output_type": "execute_result"
    }
   ],
   "source": [
    "from sklearn.metrics import accuracy_score\n",
    "accuracy_score(y_test,Y_pred)"
   ]
  },
  {
   "cell_type": "markdown",
   "id": "ad14299d-1fdb-466c-a607-b3f9d27f06a6",
   "metadata": {},
   "source": [
    "### Tried Naive Bayes and Got A Better Result"
   ]
  },
  {
   "cell_type": "code",
   "execution_count": 16,
   "id": "8996a682-6ad3-4acf-a758-88a9cbb24251",
   "metadata": {},
   "outputs": [
    {
     "data": {
      "text/plain": [
       "0.7107666666666667"
      ]
     },
     "execution_count": 16,
     "metadata": {},
     "output_type": "execute_result"
    }
   ],
   "source": [
    "from sklearn.naive_bayes import GaussianNB\n",
    "gnb=GaussianNB()\n",
    "gnb.fit(x_train,y_train)\n",
    "ypred1=gnb.predict(x_test)\n",
    "accuracy_score(y_test,ypred1)"
   ]
  },
  {
   "cell_type": "markdown",
   "id": "2e3b6b95-0280-46e8-ad2e-1d97aae20451",
   "metadata": {},
   "source": [
    "<h2 style=\"color:orange;\">Now Doing the Final Training on Whole Training Data and Predicting for Test Data</h2>"
   ]
  },
  {
   "cell_type": "code",
   "execution_count": 17,
   "id": "3d7ba453-3c58-4dc7-a92c-15ee9ade0d12",
   "metadata": {},
   "outputs": [],
   "source": [
    "test=pd.read_csv('ML101_dataset_test_feature.csv')\n",
    "test=pd.get_dummies(test,columns=['Gender'])"
   ]
  },
  {
   "cell_type": "code",
   "execution_count": 18,
   "id": "94eda22e-1b48-459d-8d8d-d9ca2f7fd5dc",
   "metadata": {},
   "outputs": [
    {
     "data": {
      "text/html": [
       "<style>#sk-container-id-2 {color: black;}#sk-container-id-2 pre{padding: 0;}#sk-container-id-2 div.sk-toggleable {background-color: white;}#sk-container-id-2 label.sk-toggleable__label {cursor: pointer;display: block;width: 100%;margin-bottom: 0;padding: 0.3em;box-sizing: border-box;text-align: center;}#sk-container-id-2 label.sk-toggleable__label-arrow:before {content: \"▸\";float: left;margin-right: 0.25em;color: #696969;}#sk-container-id-2 label.sk-toggleable__label-arrow:hover:before {color: black;}#sk-container-id-2 div.sk-estimator:hover label.sk-toggleable__label-arrow:before {color: black;}#sk-container-id-2 div.sk-toggleable__content {max-height: 0;max-width: 0;overflow: hidden;text-align: left;background-color: #f0f8ff;}#sk-container-id-2 div.sk-toggleable__content pre {margin: 0.2em;color: black;border-radius: 0.25em;background-color: #f0f8ff;}#sk-container-id-2 input.sk-toggleable__control:checked~div.sk-toggleable__content {max-height: 200px;max-width: 100%;overflow: auto;}#sk-container-id-2 input.sk-toggleable__control:checked~label.sk-toggleable__label-arrow:before {content: \"▾\";}#sk-container-id-2 div.sk-estimator input.sk-toggleable__control:checked~label.sk-toggleable__label {background-color: #d4ebff;}#sk-container-id-2 div.sk-label input.sk-toggleable__control:checked~label.sk-toggleable__label {background-color: #d4ebff;}#sk-container-id-2 input.sk-hidden--visually {border: 0;clip: rect(1px 1px 1px 1px);clip: rect(1px, 1px, 1px, 1px);height: 1px;margin: -1px;overflow: hidden;padding: 0;position: absolute;width: 1px;}#sk-container-id-2 div.sk-estimator {font-family: monospace;background-color: #f0f8ff;border: 1px dotted black;border-radius: 0.25em;box-sizing: border-box;margin-bottom: 0.5em;}#sk-container-id-2 div.sk-estimator:hover {background-color: #d4ebff;}#sk-container-id-2 div.sk-parallel-item::after {content: \"\";width: 100%;border-bottom: 1px solid gray;flex-grow: 1;}#sk-container-id-2 div.sk-label:hover label.sk-toggleable__label {background-color: #d4ebff;}#sk-container-id-2 div.sk-serial::before {content: \"\";position: absolute;border-left: 1px solid gray;box-sizing: border-box;top: 0;bottom: 0;left: 50%;z-index: 0;}#sk-container-id-2 div.sk-serial {display: flex;flex-direction: column;align-items: center;background-color: white;padding-right: 0.2em;padding-left: 0.2em;position: relative;}#sk-container-id-2 div.sk-item {position: relative;z-index: 1;}#sk-container-id-2 div.sk-parallel {display: flex;align-items: stretch;justify-content: center;background-color: white;position: relative;}#sk-container-id-2 div.sk-item::before, #sk-container-id-2 div.sk-parallel-item::before {content: \"\";position: absolute;border-left: 1px solid gray;box-sizing: border-box;top: 0;bottom: 0;left: 50%;z-index: -1;}#sk-container-id-2 div.sk-parallel-item {display: flex;flex-direction: column;z-index: 1;position: relative;background-color: white;}#sk-container-id-2 div.sk-parallel-item:first-child::after {align-self: flex-end;width: 50%;}#sk-container-id-2 div.sk-parallel-item:last-child::after {align-self: flex-start;width: 50%;}#sk-container-id-2 div.sk-parallel-item:only-child::after {width: 0;}#sk-container-id-2 div.sk-dashed-wrapped {border: 1px dashed gray;margin: 0 0.4em 0.5em 0.4em;box-sizing: border-box;padding-bottom: 0.4em;background-color: white;}#sk-container-id-2 div.sk-label label {font-family: monospace;font-weight: bold;display: inline-block;line-height: 1.2em;}#sk-container-id-2 div.sk-label-container {text-align: center;}#sk-container-id-2 div.sk-container {/* jupyter's `normalize.less` sets `[hidden] { display: none; }` but bootstrap.min.css set `[hidden] { display: none !important; }` so we also need the `!important` here to be able to override the default hidden behavior on the sphinx rendered scikit-learn.org. See: https://github.com/scikit-learn/scikit-learn/issues/21755 */display: inline-block !important;position: relative;}#sk-container-id-2 div.sk-text-repr-fallback {display: none;}</style><div id=\"sk-container-id-2\" class=\"sk-top-container\"><div class=\"sk-text-repr-fallback\"><pre>GaussianNB()</pre><b>In a Jupyter environment, please rerun this cell to show the HTML representation or trust the notebook. <br />On GitHub, the HTML representation is unable to render, please try loading this page with nbviewer.org.</b></div><div class=\"sk-container\" hidden><div class=\"sk-item\"><div class=\"sk-estimator sk-toggleable\"><input class=\"sk-toggleable__control sk-hidden--visually\" id=\"sk-estimator-id-2\" type=\"checkbox\" checked><label for=\"sk-estimator-id-2\" class=\"sk-toggleable__label sk-toggleable__label-arrow\">GaussianNB</label><div class=\"sk-toggleable__content\"><pre>GaussianNB()</pre></div></div></div></div></div>"
      ],
      "text/plain": [
       "GaussianNB()"
      ]
     },
     "execution_count": 18,
     "metadata": {},
     "output_type": "execute_result"
    }
   ],
   "source": [
    "gnb1=GaussianNB()\n",
    "gnb1.fit(X_train.drop(columns=['Systolic BP','Diastolic BP']),Y_train)\n"
   ]
  },
  {
   "cell_type": "code",
   "execution_count": 19,
   "id": "55f32ab2-fe4c-48c4-a145-6627e0c900fe",
   "metadata": {},
   "outputs": [],
   "source": [
    "Y_pred=gnb1.predict(test)"
   ]
  },
  {
   "cell_type": "code",
   "execution_count": null,
   "id": "09f64ad1-f2b1-42e8-8196-530e8483960e",
   "metadata": {},
   "outputs": [],
   "source": [
    "id=np.arange(0,test.shape[0])\n",
    "data = {'ID': id, 'LifeStyle': Y_pred}\n",
    "df = pd.DataFrame(data)\n",
    "csv_file_path = 'BitbyBit.csv'\n",
    "\n",
    "# Write the DataFrame to a CSV file\n",
    "df.to_csv('BitbyBitClassification.csv',index=False)"
   ]
  }
 ],
 "metadata": {
  "kernelspec": {
   "display_name": "Python 3 (ipykernel)",
   "language": "python",
   "name": "python3"
  },
  "language_info": {
   "codemirror_mode": {
    "name": "ipython",
    "version": 3
   },
   "file_extension": ".py",
   "mimetype": "text/x-python",
   "name": "python",
   "nbconvert_exporter": "python",
   "pygments_lexer": "ipython3",
   "version": "3.11.1"
  }
 },
 "nbformat": 4,
 "nbformat_minor": 5
}
