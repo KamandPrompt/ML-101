{
  "nbformat": 4,
  "nbformat_minor": 0,
  "metadata": {
    "colab": {
      "provenance": []
    },
    "kernelspec": {
      "name": "python3",
      "display_name": "Python 3"
    },
    "language_info": {
      "name": "python"
    }
  },
  "cells": [
    {
      "cell_type": "code",
      "execution_count": 85,
      "metadata": {
        "id": "Uyc7NOvVYKSG"
      },
      "outputs": [],
      "source": [
        "import numpy as np\n",
        "import matplotlib.pyplot as plt\n",
        "import pandas as pd\n",
        "import numpy.linalg as la\n",
        "import math as mt\n",
        "\n",
        "\n",
        "df=pd.read_csv(\"/ML101_train_dataset.csv\")\n",
        "df=df.dropna(subset=['Systolic BP','Diastolic BP'])\n",
        "\n",
        "df = df[df['Diastolic BP'] < df['Systolic BP']]\n",
        "\n",
        "df = df[(df['Systolic BP'] >= 0) & (df['Diastolic BP'] >= 0)]\n",
        "\n",
        "Q1 = df['Systolic BP'].quantile(0.25)\n",
        "Q3 = df['Systolic BP'].quantile(0.75)\n",
        "IQR = Q3 - Q1\n",
        "lower_bound = Q1 - 1.5 * IQR\n",
        "upper_bound = Q3 + 1.5 * IQR\n",
        "median_value = df['Systolic BP'].median()\n",
        "df['Systolic BP'] = df['Systolic BP'].apply(lambda x: median_value if x < lower_bound or x > upper_bound else x)\n",
        "\n",
        "Q1 = df['Diastolic BP'].quantile(0.25)\n",
        "Q3 = df['Diastolic BP'].quantile(0.75)\n",
        "IQR = Q3 - Q1\n",
        "lower_bound = Q1 - 1.5 * IQR\n",
        "upper_bound = Q3 + 1.5 * IQR\n",
        "median_value = df['Diastolic BP'].median()\n",
        "df['Diastolic BP'] = df['Diastolic BP'].apply(lambda x: median_value if x < lower_bound or x > upper_bound else x)\n",
        "\n",
        "df.to_csv(\"cleaned_data.csv\")\n",
        "df_test=pd.read_csv(\"/ML101_dataset_test_feature.csv\")\n",
        "\n",
        "\n"
      ]
    },
    {
      "cell_type": "code",
      "source": [
        "df_cleaned= pd.read_csv(\"cleaned_data.csv\")\n",
        "\n",
        "df_cleaned[\"Age\"].fillna(df_cleaned[\"Age\"].median(), inplace=True)\n",
        "\n",
        "df_cleaned[\"Cholesterol level\"].fillna(df_cleaned[\"Cholesterol level\"].mean(), inplace=True)\n",
        "df_cleaned[\"Blood Sugar level\"].fillna(df_cleaned[\"Blood Sugar level\"].mean(), inplace=True)\n",
        "df_cleaned[\"Weight\"].fillna(df_cleaned[\"Weight\"].mean(), inplace=True)\n",
        "df_cleaned[\"Height\"].fillna(df_cleaned[\"Height\"].mean(), inplace=True)\n",
        "df_cleaned[\"Average Daily Steps\"].fillna(df_cleaned[\"Average Daily Steps\"].mean(), inplace=True)\n",
        "df_cleaned[\"Caloric Intake\"].fillna(df_cleaned[\"Caloric Intake\"].mean(), inplace=True)\n",
        "df_cleaned[\"Hours of Sleep\"].fillna(df_cleaned[\"Hours of Sleep\"].mean(), inplace= True)\n",
        "df_cleaned=df_cleaned.dropna(subset=[\"LifeStyle\"])\n",
        "df_cleaned=df_cleaned.iloc[:,1:]\n",
        "print(df_cleaned)\n"
      ],
      "metadata": {
        "colab": {
          "base_uri": "https://localhost:8080/"
        },
        "id": "CdikqxSblDQM",
        "outputId": "e1cd5f33-493e-4788-c276-4e54d99fcaa1"
      },
      "execution_count": 86,
      "outputs": [
        {
          "output_type": "stream",
          "name": "stdout",
          "text": [
            "       Average Daily Steps  Hours of Sleep  Caloric Intake   Age  Gender  \\\n",
            "0                  15725.0        6.518042     1714.000000  56.0    Male   \n",
            "1                   7424.0        4.856772     1366.000000  46.0    Male   \n",
            "3                   7521.0        6.433183     2342.000000  48.0     NaN   \n",
            "4                  16484.0        4.380561     2373.000000  25.0    Male   \n",
            "5                  17563.0        4.195405     1547.000000  78.0  Female   \n",
            "...                    ...             ...             ...   ...     ...   \n",
            "61263               1774.0        6.315927     1856.000000  73.0    Male   \n",
            "61265              14357.0        6.773970     2509.908829  53.0     NaN   \n",
            "61266              16215.0        7.005686     1195.000000  44.0  Female   \n",
            "61267              10959.0        9.661165     2233.000000  22.0    Male   \n",
            "61268              18618.0        9.301179     3458.000000  37.0    Male   \n",
            "\n",
            "           Height     Weight  Cholesterol level  Blood Sugar level  \\\n",
            "0      178.416872  75.489346         185.408550         104.442836   \n",
            "1      182.281966  63.578372         212.625051         106.649132   \n",
            "3      145.273232  62.574740         161.368583         126.408787   \n",
            "4      168.548731  88.357153         200.153204         101.648647   \n",
            "5      159.352113  62.381498         164.797289          95.894504   \n",
            "...           ...        ...                ...                ...   \n",
            "61263  179.886590  82.563444         202.036036         126.531928   \n",
            "61265  183.094232  69.583051         210.911771          85.773495   \n",
            "61266  162.921205  77.710132         162.797498          96.925255   \n",
            "61267  185.802297  63.457075         227.699267         112.321197   \n",
            "61268  180.716378  79.617356         177.339752          87.519145   \n",
            "\n",
            "       Systolic BP  Diastolic BP LifeStyle  \n",
            "0       172.813045     75.552416   Average  \n",
            "1       172.905053     87.816911       Bad  \n",
            "3       187.882666     88.240932   Average  \n",
            "4       198.811186     93.742647       Bad  \n",
            "5       166.152809     72.226524       Bad  \n",
            "...            ...           ...       ...  \n",
            "61263   197.034190     89.469280       Bad  \n",
            "61265   228.300884    101.824181       Bad  \n",
            "61266   137.212577     64.118897     Great  \n",
            "61267   205.758576     97.740461      Good  \n",
            "61268   216.590126     96.114712       Bad  \n",
            "\n",
            "[55197 rows x 12 columns]\n"
          ]
        }
      ]
    },
    {
      "cell_type": "code",
      "source": [
        "import math as mt\n",
        "\n",
        "def Most_Related(data_set, attribute_name):\n",
        "    attribute_names=data_set.columns.values\n",
        "    attribute_names=np.delete(attribute_names,4)\n",
        "    attribute_names=attribute_names[0:10]\n",
        "    target_arr=np.array(data_set[attribute_name])\n",
        "    traget_mean=np.mean(target_arr)\n",
        "    correlation_coff={}\n",
        "    for i in attribute_names:\n",
        "        attribute_series=np.array(data_set[i])\n",
        "        attribute_mean=np.mean(attribute_series)\n",
        "        coeff=abs(sum((target_arr-traget_mean)*(attribute_series-attribute_mean))/len(np.array(data_set)))\n",
        "        coeff/=(np.std(attribute_series)*np.std(target_arr))\n",
        "        correlation_coff[i]=coeff\n",
        "    del correlation_coff[\"Systolic BP\"]\n",
        "    del correlation_coff[\"Diastolic BP\"]\n",
        "    print(correlation_coff)\n",
        "    max_coff=max(correlation_coff.values())\n",
        "    most_related=[]\n",
        "    for i in correlation_coff:\n",
        "        if correlation_coff[i]==max_coff:\n",
        "            most_related.append(i)\n",
        "            del correlation_coff[i]\n",
        "            break\n",
        "    max_coff=max(correlation_coff.values())\n",
        "    for i in correlation_coff:\n",
        "        if correlation_coff[i]==max_coff:\n",
        "            most_related.append(i)\n",
        "            del correlation_coff[i]\n",
        "            break\n",
        "    max_coff=max(correlation_coff.values())\n",
        "    for i in correlation_coff:\n",
        "        if correlation_coff[i]==max_coff:\n",
        "            most_related.append(i)\n",
        "            del correlation_coff[i]\n",
        "            break\n",
        "    return most_related\n",
        "\n",
        "\n",
        "def Regression(data_set, input_variable_1, input_variable_2, input_variable_3, dependent_variable):\n",
        "    X=np.vstack((data_set[input_variable_1],data_set[input_variable_2], data_set[input_variable_3],np.ones(len(data_set[input_variable_1])))).T\n",
        "    y=np.array(data_set[dependent_variable])\n",
        "    weight=la.inv(X.T@X)@X.T@y\n",
        "    return weight\n"
      ],
      "metadata": {
        "id": "YcijZRuq2vxV"
      },
      "execution_count": 87,
      "outputs": []
    },
    {
      "cell_type": "code",
      "source": [
        "most_related=Most_Related(df_cleaned, \"Systolic BP\")\n",
        "\n",
        "\n",
        "w1 =Regression(df_cleaned, most_related[0], most_related[1],most_related[2], \"Systolic BP\" )\n",
        "\n",
        "\n",
        "predicted_systolic=[]\n",
        "for i in zip(df_cleaned[most_related[0]],df_cleaned[most_related[1]],df_cleaned[most_related[2]]):\n",
        "  predicted_systolic.append(w1[0]*i[0]+w1[1]*i[1]+w1[2]*i[2]+w1[3])\n",
        "predicted_systolic=np.array(predicted_systolic)\n",
        "actual_value=np.array(df_cleaned[\"Systolic BP\"])\n",
        "\n",
        "RMSE=mt.sqrt((sum((predicted_systolic-actual_value)**2))/len(predicted_systolic))\n",
        "print(\"RMSE(Systolic):\",RMSE)\n",
        "\n",
        "most_related=Most_Related(df_cleaned, \"Diastolic BP\")\n",
        "\n",
        "w2 =Regression(df_cleaned, most_related[0], most_related[1],most_related[2], \"Diastolic BP\" )\n",
        "\n",
        "predicted_diastolic=[]\n",
        "for i in zip(df_cleaned[most_related[0]],df_cleaned[most_related[1]],df_cleaned[most_related[2]]):\n",
        "  predicted_diastolic.append(w2[0]*i[0]+w2[1]*i[1]+w2[2]*i[2]+w2[3])\n",
        "predicted_diastolic=np.array(predicted_diastolic)\n",
        "actual_value=np.array(df_cleaned[\"Diastolic BP\"])\n",
        "\n",
        "RMSE=mt.sqrt((sum((predicted_diastolic-actual_value)**2))/len(predicted_diastolic))\n",
        "print(\"RMSE(Diastolic):\", RMSE)"
      ],
      "metadata": {
        "colab": {
          "base_uri": "https://localhost:8080/"
        },
        "id": "3eGkJKdc3KjC",
        "outputId": "6dac6488-fc3d-4285-f5bc-260a7c6ba1a1"
      },
      "execution_count": 88,
      "outputs": [
        {
          "output_type": "stream",
          "name": "stdout",
          "text": [
            "{'Average Daily Steps': 0.001632762871790961, 'Hours of Sleep': 0.001267396038390724, 'Caloric Intake': 0.6854008891109228, 'Age': 0.09373448577528029, 'Height': 0.028483964892483882, 'Weight': 0.07285970991572863, 'Cholesterol level': 0.3469191124724282, 'Blood Sugar level': 0.08811934277439917}\n",
            "RMSE(Systolic): 19.478649360334966\n",
            "{'Average Daily Steps': 0.0019706649254105373, 'Hours of Sleep': 0.0005244778826330256, 'Caloric Intake': 0.7023798028474267, 'Age': 0.14228949460941523, 'Height': 0.07035530865452011, 'Weight': 0.08238676076909922, 'Cholesterol level': 0.4563110987201556, 'Blood Sugar level': 0.15768218894077995}\n",
            "RMSE(Diastolic): 8.921945778283622\n"
          ]
        }
      ]
    },
    {
      "cell_type": "code",
      "source": [
        "predicted_systolic=[]\n",
        "\n",
        "most_related=Most_Related(df_cleaned, \"Systolic BP\")\n",
        "\n",
        "for i in zip(df_test[most_related[0]],df_test[most_related[1]],df_test[most_related[2]]):\n",
        "  predicted_systolic.append(w1[0]*i[0]+w1[1]*i[1]+w1[2]*i[2]+w1[3])\n",
        "predicted_systolic=np.array(predicted_systolic)\n",
        "\n",
        "df_test[\"Systolic BP\"]=predicted_systolic\n",
        "\n",
        "\n",
        "predicted_diastolic=[]\n",
        "most_related=Most_Related(df_cleaned, \"Diastolic BP\")\n",
        "for i in zip(df_test[most_related[0]],df_test[most_related[1]],df_test[most_related[2]]):\n",
        "  predicted_diastolic.append(w2[0]*i[0]+w2[1]*i[1]+w2[2]*i[2]+w2[3])\n",
        "predicted_diastolic=np.array(predicted_diastolic)\n",
        "\n",
        "df_test[\"Diastolic BP\"]=predicted_diastolic\n"
      ],
      "metadata": {
        "colab": {
          "base_uri": "https://localhost:8080/"
        },
        "id": "q3lPYXWPJ0YL",
        "outputId": "d2743db1-92ab-4bc6-f6e2-36ee53f80dd3"
      },
      "execution_count": 89,
      "outputs": [
        {
          "output_type": "stream",
          "name": "stdout",
          "text": [
            "{'Average Daily Steps': 0.001632762871790961, 'Hours of Sleep': 0.001267396038390724, 'Caloric Intake': 0.6854008891109228, 'Age': 0.09373448577528029, 'Height': 0.028483964892483882, 'Weight': 0.07285970991572863, 'Cholesterol level': 0.3469191124724282, 'Blood Sugar level': 0.08811934277439917}\n",
            "{'Average Daily Steps': 0.0019706649254105373, 'Hours of Sleep': 0.0005244778826330256, 'Caloric Intake': 0.7023798028474267, 'Age': 0.14228949460941523, 'Height': 0.07035530865452011, 'Weight': 0.08238676076909922, 'Cholesterol level': 0.4563110987201556, 'Blood Sugar level': 0.15768218894077995}\n"
          ]
        }
      ]
    },
    {
      "cell_type": "code",
      "source": [
        "print(df_test)\n",
        "df_test_new=df_test.iloc[:,9:]\n",
        "print(df_test_new)\n",
        "df_test_new[\"ID\"]=np.arange(0,5000,1)\n",
        "df_test_new.to_csv(\"Kaggle.csv\",index=True)"
      ],
      "metadata": {
        "colab": {
          "base_uri": "https://localhost:8080/"
        },
        "id": "5xuCIxndP6Db",
        "outputId": "d78f4ebb-d6b8-4ce1-9ef7-0d73d0b4a600"
      },
      "execution_count": 90,
      "outputs": [
        {
          "output_type": "stream",
          "name": "stdout",
          "text": [
            "      Average Daily Steps  Hours of Sleep  Caloric Intake  Age  Gender  \\\n",
            "0                   14459        4.787873            1422   56    Male   \n",
            "1                    6646        6.144477            3381   69  Female   \n",
            "2                   12495        9.864741            2864   46  Female   \n",
            "3                   19544        6.454921            2952   32  Female   \n",
            "4                    1650        4.849038            1687   60  Female   \n",
            "...                   ...             ...             ...  ...     ...   \n",
            "4995                16296        8.361073            3160   42  Female   \n",
            "4996                12484        6.889406            1559   39  Female   \n",
            "4997                18230        5.213463            2081   48  Female   \n",
            "4998                11509        7.284685            3244   34    Male   \n",
            "4999                15517        7.580033            2741   72  Female   \n",
            "\n",
            "          Height     Weight  Cholesterol level  Blood Sugar level  \\\n",
            "0     170.117262  57.856498         222.769227         112.364281   \n",
            "1     171.184727  98.528697         194.325423         115.866013   \n",
            "2     164.734031  62.169486         153.688573         102.192678   \n",
            "3     151.613392  98.789220         174.356722         106.499699   \n",
            "4     141.833224  51.349566         181.299242         108.521922   \n",
            "...          ...        ...                ...                ...   \n",
            "4995  168.474487  61.359622         219.888273          93.428692   \n",
            "4996  181.845207  98.758893         163.122351          97.640152   \n",
            "4997  158.024295  91.958512         171.020111         112.959223   \n",
            "4998  172.973942  78.329413         223.050456         101.397361   \n",
            "4999  151.342994  89.879635         202.270400         102.569490   \n",
            "\n",
            "      Systolic BP  Diastolic BP  \n",
            "0      189.853436     90.462390  \n",
            "1      226.527351    109.654120  \n",
            "2      193.354988     84.837738  \n",
            "3      204.722897     94.291707  \n",
            "4      177.192718     79.022448  \n",
            "...           ...           ...  \n",
            "4995   231.842041    109.732778  \n",
            "4996   164.514105     68.223955  \n",
            "4997   181.807234     82.236069  \n",
            "4998   235.117882    114.002890  \n",
            "4999   214.216468     99.909130  \n",
            "\n",
            "[5000 rows x 11 columns]\n",
            "      Systolic BP  Diastolic BP\n",
            "0      189.853436     90.462390\n",
            "1      226.527351    109.654120\n",
            "2      193.354988     84.837738\n",
            "3      204.722897     94.291707\n",
            "4      177.192718     79.022448\n",
            "...           ...           ...\n",
            "4995   231.842041    109.732778\n",
            "4996   164.514105     68.223955\n",
            "4997   181.807234     82.236069\n",
            "4998   235.117882    114.002890\n",
            "4999   214.216468     99.909130\n",
            "\n",
            "[5000 rows x 2 columns]\n"
          ]
        }
      ]
    },
    {
      "cell_type": "code",
      "source": [
        "from scipy.stats import multivariate_normal\n",
        "\n",
        "df_cleaned=df_cleaned.drop(labels=[\"Gender\"], axis=1)\n",
        "\n",
        "\n",
        "\n",
        "def Covariance_Matrix(data):\n",
        "    data=data.iloc[:,:10]\n",
        "    means = np.mean(data, axis=0)\n",
        "    num_obs = data.shape[0]\n",
        "    covariance_matrix = (data - means).T.dot(data - means) / (num_obs - 1)\n",
        "\n",
        "    return np.array(covariance_matrix)\n",
        "\n",
        "def Mean(data):\n",
        "    means = np.mean(data, axis=0)\n",
        "    return means\n",
        "def Class_Extraction(data_set, class_name):\n",
        "    class_set=data_set.loc[data_set[\"LifeStyle\"]==class_name]\n",
        "    mean_arr=Mean(np.array(class_set.iloc[:,:10]))\n",
        "    cov_mat=Covariance_Matrix(class_set)\n",
        "    return mean_arr,cov_mat\n",
        "classes=[\"Great\", \"Good\", \"Average\", \"Bad\"]\n",
        "mean_dict={}\n",
        "cov_mat={}\n",
        "for i in classes:\n",
        "    mean_dict[i],cov_mat[i]=Class_Extraction(df_cleaned,i)\n",
        "\n",
        "true_class_lables_train=np.array(df_cleaned.iloc[:,10])\n",
        "\n",
        "class_probabilities_train={}\n",
        "for i in true_class_lables_train:\n",
        "    if i in class_probabilities_train:\n",
        "        class_probabilities_train[i]+=1\n",
        "    else:\n",
        "        class_probabilities_train[i]=1\n",
        "for i in class_probabilities_train:\n",
        "    class_probabilities_train[i]/=len(np.array(df_cleaned))\n",
        "\n",
        "predicted_class_lables=[]\n",
        "df_test=df_test.drop([\"Gender\"], axis=1)\n",
        "test_set=np.array(df_test)\n",
        "train_set=np.array(df_cleaned.iloc[:,:10])\n",
        "for i in train_set:\n",
        "    predictions={}\n",
        "    for j in classes:\n",
        "        #likelihood=(1/(mt.pow((2*mt.pi),4.5)*mt.sqrt(determinant)))*mt.exp(-0.5(i-mean_dict[j])@np.inv(cov_mat[j])@(i-mean_dict[j]).T)\n",
        "        likelihood=multivariate_normal(mean=mean_dict[j],cov=cov_mat[j]).pdf(i)\n",
        "        p=likelihood*class_probabilities_train[j]\n",
        "        predictions[j]=p\n",
        "    max_prob=max(predictions.values())\n",
        "    for j in predictions:\n",
        "        if predictions[j]==max_prob:\n",
        "            predicted_class_lables.append(j)\n",
        "            break\n",
        "\n",
        "predicted_class_lables=np.array(predicted_class_lables)\n",
        "\n"
      ],
      "metadata": {
        "id": "y6QPL-VHtImc"
      },
      "execution_count": 91,
      "outputs": []
    },
    {
      "cell_type": "code",
      "source": [
        "print(predicted_class_lables)\n",
        "print(true_class_lables_train)\n",
        "count=0\n",
        "for i in range(len(predicted_class_lables)):\n",
        "  if predicted_class_lables[i]==true_class_lables_train[i]:\n",
        "    count+=1\n",
        "print(\"Accuracy(training data)(%)=\",count/len(predicted_class_lables)*100)"
      ],
      "metadata": {
        "colab": {
          "base_uri": "https://localhost:8080/"
        },
        "id": "YFxR5h3lByHQ",
        "outputId": "7652f4c9-c6a1-4cfb-feb1-2b267ca6c0af"
      },
      "execution_count": 92,
      "outputs": [
        {
          "output_type": "stream",
          "name": "stdout",
          "text": [
            "['Average' 'Bad' 'Bad' ... 'Good' 'Good' 'Bad']\n",
            "['Average' 'Bad' 'Average' ... 'Great' 'Good' 'Bad']\n",
            "Accuracy(training data)(%)= 76.73424280305089\n"
          ]
        }
      ]
    },
    {
      "cell_type": "code",
      "source": [
        "predicted_class_lables=[]\n",
        "for i in test_set:\n",
        "    predictions={}\n",
        "    for j in classes:\n",
        "        #likelihood=(1/(mt.pow((2*mt.pi),4.5)*mt.sqrt(determinant)))*mt.exp(-0.5(i-mean_dict[j])@np.inv(cov_mat[j])@(i-mean_dict[j]).T)\n",
        "        likelihood=multivariate_normal(mean=mean_dict[j],cov=cov_mat[j]).pdf(i)\n",
        "        p=likelihood*class_probabilities_train[j]\n",
        "        predictions[j]=p\n",
        "    max_prob=max(predictions.values())\n",
        "    for j in predictions:\n",
        "        if predictions[j]==max_prob:\n",
        "            predicted_class_lables.append(j)\n",
        "            break\n",
        "\n",
        "predicted_class_lables=np.array(predicted_class_lables)\n",
        "\n",
        "df_test[\"LifeStyle\"]=predicted_class_lables\n",
        "print(df_test)\n",
        "df_test_new_2=df_test[\"LifeStyle\"]\n",
        "df_test_new_2.to_csv(\"LifeStyle.csv\")"
      ],
      "metadata": {
        "colab": {
          "base_uri": "https://localhost:8080/"
        },
        "id": "OB7BnfAmEE2b",
        "outputId": "8ed9ae6f-67fc-4369-fdfc-a834e61fb515"
      },
      "execution_count": 93,
      "outputs": [
        {
          "output_type": "stream",
          "name": "stdout",
          "text": [
            "      Average Daily Steps  Hours of Sleep  Caloric Intake  Age      Height  \\\n",
            "0                   14459        4.787873            1422   56  170.117262   \n",
            "1                    6646        6.144477            3381   69  171.184727   \n",
            "2                   12495        9.864741            2864   46  164.734031   \n",
            "3                   19544        6.454921            2952   32  151.613392   \n",
            "4                    1650        4.849038            1687   60  141.833224   \n",
            "...                   ...             ...             ...  ...         ...   \n",
            "4995                16296        8.361073            3160   42  168.474487   \n",
            "4996                12484        6.889406            1559   39  181.845207   \n",
            "4997                18230        5.213463            2081   48  158.024295   \n",
            "4998                11509        7.284685            3244   34  172.973942   \n",
            "4999                15517        7.580033            2741   72  151.342994   \n",
            "\n",
            "         Weight  Cholesterol level  Blood Sugar level  Systolic BP  \\\n",
            "0     57.856498         222.769227         112.364281   189.853436   \n",
            "1     98.528697         194.325423         115.866013   226.527351   \n",
            "2     62.169486         153.688573         102.192678   193.354988   \n",
            "3     98.789220         174.356722         106.499699   204.722897   \n",
            "4     51.349566         181.299242         108.521922   177.192718   \n",
            "...         ...                ...                ...          ...   \n",
            "4995  61.359622         219.888273          93.428692   231.842041   \n",
            "4996  98.758893         163.122351          97.640152   164.514105   \n",
            "4997  91.958512         171.020111         112.959223   181.807234   \n",
            "4998  78.329413         223.050456         101.397361   235.117882   \n",
            "4999  89.879635         202.270400         102.569490   214.216468   \n",
            "\n",
            "      Diastolic BP LifeStyle  \n",
            "0        90.462390       Bad  \n",
            "1       109.654120       Bad  \n",
            "2        84.837738   Average  \n",
            "3        94.291707       Bad  \n",
            "4        79.022448       Bad  \n",
            "...            ...       ...  \n",
            "4995    109.732778       Bad  \n",
            "4996     68.223955   Average  \n",
            "4997     82.236069       Bad  \n",
            "4998    114.002890       Bad  \n",
            "4999     99.909130       Bad  \n",
            "\n",
            "[5000 rows x 11 columns]\n"
          ]
        }
      ]
    },
    {
      "cell_type": "code",
      "source": [
        "df_test_new_2[\"ID\"]=np.arange(0,5000,1)\n",
        "df_test_new_2.to_csv(\"LifeStyle.csv\",index=True)"
      ],
      "metadata": {
        "colab": {
          "base_uri": "https://localhost:8080/"
        },
        "id": "FRqdnS9WGCr6",
        "outputId": "34d83721-3342-427a-efc4-0137b2a80f6d"
      },
      "execution_count": 94,
      "outputs": [
        {
          "output_type": "stream",
          "name": "stderr",
          "text": [
            "<ipython-input-94-1e66bd9b2540>:1: SettingWithCopyWarning: \n",
            "A value is trying to be set on a copy of a slice from a DataFrame\n",
            "\n",
            "See the caveats in the documentation: https://pandas.pydata.org/pandas-docs/stable/user_guide/indexing.html#returning-a-view-versus-a-copy\n",
            "  df_test_new_2[\"ID\"]=np.arange(0,5000,1)\n"
          ]
        }
      ]
    }
  ]
}