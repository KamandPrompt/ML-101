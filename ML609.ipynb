{
  "nbformat": 4,
  "nbformat_minor": 0,
  "metadata": {
    "colab": {
      "provenance": []
    },
    "kernelspec": {
      "name": "python3",
      "display_name": "Python 3"
    },
    "language_info": {
      "name": "python"
    }
  },
  "cells": [
    {
      "cell_type": "code",
      "execution_count": null,
      "metadata": {
        "id": "6nypPblaoGQz"
      },
      "outputs": [],
      "source": [
        "#Importing Necessary Libraries\n",
        "\n",
        "\n",
        "import pandas as pd\n",
        "import numpy as np\n",
        "import matplotlib.pyplot as plt\n",
        "from sklearn.ensemble import RandomForestClassifier\n",
        "from sklearn.ensemble import RandomForestRegressor\n",
        "from sklearn.model_selection import train_test_split, RandomizedSearchCV\n",
        "from sklearn.metrics import classification_report\n",
        "from sklearn.metrics import mean_squared_error"
      ]
    },
    {
      "cell_type": "code",
      "source": [
        "from google.colab import drive\n",
        "drive.mount('/content/drive')"
      ],
      "metadata": {
        "colab": {
          "base_uri": "https://localhost:8080/"
        },
        "id": "URua5ibBoJrE",
        "outputId": "abc51eee-148c-4368-b9eb-dce78a050aba"
      },
      "execution_count": null,
      "outputs": [
        {
          "output_type": "stream",
          "name": "stdout",
          "text": [
            "Mounted at /content/drive\n"
          ]
        }
      ]
    },
    {
      "cell_type": "code",
      "source": [
        "path=\"/content/drive/MyDrive/ML101_train_dataset.csv\"\n",
        "df=pd.read_csv(path)"
      ],
      "metadata": {
        "id": "BPjBFpOxoLD7"
      },
      "execution_count": null,
      "outputs": []
    },
    {
      "cell_type": "markdown",
      "source": [
        "Visualizing Training Data"
      ],
      "metadata": {
        "id": "0QhSkdXFg8V1"
      }
    },
    {
      "cell_type": "code",
      "source": [
        "df.head()\n"
      ],
      "metadata": {
        "colab": {
          "base_uri": "https://localhost:8080/",
          "height": 241
        },
        "id": "QDpQPecupDnB",
        "outputId": "846ec365-d6ee-47b8-b1fa-6996cd7f6e96"
      },
      "execution_count": null,
      "outputs": [
        {
          "output_type": "execute_result",
          "data": {
            "text/plain": [
              "   Average Daily Steps  Hours of Sleep  Caloric Intake   Age  Gender  \\\n",
              "0              15725.0        6.518042          1714.0  56.0    Male   \n",
              "1               6733.0        9.176300          2508.0  69.0  Female   \n",
              "2               7424.0        4.856772          1366.0  46.0    Male   \n",
              "3              11853.0        9.727244          2189.0  32.0  Female   \n",
              "4               7521.0        6.433183          2342.0   NaN     NaN   \n",
              "\n",
              "       Height     Weight  Cholesterol level  Blood Sugar level  Systolic BP  \\\n",
              "0  178.416872  75.489346         185.408550         104.442836   172.813045   \n",
              "1  176.826592  54.635484         191.698148                NaN   198.729261   \n",
              "2  182.281966  63.578372         212.625051         106.649132   172.905053   \n",
              "3         NaN  59.397202         205.440351         121.982302   204.527361   \n",
              "4  145.273232  62.574740         161.368583         126.408787   187.882666   \n",
              "\n",
              "   Diastolic BP LifeStyle  \n",
              "0     75.552416   Average  \n",
              "1   -103.634282   Average  \n",
              "2     87.816911       Bad  \n",
              "3     99.791603       NaN  \n",
              "4     88.240932   Average  "
            ],
            "text/html": [
              "\n",
              "  <div id=\"df-87a239a4-9ddc-4108-9c03-7f4d897eaa1b\" class=\"colab-df-container\">\n",
              "    <div>\n",
              "<style scoped>\n",
              "    .dataframe tbody tr th:only-of-type {\n",
              "        vertical-align: middle;\n",
              "    }\n",
              "\n",
              "    .dataframe tbody tr th {\n",
              "        vertical-align: top;\n",
              "    }\n",
              "\n",
              "    .dataframe thead th {\n",
              "        text-align: right;\n",
              "    }\n",
              "</style>\n",
              "<table border=\"1\" class=\"dataframe\">\n",
              "  <thead>\n",
              "    <tr style=\"text-align: right;\">\n",
              "      <th></th>\n",
              "      <th>Average Daily Steps</th>\n",
              "      <th>Hours of Sleep</th>\n",
              "      <th>Caloric Intake</th>\n",
              "      <th>Age</th>\n",
              "      <th>Gender</th>\n",
              "      <th>Height</th>\n",
              "      <th>Weight</th>\n",
              "      <th>Cholesterol level</th>\n",
              "      <th>Blood Sugar level</th>\n",
              "      <th>Systolic BP</th>\n",
              "      <th>Diastolic BP</th>\n",
              "      <th>LifeStyle</th>\n",
              "    </tr>\n",
              "  </thead>\n",
              "  <tbody>\n",
              "    <tr>\n",
              "      <th>0</th>\n",
              "      <td>15725.0</td>\n",
              "      <td>6.518042</td>\n",
              "      <td>1714.0</td>\n",
              "      <td>56.0</td>\n",
              "      <td>Male</td>\n",
              "      <td>178.416872</td>\n",
              "      <td>75.489346</td>\n",
              "      <td>185.408550</td>\n",
              "      <td>104.442836</td>\n",
              "      <td>172.813045</td>\n",
              "      <td>75.552416</td>\n",
              "      <td>Average</td>\n",
              "    </tr>\n",
              "    <tr>\n",
              "      <th>1</th>\n",
              "      <td>6733.0</td>\n",
              "      <td>9.176300</td>\n",
              "      <td>2508.0</td>\n",
              "      <td>69.0</td>\n",
              "      <td>Female</td>\n",
              "      <td>176.826592</td>\n",
              "      <td>54.635484</td>\n",
              "      <td>191.698148</td>\n",
              "      <td>NaN</td>\n",
              "      <td>198.729261</td>\n",
              "      <td>-103.634282</td>\n",
              "      <td>Average</td>\n",
              "    </tr>\n",
              "    <tr>\n",
              "      <th>2</th>\n",
              "      <td>7424.0</td>\n",
              "      <td>4.856772</td>\n",
              "      <td>1366.0</td>\n",
              "      <td>46.0</td>\n",
              "      <td>Male</td>\n",
              "      <td>182.281966</td>\n",
              "      <td>63.578372</td>\n",
              "      <td>212.625051</td>\n",
              "      <td>106.649132</td>\n",
              "      <td>172.905053</td>\n",
              "      <td>87.816911</td>\n",
              "      <td>Bad</td>\n",
              "    </tr>\n",
              "    <tr>\n",
              "      <th>3</th>\n",
              "      <td>11853.0</td>\n",
              "      <td>9.727244</td>\n",
              "      <td>2189.0</td>\n",
              "      <td>32.0</td>\n",
              "      <td>Female</td>\n",
              "      <td>NaN</td>\n",
              "      <td>59.397202</td>\n",
              "      <td>205.440351</td>\n",
              "      <td>121.982302</td>\n",
              "      <td>204.527361</td>\n",
              "      <td>99.791603</td>\n",
              "      <td>NaN</td>\n",
              "    </tr>\n",
              "    <tr>\n",
              "      <th>4</th>\n",
              "      <td>7521.0</td>\n",
              "      <td>6.433183</td>\n",
              "      <td>2342.0</td>\n",
              "      <td>NaN</td>\n",
              "      <td>NaN</td>\n",
              "      <td>145.273232</td>\n",
              "      <td>62.574740</td>\n",
              "      <td>161.368583</td>\n",
              "      <td>126.408787</td>\n",
              "      <td>187.882666</td>\n",
              "      <td>88.240932</td>\n",
              "      <td>Average</td>\n",
              "    </tr>\n",
              "  </tbody>\n",
              "</table>\n",
              "</div>\n",
              "    <div class=\"colab-df-buttons\">\n",
              "\n",
              "  <div class=\"colab-df-container\">\n",
              "    <button class=\"colab-df-convert\" onclick=\"convertToInteractive('df-87a239a4-9ddc-4108-9c03-7f4d897eaa1b')\"\n",
              "            title=\"Convert this dataframe to an interactive table.\"\n",
              "            style=\"display:none;\">\n",
              "\n",
              "  <svg xmlns=\"http://www.w3.org/2000/svg\" height=\"24px\" viewBox=\"0 -960 960 960\">\n",
              "    <path d=\"M120-120v-720h720v720H120Zm60-500h600v-160H180v160Zm220 220h160v-160H400v160Zm0 220h160v-160H400v160ZM180-400h160v-160H180v160Zm440 0h160v-160H620v160ZM180-180h160v-160H180v160Zm440 0h160v-160H620v160Z\"/>\n",
              "  </svg>\n",
              "    </button>\n",
              "\n",
              "  <style>\n",
              "    .colab-df-container {\n",
              "      display:flex;\n",
              "      gap: 12px;\n",
              "    }\n",
              "\n",
              "    .colab-df-convert {\n",
              "      background-color: #E8F0FE;\n",
              "      border: none;\n",
              "      border-radius: 50%;\n",
              "      cursor: pointer;\n",
              "      display: none;\n",
              "      fill: #1967D2;\n",
              "      height: 32px;\n",
              "      padding: 0 0 0 0;\n",
              "      width: 32px;\n",
              "    }\n",
              "\n",
              "    .colab-df-convert:hover {\n",
              "      background-color: #E2EBFA;\n",
              "      box-shadow: 0px 1px 2px rgba(60, 64, 67, 0.3), 0px 1px 3px 1px rgba(60, 64, 67, 0.15);\n",
              "      fill: #174EA6;\n",
              "    }\n",
              "\n",
              "    .colab-df-buttons div {\n",
              "      margin-bottom: 4px;\n",
              "    }\n",
              "\n",
              "    [theme=dark] .colab-df-convert {\n",
              "      background-color: #3B4455;\n",
              "      fill: #D2E3FC;\n",
              "    }\n",
              "\n",
              "    [theme=dark] .colab-df-convert:hover {\n",
              "      background-color: #434B5C;\n",
              "      box-shadow: 0px 1px 3px 1px rgba(0, 0, 0, 0.15);\n",
              "      filter: drop-shadow(0px 1px 2px rgba(0, 0, 0, 0.3));\n",
              "      fill: #FFFFFF;\n",
              "    }\n",
              "  </style>\n",
              "\n",
              "    <script>\n",
              "      const buttonEl =\n",
              "        document.querySelector('#df-87a239a4-9ddc-4108-9c03-7f4d897eaa1b button.colab-df-convert');\n",
              "      buttonEl.style.display =\n",
              "        google.colab.kernel.accessAllowed ? 'block' : 'none';\n",
              "\n",
              "      async function convertToInteractive(key) {\n",
              "        const element = document.querySelector('#df-87a239a4-9ddc-4108-9c03-7f4d897eaa1b');\n",
              "        const dataTable =\n",
              "          await google.colab.kernel.invokeFunction('convertToInteractive',\n",
              "                                                    [key], {});\n",
              "        if (!dataTable) return;\n",
              "\n",
              "        const docLinkHtml = 'Like what you see? Visit the ' +\n",
              "          '<a target=\"_blank\" href=https://colab.research.google.com/notebooks/data_table.ipynb>data table notebook</a>'\n",
              "          + ' to learn more about interactive tables.';\n",
              "        element.innerHTML = '';\n",
              "        dataTable['output_type'] = 'display_data';\n",
              "        await google.colab.output.renderOutput(dataTable, element);\n",
              "        const docLink = document.createElement('div');\n",
              "        docLink.innerHTML = docLinkHtml;\n",
              "        element.appendChild(docLink);\n",
              "      }\n",
              "    </script>\n",
              "  </div>\n",
              "\n",
              "\n",
              "<div id=\"df-cebaf954-e79a-4e13-a6e5-878727432594\">\n",
              "  <button class=\"colab-df-quickchart\" onclick=\"quickchart('df-cebaf954-e79a-4e13-a6e5-878727432594')\"\n",
              "            title=\"Suggest charts.\"\n",
              "            style=\"display:none;\">\n",
              "\n",
              "<svg xmlns=\"http://www.w3.org/2000/svg\" height=\"24px\"viewBox=\"0 0 24 24\"\n",
              "     width=\"24px\">\n",
              "    <g>\n",
              "        <path d=\"M19 3H5c-1.1 0-2 .9-2 2v14c0 1.1.9 2 2 2h14c1.1 0 2-.9 2-2V5c0-1.1-.9-2-2-2zM9 17H7v-7h2v7zm4 0h-2V7h2v10zm4 0h-2v-4h2v4z\"/>\n",
              "    </g>\n",
              "</svg>\n",
              "  </button>\n",
              "\n",
              "<style>\n",
              "  .colab-df-quickchart {\n",
              "      --bg-color: #E8F0FE;\n",
              "      --fill-color: #1967D2;\n",
              "      --hover-bg-color: #E2EBFA;\n",
              "      --hover-fill-color: #174EA6;\n",
              "      --disabled-fill-color: #AAA;\n",
              "      --disabled-bg-color: #DDD;\n",
              "  }\n",
              "\n",
              "  [theme=dark] .colab-df-quickchart {\n",
              "      --bg-color: #3B4455;\n",
              "      --fill-color: #D2E3FC;\n",
              "      --hover-bg-color: #434B5C;\n",
              "      --hover-fill-color: #FFFFFF;\n",
              "      --disabled-bg-color: #3B4455;\n",
              "      --disabled-fill-color: #666;\n",
              "  }\n",
              "\n",
              "  .colab-df-quickchart {\n",
              "    background-color: var(--bg-color);\n",
              "    border: none;\n",
              "    border-radius: 50%;\n",
              "    cursor: pointer;\n",
              "    display: none;\n",
              "    fill: var(--fill-color);\n",
              "    height: 32px;\n",
              "    padding: 0;\n",
              "    width: 32px;\n",
              "  }\n",
              "\n",
              "  .colab-df-quickchart:hover {\n",
              "    background-color: var(--hover-bg-color);\n",
              "    box-shadow: 0 1px 2px rgba(60, 64, 67, 0.3), 0 1px 3px 1px rgba(60, 64, 67, 0.15);\n",
              "    fill: var(--button-hover-fill-color);\n",
              "  }\n",
              "\n",
              "  .colab-df-quickchart-complete:disabled,\n",
              "  .colab-df-quickchart-complete:disabled:hover {\n",
              "    background-color: var(--disabled-bg-color);\n",
              "    fill: var(--disabled-fill-color);\n",
              "    box-shadow: none;\n",
              "  }\n",
              "\n",
              "  .colab-df-spinner {\n",
              "    border: 2px solid var(--fill-color);\n",
              "    border-color: transparent;\n",
              "    border-bottom-color: var(--fill-color);\n",
              "    animation:\n",
              "      spin 1s steps(1) infinite;\n",
              "  }\n",
              "\n",
              "  @keyframes spin {\n",
              "    0% {\n",
              "      border-color: transparent;\n",
              "      border-bottom-color: var(--fill-color);\n",
              "      border-left-color: var(--fill-color);\n",
              "    }\n",
              "    20% {\n",
              "      border-color: transparent;\n",
              "      border-left-color: var(--fill-color);\n",
              "      border-top-color: var(--fill-color);\n",
              "    }\n",
              "    30% {\n",
              "      border-color: transparent;\n",
              "      border-left-color: var(--fill-color);\n",
              "      border-top-color: var(--fill-color);\n",
              "      border-right-color: var(--fill-color);\n",
              "    }\n",
              "    40% {\n",
              "      border-color: transparent;\n",
              "      border-right-color: var(--fill-color);\n",
              "      border-top-color: var(--fill-color);\n",
              "    }\n",
              "    60% {\n",
              "      border-color: transparent;\n",
              "      border-right-color: var(--fill-color);\n",
              "    }\n",
              "    80% {\n",
              "      border-color: transparent;\n",
              "      border-right-color: var(--fill-color);\n",
              "      border-bottom-color: var(--fill-color);\n",
              "    }\n",
              "    90% {\n",
              "      border-color: transparent;\n",
              "      border-bottom-color: var(--fill-color);\n",
              "    }\n",
              "  }\n",
              "</style>\n",
              "\n",
              "  <script>\n",
              "    async function quickchart(key) {\n",
              "      const quickchartButtonEl =\n",
              "        document.querySelector('#' + key + ' button');\n",
              "      quickchartButtonEl.disabled = true;  // To prevent multiple clicks.\n",
              "      quickchartButtonEl.classList.add('colab-df-spinner');\n",
              "      try {\n",
              "        const charts = await google.colab.kernel.invokeFunction(\n",
              "            'suggestCharts', [key], {});\n",
              "      } catch (error) {\n",
              "        console.error('Error during call to suggestCharts:', error);\n",
              "      }\n",
              "      quickchartButtonEl.classList.remove('colab-df-spinner');\n",
              "      quickchartButtonEl.classList.add('colab-df-quickchart-complete');\n",
              "    }\n",
              "    (() => {\n",
              "      let quickchartButtonEl =\n",
              "        document.querySelector('#df-cebaf954-e79a-4e13-a6e5-878727432594 button');\n",
              "      quickchartButtonEl.style.display =\n",
              "        google.colab.kernel.accessAllowed ? 'block' : 'none';\n",
              "    })();\n",
              "  </script>\n",
              "</div>\n",
              "    </div>\n",
              "  </div>\n"
            ]
          },
          "metadata": {},
          "execution_count": 36
        }
      ]
    },
    {
      "cell_type": "code",
      "source": [
        "df.columns"
      ],
      "metadata": {
        "colab": {
          "base_uri": "https://localhost:8080/"
        },
        "id": "3nsToIxkpJkd",
        "outputId": "f350afac-72f6-4385-da28-16b920389732"
      },
      "execution_count": null,
      "outputs": [
        {
          "output_type": "execute_result",
          "data": {
            "text/plain": [
              "Index(['Average Daily Steps', 'Hours of Sleep', 'Caloric Intake', 'Age',\n",
              "       'Gender', 'Height', 'Weight', 'Cholesterol level', 'Blood Sugar level',\n",
              "       'Systolic BP', 'Diastolic BP', 'LifeStyle'],\n",
              "      dtype='object')"
            ]
          },
          "metadata": {},
          "execution_count": 37
        }
      ]
    },
    {
      "cell_type": "code",
      "source": [
        "df_content=df[['Average Daily Steps', 'Hours of Sleep', 'Caloric Intake', 'Age',\n",
        "       'Gender', 'Height', 'Weight', 'Cholesterol level', 'Blood Sugar level']].copy()"
      ],
      "metadata": {
        "id": "P2oelBdQpgmD"
      },
      "execution_count": null,
      "outputs": []
    },
    {
      "cell_type": "code",
      "source": [
        "df_content.head()\n"
      ],
      "metadata": {
        "colab": {
          "base_uri": "https://localhost:8080/",
          "height": 224
        },
        "id": "XC2nZAzzpmoR",
        "outputId": "4dcbd344-e87c-46ff-bd0f-2035207ea488"
      },
      "execution_count": null,
      "outputs": [
        {
          "output_type": "execute_result",
          "data": {
            "text/plain": [
              "   Average Daily Steps  Hours of Sleep  Caloric Intake   Age  Gender  \\\n",
              "0              15725.0        6.518042          1714.0  56.0    Male   \n",
              "1               6733.0        9.176300          2508.0  69.0  Female   \n",
              "2               7424.0        4.856772          1366.0  46.0    Male   \n",
              "3              11853.0        9.727244          2189.0  32.0  Female   \n",
              "4               7521.0        6.433183          2342.0   NaN     NaN   \n",
              "\n",
              "       Height     Weight  Cholesterol level  Blood Sugar level  \n",
              "0  178.416872  75.489346         185.408550         104.442836  \n",
              "1  176.826592  54.635484         191.698148                NaN  \n",
              "2  182.281966  63.578372         212.625051         106.649132  \n",
              "3         NaN  59.397202         205.440351         121.982302  \n",
              "4  145.273232  62.574740         161.368583         126.408787  "
            ],
            "text/html": [
              "\n",
              "  <div id=\"df-2bf930f4-820c-4e45-8912-892d7ff9dfed\" class=\"colab-df-container\">\n",
              "    <div>\n",
              "<style scoped>\n",
              "    .dataframe tbody tr th:only-of-type {\n",
              "        vertical-align: middle;\n",
              "    }\n",
              "\n",
              "    .dataframe tbody tr th {\n",
              "        vertical-align: top;\n",
              "    }\n",
              "\n",
              "    .dataframe thead th {\n",
              "        text-align: right;\n",
              "    }\n",
              "</style>\n",
              "<table border=\"1\" class=\"dataframe\">\n",
              "  <thead>\n",
              "    <tr style=\"text-align: right;\">\n",
              "      <th></th>\n",
              "      <th>Average Daily Steps</th>\n",
              "      <th>Hours of Sleep</th>\n",
              "      <th>Caloric Intake</th>\n",
              "      <th>Age</th>\n",
              "      <th>Gender</th>\n",
              "      <th>Height</th>\n",
              "      <th>Weight</th>\n",
              "      <th>Cholesterol level</th>\n",
              "      <th>Blood Sugar level</th>\n",
              "    </tr>\n",
              "  </thead>\n",
              "  <tbody>\n",
              "    <tr>\n",
              "      <th>0</th>\n",
              "      <td>15725.0</td>\n",
              "      <td>6.518042</td>\n",
              "      <td>1714.0</td>\n",
              "      <td>56.0</td>\n",
              "      <td>Male</td>\n",
              "      <td>178.416872</td>\n",
              "      <td>75.489346</td>\n",
              "      <td>185.408550</td>\n",
              "      <td>104.442836</td>\n",
              "    </tr>\n",
              "    <tr>\n",
              "      <th>1</th>\n",
              "      <td>6733.0</td>\n",
              "      <td>9.176300</td>\n",
              "      <td>2508.0</td>\n",
              "      <td>69.0</td>\n",
              "      <td>Female</td>\n",
              "      <td>176.826592</td>\n",
              "      <td>54.635484</td>\n",
              "      <td>191.698148</td>\n",
              "      <td>NaN</td>\n",
              "    </tr>\n",
              "    <tr>\n",
              "      <th>2</th>\n",
              "      <td>7424.0</td>\n",
              "      <td>4.856772</td>\n",
              "      <td>1366.0</td>\n",
              "      <td>46.0</td>\n",
              "      <td>Male</td>\n",
              "      <td>182.281966</td>\n",
              "      <td>63.578372</td>\n",
              "      <td>212.625051</td>\n",
              "      <td>106.649132</td>\n",
              "    </tr>\n",
              "    <tr>\n",
              "      <th>3</th>\n",
              "      <td>11853.0</td>\n",
              "      <td>9.727244</td>\n",
              "      <td>2189.0</td>\n",
              "      <td>32.0</td>\n",
              "      <td>Female</td>\n",
              "      <td>NaN</td>\n",
              "      <td>59.397202</td>\n",
              "      <td>205.440351</td>\n",
              "      <td>121.982302</td>\n",
              "    </tr>\n",
              "    <tr>\n",
              "      <th>4</th>\n",
              "      <td>7521.0</td>\n",
              "      <td>6.433183</td>\n",
              "      <td>2342.0</td>\n",
              "      <td>NaN</td>\n",
              "      <td>NaN</td>\n",
              "      <td>145.273232</td>\n",
              "      <td>62.574740</td>\n",
              "      <td>161.368583</td>\n",
              "      <td>126.408787</td>\n",
              "    </tr>\n",
              "  </tbody>\n",
              "</table>\n",
              "</div>\n",
              "    <div class=\"colab-df-buttons\">\n",
              "\n",
              "  <div class=\"colab-df-container\">\n",
              "    <button class=\"colab-df-convert\" onclick=\"convertToInteractive('df-2bf930f4-820c-4e45-8912-892d7ff9dfed')\"\n",
              "            title=\"Convert this dataframe to an interactive table.\"\n",
              "            style=\"display:none;\">\n",
              "\n",
              "  <svg xmlns=\"http://www.w3.org/2000/svg\" height=\"24px\" viewBox=\"0 -960 960 960\">\n",
              "    <path d=\"M120-120v-720h720v720H120Zm60-500h600v-160H180v160Zm220 220h160v-160H400v160Zm0 220h160v-160H400v160ZM180-400h160v-160H180v160Zm440 0h160v-160H620v160ZM180-180h160v-160H180v160Zm440 0h160v-160H620v160Z\"/>\n",
              "  </svg>\n",
              "    </button>\n",
              "\n",
              "  <style>\n",
              "    .colab-df-container {\n",
              "      display:flex;\n",
              "      gap: 12px;\n",
              "    }\n",
              "\n",
              "    .colab-df-convert {\n",
              "      background-color: #E8F0FE;\n",
              "      border: none;\n",
              "      border-radius: 50%;\n",
              "      cursor: pointer;\n",
              "      display: none;\n",
              "      fill: #1967D2;\n",
              "      height: 32px;\n",
              "      padding: 0 0 0 0;\n",
              "      width: 32px;\n",
              "    }\n",
              "\n",
              "    .colab-df-convert:hover {\n",
              "      background-color: #E2EBFA;\n",
              "      box-shadow: 0px 1px 2px rgba(60, 64, 67, 0.3), 0px 1px 3px 1px rgba(60, 64, 67, 0.15);\n",
              "      fill: #174EA6;\n",
              "    }\n",
              "\n",
              "    .colab-df-buttons div {\n",
              "      margin-bottom: 4px;\n",
              "    }\n",
              "\n",
              "    [theme=dark] .colab-df-convert {\n",
              "      background-color: #3B4455;\n",
              "      fill: #D2E3FC;\n",
              "    }\n",
              "\n",
              "    [theme=dark] .colab-df-convert:hover {\n",
              "      background-color: #434B5C;\n",
              "      box-shadow: 0px 1px 3px 1px rgba(0, 0, 0, 0.15);\n",
              "      filter: drop-shadow(0px 1px 2px rgba(0, 0, 0, 0.3));\n",
              "      fill: #FFFFFF;\n",
              "    }\n",
              "  </style>\n",
              "\n",
              "    <script>\n",
              "      const buttonEl =\n",
              "        document.querySelector('#df-2bf930f4-820c-4e45-8912-892d7ff9dfed button.colab-df-convert');\n",
              "      buttonEl.style.display =\n",
              "        google.colab.kernel.accessAllowed ? 'block' : 'none';\n",
              "\n",
              "      async function convertToInteractive(key) {\n",
              "        const element = document.querySelector('#df-2bf930f4-820c-4e45-8912-892d7ff9dfed');\n",
              "        const dataTable =\n",
              "          await google.colab.kernel.invokeFunction('convertToInteractive',\n",
              "                                                    [key], {});\n",
              "        if (!dataTable) return;\n",
              "\n",
              "        const docLinkHtml = 'Like what you see? Visit the ' +\n",
              "          '<a target=\"_blank\" href=https://colab.research.google.com/notebooks/data_table.ipynb>data table notebook</a>'\n",
              "          + ' to learn more about interactive tables.';\n",
              "        element.innerHTML = '';\n",
              "        dataTable['output_type'] = 'display_data';\n",
              "        await google.colab.output.renderOutput(dataTable, element);\n",
              "        const docLink = document.createElement('div');\n",
              "        docLink.innerHTML = docLinkHtml;\n",
              "        element.appendChild(docLink);\n",
              "      }\n",
              "    </script>\n",
              "  </div>\n",
              "\n",
              "\n",
              "<div id=\"df-41a12ea3-5e1a-45e4-8265-932149c35566\">\n",
              "  <button class=\"colab-df-quickchart\" onclick=\"quickchart('df-41a12ea3-5e1a-45e4-8265-932149c35566')\"\n",
              "            title=\"Suggest charts.\"\n",
              "            style=\"display:none;\">\n",
              "\n",
              "<svg xmlns=\"http://www.w3.org/2000/svg\" height=\"24px\"viewBox=\"0 0 24 24\"\n",
              "     width=\"24px\">\n",
              "    <g>\n",
              "        <path d=\"M19 3H5c-1.1 0-2 .9-2 2v14c0 1.1.9 2 2 2h14c1.1 0 2-.9 2-2V5c0-1.1-.9-2-2-2zM9 17H7v-7h2v7zm4 0h-2V7h2v10zm4 0h-2v-4h2v4z\"/>\n",
              "    </g>\n",
              "</svg>\n",
              "  </button>\n",
              "\n",
              "<style>\n",
              "  .colab-df-quickchart {\n",
              "      --bg-color: #E8F0FE;\n",
              "      --fill-color: #1967D2;\n",
              "      --hover-bg-color: #E2EBFA;\n",
              "      --hover-fill-color: #174EA6;\n",
              "      --disabled-fill-color: #AAA;\n",
              "      --disabled-bg-color: #DDD;\n",
              "  }\n",
              "\n",
              "  [theme=dark] .colab-df-quickchart {\n",
              "      --bg-color: #3B4455;\n",
              "      --fill-color: #D2E3FC;\n",
              "      --hover-bg-color: #434B5C;\n",
              "      --hover-fill-color: #FFFFFF;\n",
              "      --disabled-bg-color: #3B4455;\n",
              "      --disabled-fill-color: #666;\n",
              "  }\n",
              "\n",
              "  .colab-df-quickchart {\n",
              "    background-color: var(--bg-color);\n",
              "    border: none;\n",
              "    border-radius: 50%;\n",
              "    cursor: pointer;\n",
              "    display: none;\n",
              "    fill: var(--fill-color);\n",
              "    height: 32px;\n",
              "    padding: 0;\n",
              "    width: 32px;\n",
              "  }\n",
              "\n",
              "  .colab-df-quickchart:hover {\n",
              "    background-color: var(--hover-bg-color);\n",
              "    box-shadow: 0 1px 2px rgba(60, 64, 67, 0.3), 0 1px 3px 1px rgba(60, 64, 67, 0.15);\n",
              "    fill: var(--button-hover-fill-color);\n",
              "  }\n",
              "\n",
              "  .colab-df-quickchart-complete:disabled,\n",
              "  .colab-df-quickchart-complete:disabled:hover {\n",
              "    background-color: var(--disabled-bg-color);\n",
              "    fill: var(--disabled-fill-color);\n",
              "    box-shadow: none;\n",
              "  }\n",
              "\n",
              "  .colab-df-spinner {\n",
              "    border: 2px solid var(--fill-color);\n",
              "    border-color: transparent;\n",
              "    border-bottom-color: var(--fill-color);\n",
              "    animation:\n",
              "      spin 1s steps(1) infinite;\n",
              "  }\n",
              "\n",
              "  @keyframes spin {\n",
              "    0% {\n",
              "      border-color: transparent;\n",
              "      border-bottom-color: var(--fill-color);\n",
              "      border-left-color: var(--fill-color);\n",
              "    }\n",
              "    20% {\n",
              "      border-color: transparent;\n",
              "      border-left-color: var(--fill-color);\n",
              "      border-top-color: var(--fill-color);\n",
              "    }\n",
              "    30% {\n",
              "      border-color: transparent;\n",
              "      border-left-color: var(--fill-color);\n",
              "      border-top-color: var(--fill-color);\n",
              "      border-right-color: var(--fill-color);\n",
              "    }\n",
              "    40% {\n",
              "      border-color: transparent;\n",
              "      border-right-color: var(--fill-color);\n",
              "      border-top-color: var(--fill-color);\n",
              "    }\n",
              "    60% {\n",
              "      border-color: transparent;\n",
              "      border-right-color: var(--fill-color);\n",
              "    }\n",
              "    80% {\n",
              "      border-color: transparent;\n",
              "      border-right-color: var(--fill-color);\n",
              "      border-bottom-color: var(--fill-color);\n",
              "    }\n",
              "    90% {\n",
              "      border-color: transparent;\n",
              "      border-bottom-color: var(--fill-color);\n",
              "    }\n",
              "  }\n",
              "</style>\n",
              "\n",
              "  <script>\n",
              "    async function quickchart(key) {\n",
              "      const quickchartButtonEl =\n",
              "        document.querySelector('#' + key + ' button');\n",
              "      quickchartButtonEl.disabled = true;  // To prevent multiple clicks.\n",
              "      quickchartButtonEl.classList.add('colab-df-spinner');\n",
              "      try {\n",
              "        const charts = await google.colab.kernel.invokeFunction(\n",
              "            'suggestCharts', [key], {});\n",
              "      } catch (error) {\n",
              "        console.error('Error during call to suggestCharts:', error);\n",
              "      }\n",
              "      quickchartButtonEl.classList.remove('colab-df-spinner');\n",
              "      quickchartButtonEl.classList.add('colab-df-quickchart-complete');\n",
              "    }\n",
              "    (() => {\n",
              "      let quickchartButtonEl =\n",
              "        document.querySelector('#df-41a12ea3-5e1a-45e4-8265-932149c35566 button');\n",
              "      quickchartButtonEl.style.display =\n",
              "        google.colab.kernel.accessAllowed ? 'block' : 'none';\n",
              "    })();\n",
              "  </script>\n",
              "</div>\n",
              "    </div>\n",
              "  </div>\n"
            ]
          },
          "metadata": {},
          "execution_count": 39
        }
      ]
    },
    {
      "cell_type": "code",
      "source": [
        "df_content.info()"
      ],
      "metadata": {
        "colab": {
          "base_uri": "https://localhost:8080/"
        },
        "id": "unFJYX7npo4a",
        "outputId": "350111b0-887b-4b59-b886-b284f469cfac"
      },
      "execution_count": null,
      "outputs": [
        {
          "output_type": "stream",
          "name": "stdout",
          "text": [
            "<class 'pandas.core.frame.DataFrame'>\n",
            "RangeIndex: 100000 entries, 0 to 99999\n",
            "Data columns (total 9 columns):\n",
            " #   Column               Non-Null Count  Dtype  \n",
            "---  ------               --------------  -----  \n",
            " 0   Average Daily Steps  90000 non-null  float64\n",
            " 1   Hours of Sleep       90000 non-null  float64\n",
            " 2   Caloric Intake       90000 non-null  float64\n",
            " 3   Age                  90000 non-null  float64\n",
            " 4   Gender               90000 non-null  object \n",
            " 5   Height               90000 non-null  float64\n",
            " 6   Weight               90000 non-null  float64\n",
            " 7   Cholesterol level    90000 non-null  float64\n",
            " 8   Blood Sugar level    90000 non-null  float64\n",
            "dtypes: float64(8), object(1)\n",
            "memory usage: 6.9+ MB\n"
          ]
        }
      ]
    },
    {
      "cell_type": "code",
      "source": [
        "df_content[\"Gender\"] = np.where(df_content[\"Gender\"] == \"Female\", 0, 1)"
      ],
      "metadata": {
        "id": "q6caafqrpxcr"
      },
      "execution_count": null,
      "outputs": []
    },
    {
      "cell_type": "code",
      "source": [
        "df_content.info()\n"
      ],
      "metadata": {
        "colab": {
          "base_uri": "https://localhost:8080/"
        },
        "id": "DTVJXXEnp8U5",
        "outputId": "edd47fd6-7a04-42e7-e33d-f37a31193e8e"
      },
      "execution_count": null,
      "outputs": [
        {
          "output_type": "stream",
          "name": "stdout",
          "text": [
            "<class 'pandas.core.frame.DataFrame'>\n",
            "RangeIndex: 100000 entries, 0 to 99999\n",
            "Data columns (total 9 columns):\n",
            " #   Column               Non-Null Count   Dtype  \n",
            "---  ------               --------------   -----  \n",
            " 0   Average Daily Steps  90000 non-null   float64\n",
            " 1   Hours of Sleep       90000 non-null   float64\n",
            " 2   Caloric Intake       90000 non-null   float64\n",
            " 3   Age                  90000 non-null   float64\n",
            " 4   Gender               100000 non-null  int64  \n",
            " 5   Height               90000 non-null   float64\n",
            " 6   Weight               90000 non-null   float64\n",
            " 7   Cholesterol level    90000 non-null   float64\n",
            " 8   Blood Sugar level    90000 non-null   float64\n",
            "dtypes: float64(8), int64(1)\n",
            "memory usage: 6.9 MB\n"
          ]
        }
      ]
    },
    {
      "cell_type": "code",
      "source": [
        "import seaborn as sns"
      ],
      "metadata": {
        "id": "SUJo42yJp9-8"
      },
      "execution_count": null,
      "outputs": []
    },
    {
      "cell_type": "code",
      "source": [
        "sns.heatmap((df_content.corr(numeric_only=False)),cmap=\"YlGnBu\")  #Visualizing correlation between different input attributes"
      ],
      "metadata": {
        "colab": {
          "base_uri": "https://localhost:8080/",
          "height": 579
        },
        "id": "UgfMdRBIqLD7",
        "outputId": "836d2ff0-e426-49e1-d502-721d8389acb3"
      },
      "execution_count": null,
      "outputs": [
        {
          "output_type": "execute_result",
          "data": {
            "text/plain": [
              "<Axes: >"
            ]
          },
          "metadata": {},
          "execution_count": 44
        },
        {
          "output_type": "display_data",
          "data": {
            "text/plain": [
              "<Figure size 640x480 with 2 Axes>"
            ],
            "image/png": "[encoded data removed]"
          },
          "metadata": {}
        }
      ]
    },
    {
      "cell_type": "code",
      "source": [
        "fig, ax = plt.subplots(figsize =(10, 7))\n",
        "ax.hist(df['Average Daily Steps'])\n",
        "plt.show()"
      ],
      "metadata": {
        "colab": {
          "base_uri": "https://localhost:8080/",
          "height": 599
        },
        "id": "f-gs7hSss9Km",
        "outputId": "4efb756c-fbe3-41cd-cf83-f2220b8402b4"
      },
      "execution_count": null,
      "outputs": [
        {
          "output_type": "display_data",
          "data": {
            "text/plain": [
              "<Figure size 1000x700 with 1 Axes>"
            ],
            "image/png": "[encoded data removed]"
          },
          "metadata": {}
        }
      ]
    },
    {
      "cell_type": "code",
      "source": [
        "fig, ax = plt.subplots(figsize =(10, 7))\n",
        "ax.hist(df['Age'])\n",
        "plt.show()"
      ],
      "metadata": {
        "colab": {
          "base_uri": "https://localhost:8080/",
          "height": 599
        },
        "id": "mHpXmj_ttgOD",
        "outputId": "8501a075-61b6-459b-f85d-c4359d136f8d"
      },
      "execution_count": null,
      "outputs": [
        {
          "output_type": "display_data",
          "data": {
            "text/plain": [
              "<Figure size 1000x700 with 1 Axes>"
            ],
            "image/png": "[encoded data removed]"
          },
          "metadata": {}
        }
      ]
    },
    {
      "cell_type": "code",
      "source": [
        "from sklearn.linear_model import LogisticRegression"
      ],
      "metadata": {
        "id": "oQf-QTrGCrYX"
      },
      "execution_count": null,
      "outputs": []
    },
    {
      "cell_type": "markdown",
      "source": [
        "DATA PREPROCESSING"
      ],
      "metadata": {
        "id": "oOg_oZ86hRzG"
      }
    },
    {
      "cell_type": "code",
      "source": [
        "\n",
        "#Filling the NaN Values\n",
        "\n",
        "df_interpolate=df[['Average Daily Steps', 'Hours of Sleep', 'Caloric Intake', 'Age','Gender', 'Height', 'Weight', 'Cholesterol level', 'Blood Sugar level']].copy()\n",
        "\n",
        "columns_to_replace_nan = [ 'Height', 'Weight', 'Cholesterol level', 'Blood Sugar level']\n",
        "\n",
        "\n",
        "# Iterate through each column and replace NaN with the mean of the columns which have a Gaussian like distribution\n",
        "\n",
        "for column in columns_to_replace_nan:\n",
        "    mean_value = df_interpolate[column].mean()\n",
        "    df_interpolate[column].fillna(mean_value, inplace=True)\n",
        "\n",
        "\n",
        "# Linearly Interpolating to fill NaN values for attributes with uniform distribution\n",
        "columns_to_interpolate = ['Average Daily Steps', 'Hours of Sleep', 'Caloric Intake', 'Age']\n",
        "df_interpolate[columns_to_interpolate] = df_interpolate[columns_to_interpolate].interpolate(method='linear')\n",
        "\n",
        "df_missing = df_interpolate[df_interpolate['Gender'].isna()]\n",
        "df_not_missing = df_interpolate[~df_interpolate['Gender'].isna()]\n",
        "logistic_regression = LogisticRegression()\n",
        "\n",
        "\n",
        "#Using Logistic regression classifier to fill categorical data in Gender column\n",
        "\n",
        "logistic_regression.fit(df_not_missing[['Average Daily Steps', 'Hours of Sleep', 'Caloric Intake', 'Age','Height', 'Weight', 'Cholesterol level', 'Blood Sugar level']], df_not_missing['Gender'])\n",
        "\n",
        "predicted_values = logistic_regression.predict(df_missing[['Average Daily Steps', 'Hours of Sleep', 'Caloric Intake', 'Age','Height', 'Weight', 'Cholesterol level', 'Blood Sugar level']])\n",
        "\n",
        "df_interpolate.loc[df_interpolate['Gender'].isna(), 'Gender'] = predicted_values\n",
        "\n",
        "print(df_interpolate)\n",
        "plt.hist(df_interpolate['Gender'])\n",
        "\n",
        "\n",
        "df_interpolate['Systolic BP']=df['Systolic BP']\n",
        "df_interpolate['Diastolic BP']=df['Diastolic BP']\n",
        "df_interpolate['LifeStyle']=df['LifeStyle']"
      ],
      "metadata": {
        "colab": {
          "base_uri": "https://localhost:8080/",
          "height": 1000
        },
        "id": "i0R2Q9Bi-5bZ",
        "outputId": "2b2f2ef3-e86c-428f-edc8-93f741eca7c2"
      },
      "execution_count": null,
      "outputs": [
        {
          "output_type": "stream",
          "name": "stderr",
          "text": [
            "/usr/local/lib/python3.10/dist-packages/sklearn/linear_model/_logistic.py:458: ConvergenceWarning: lbfgs failed to converge (status=1):\n",
            "STOP: TOTAL NO. of ITERATIONS REACHED LIMIT.\n",
            "\n",
            "Increase the number of iterations (max_iter) or scale the data as shown in:\n",
            "    https://scikit-learn.org/stable/modules/preprocessing.html\n",
            "Please also refer to the documentation for alternative solver options:\n",
            "    https://scikit-learn.org/stable/modules/linear_model.html#logistic-regression\n",
            "  n_iter_i = _check_optimize_result(\n"
          ]
        },
        {
          "output_type": "stream",
          "name": "stdout",
          "text": [
            "       Average Daily Steps  Hours of Sleep  Caloric Intake   Age  Gender  \\\n",
            "0                  15725.0        6.518042          1714.0  56.0    Male   \n",
            "1                   6733.0        9.176300          2508.0  69.0  Female   \n",
            "2                   7424.0        4.856772          1366.0  46.0    Male   \n",
            "3                  11853.0        9.727244          2189.0  32.0  Female   \n",
            "4                   7521.0        6.433183          2342.0  28.5  Female   \n",
            "...                    ...             ...             ...   ...     ...   \n",
            "99995               2265.0        7.842720          2030.0  53.0    Male   \n",
            "99996              10959.0        9.661165          2233.0  22.0    Male   \n",
            "99997              11534.5        7.378317          2080.0  37.0    Male   \n",
            "99998              12110.0        9.843323          1434.0  72.0  Female   \n",
            "99999              18618.0        9.301179          3458.0  37.0    Male   \n",
            "\n",
            "           Height      Weight  Cholesterol level  Blood Sugar level  \n",
            "0      178.416872   75.489346         185.408550         104.442836  \n",
            "1      176.826592   54.635484         191.698148         104.851888  \n",
            "2      182.281966   63.578372         212.625051         106.649132  \n",
            "3      168.520316   59.397202         205.440351         121.982302  \n",
            "4      145.273232   62.574740         161.368583         126.408787  \n",
            "...           ...         ...                ...                ...  \n",
            "99995  182.202253   65.035350         212.133380         115.360556  \n",
            "99996  185.802297   63.457075         227.699267         112.321197  \n",
            "99997  168.520316   41.227254         224.300704         121.369845  \n",
            "99998  155.025779  106.908491         140.865132          94.524506  \n",
            "99999  180.716378   79.617356         177.339752          87.519145  \n",
            "\n",
            "[100000 rows x 9 columns]\n"
          ]
        },
        {
          "output_type": "display_data",
          "data": {
            "text/plain": [
              "<Figure size 640x480 with 1 Axes>"
            ],
            "image/png": "[encoded data removed]"
          },
          "metadata": {}
        }
      ]
    },
    {
      "cell_type": "code",
      "source": [
        "df_c_interpolated_KNN=df[['Average Daily Steps', 'Hours of Sleep', 'Caloric Intake', 'Age',\n",
        "       'Gender', 'Height', 'Weight', 'Cholesterol level', 'Blood Sugar level']].copy()"
      ],
      "metadata": {
        "id": "rQNlpTjd3LqP"
      },
      "execution_count": null,
      "outputs": []
    },
    {
      "cell_type": "code",
      "source": [
        "columns_to_replace_nan = [ 'Height', 'Weight', 'Cholesterol level', 'Blood Sugar level']\n",
        "\n",
        "# Iterate through each column and replace NaN with the mean of that column\n",
        "for column in columns_to_replace_nan:\n",
        "    mean_value = df_c_interpolated_KNN[column].mean()\n",
        "    df_c_interpolated_KNN[column].fillna(mean_value, inplace=True)\n",
        "\n",
        "\n",
        "df_c_interpolated_KNN.isnull().sum()\n",
        "plt.hist(df_c_interpolated_KNN['Weight'])"
      ],
      "metadata": {
        "colab": {
          "base_uri": "https://localhost:8080/",
          "height": 537
        },
        "id": "JtzeJET6_OQ1",
        "outputId": "7a98d449-1d50-4408-c40f-aeb086235ce3"
      },
      "execution_count": null,
      "outputs": [
        {
          "output_type": "execute_result",
          "data": {
            "text/plain": [
              "(array([1.9000e+01, 4.4600e+02, 3.3800e+03, 1.3628e+04, 2.7192e+04,\n",
              "        3.7500e+04, 1.3954e+04, 3.4300e+03, 4.2800e+02, 2.3000e+01]),\n",
              " array([  5.47885693,  18.37088561,  31.26291429,  44.15494297,\n",
              "         57.04697166,  69.93900034,  82.83102902,  95.7230577 ,\n",
              "        108.61508638, 121.50711507, 134.39914375]),\n",
              " <BarContainer object of 10 artists>)"
            ]
          },
          "metadata": {},
          "execution_count": 50
        },
        {
          "output_type": "display_data",
          "data": {
            "text/plain": [
              "<Figure size 640x480 with 1 Axes>"
            ],
            "image/png": "[encoded data removed]"
          },
          "metadata": {}
        }
      ]
    },
    {
      "cell_type": "code",
      "source": [
        "df_c_interpolated_KNN.isnull().sum()"
      ],
      "metadata": {
        "colab": {
          "base_uri": "https://localhost:8080/"
        },
        "id": "c9tCAPgX_X9J",
        "outputId": "9f71af42-7f3b-43a1-af40-30d1ebdaab9f"
      },
      "execution_count": null,
      "outputs": [
        {
          "output_type": "execute_result",
          "data": {
            "text/plain": [
              "Average Daily Steps    10000\n",
              "Hours of Sleep         10000\n",
              "Caloric Intake         10000\n",
              "Age                    10000\n",
              "Gender                 10000\n",
              "Height                     0\n",
              "Weight                     0\n",
              "Cholesterol level          0\n",
              "Blood Sugar level          0\n",
              "dtype: int64"
            ]
          },
          "metadata": {},
          "execution_count": 51
        }
      ]
    },
    {
      "cell_type": "code",
      "source": [
        "from sklearn.impute import KNNImputer"
      ],
      "metadata": {
        "id": "jMVQLd8c_qda"
      },
      "execution_count": null,
      "outputs": []
    },
    {
      "cell_type": "code",
      "source": [
        "\n",
        "#Using KNNimputer for uniform distribution NaN value replacement\n",
        "\n",
        "columns_to_interpolate_KNN = ['Average Daily Steps', 'Hours of Sleep', 'Caloric Intake', 'Age', 'Height', 'Weight', 'Cholesterol level', 'Blood Sugar level']\n",
        "\n",
        "X = df_c_interpolated_KNN[columns_to_interpolate_KNN]\n",
        "\n",
        "array = X.values\n",
        "\n",
        "imputer = KNNImputer(n_neighbors=11, weights=\"uniform\")\n",
        "\n",
        "df_imputed_array = imputer.fit_transform(array)\n",
        "\n",
        "df_corrected = pd.DataFrame(data=df_imputed_array, columns=columns_to_interpolate_KNN)\n",
        "\n",
        "print(df_corrected)\n",
        "\n",
        "#We made two datasets one with KNN imputer and other with Linerar interpolation to check which works better\n",
        "\n"
      ],
      "metadata": {
        "colab": {
          "base_uri": "https://localhost:8080/"
        },
        "id": "lAZ3d6fIAA3l",
        "outputId": "2e5c8779-67c5-4619-a2af-0d902d8d4950"
      },
      "execution_count": null,
      "outputs": [
        {
          "output_type": "stream",
          "name": "stdout",
          "text": [
            "       Average Daily Steps  Hours of Sleep  Caloric Intake        Age  \\\n",
            "0             15725.000000        6.518042          1714.0  56.000000   \n",
            "1              6733.000000        9.176300          2508.0  69.000000   \n",
            "2              7424.000000        4.856772          1366.0  46.000000   \n",
            "3             11853.000000        9.727244          2189.0  32.000000   \n",
            "4              7521.000000        6.433183          2342.0  50.545455   \n",
            "...                    ...             ...             ...        ...   \n",
            "99995          2265.000000        7.431135          2030.0  53.000000   \n",
            "99996         10959.000000        9.661165          2233.0  22.000000   \n",
            "99997          8865.545455        7.378317          2080.0  37.000000   \n",
            "99998         12110.000000        9.843323          1434.0  72.000000   \n",
            "99999         18618.000000        9.301179          3458.0  37.000000   \n",
            "\n",
            "           Height      Weight  Cholesterol level  Blood Sugar level  \n",
            "0      178.416872   75.489346         185.408550         104.442836  \n",
            "1      176.826592   54.635484         191.698148         104.851888  \n",
            "2      182.281966   63.578372         212.625051         106.649132  \n",
            "3      168.520316   59.397202         205.440351         121.982302  \n",
            "4      145.273232   62.574740         161.368583         126.408787  \n",
            "...           ...         ...                ...                ...  \n",
            "99995  182.202253   65.035350         212.133380         115.360556  \n",
            "99996  185.802297   63.457075         227.699267         112.321197  \n",
            "99997  168.520316   41.227254         224.300704         121.369845  \n",
            "99998  155.025779  106.908491         140.865132          94.524506  \n",
            "99999  180.716378   79.617356         177.339752          87.519145  \n",
            "\n",
            "[100000 rows x 8 columns]\n"
          ]
        }
      ]
    },
    {
      "cell_type": "code",
      "source": [
        "print(X)"
      ],
      "metadata": {
        "colab": {
          "base_uri": "https://localhost:8080/"
        },
        "id": "yvpZ9EtxA8Rq",
        "outputId": "bf06d11c-bc73-42f0-8204-614a1609ce59"
      },
      "execution_count": null,
      "outputs": [
        {
          "output_type": "stream",
          "name": "stdout",
          "text": [
            "       Average Daily Steps  Hours of Sleep  Caloric Intake   Age      Height  \\\n",
            "0                  15725.0        6.518042          1714.0  56.0  178.416872   \n",
            "1                   6733.0        9.176300          2508.0  69.0  176.826592   \n",
            "2                   7424.0        4.856772          1366.0  46.0  182.281966   \n",
            "3                  11853.0        9.727244          2189.0  32.0  168.520316   \n",
            "4                   7521.0        6.433183          2342.0   NaN  145.273232   \n",
            "...                    ...             ...             ...   ...         ...   \n",
            "99995               2265.0             NaN          2030.0  53.0  182.202253   \n",
            "99996              10959.0        9.661165          2233.0  22.0  185.802297   \n",
            "99997                  NaN        7.378317          2080.0  37.0  168.520316   \n",
            "99998              12110.0        9.843323          1434.0  72.0  155.025779   \n",
            "99999              18618.0        9.301179          3458.0  37.0  180.716378   \n",
            "\n",
            "           Weight  Cholesterol level  Blood Sugar level  \n",
            "0       75.489346         185.408550         104.442836  \n",
            "1       54.635484         191.698148         104.851888  \n",
            "2       63.578372         212.625051         106.649132  \n",
            "3       59.397202         205.440351         121.982302  \n",
            "4       62.574740         161.368583         126.408787  \n",
            "...           ...                ...                ...  \n",
            "99995   65.035350         212.133380         115.360556  \n",
            "99996   63.457075         227.699267         112.321197  \n",
            "99997   41.227254         224.300704         121.369845  \n",
            "99998  106.908491         140.865132          94.524506  \n",
            "99999   79.617356         177.339752          87.519145  \n",
            "\n",
            "[100000 rows x 8 columns]\n"
          ]
        }
      ]
    },
    {
      "cell_type": "code",
      "source": [
        "plt.hist(df_corrected['Age'])"
      ],
      "metadata": {
        "colab": {
          "base_uri": "https://localhost:8080/",
          "height": 501
        },
        "id": "F975jtJCDIBj",
        "outputId": "b788b72a-74ef-4c34-cfe7-842915b1049f"
      },
      "execution_count": null,
      "outputs": [
        {
          "output_type": "execute_result",
          "data": {
            "text/plain": [
              "(array([10089.,  8619.,  9199., 10460., 11823., 11476., 10291.,  9095.,\n",
              "         8770., 10178.]),\n",
              " array([18. , 24.1, 30.2, 36.3, 42.4, 48.5, 54.6, 60.7, 66.8, 72.9, 79. ]),\n",
              " <BarContainer object of 10 artists>)"
            ]
          },
          "metadata": {},
          "execution_count": 55
        },
        {
          "output_type": "display_data",
          "data": {
            "text/plain": [
              "<Figure size 640x480 with 1 Axes>"
            ],
            "image/png": "[encoded data removed]"
          },
          "metadata": {}
        }
      ]
    },
    {
      "cell_type": "code",
      "source": [
        "plt.hist(df_corrected['Age'])"
      ],
      "metadata": {
        "colab": {
          "base_uri": "https://localhost:8080/",
          "height": 501
        },
        "id": "aRDtBTlxDdn8",
        "outputId": "a99079dd-c726-4816-cc1b-3e943ec9099d"
      },
      "execution_count": null,
      "outputs": [
        {
          "output_type": "execute_result",
          "data": {
            "text/plain": [
              "(array([10089.,  8619.,  9199., 10460., 11823., 11476., 10291.,  9095.,\n",
              "         8770., 10178.]),\n",
              " array([18. , 24.1, 30.2, 36.3, 42.4, 48.5, 54.6, 60.7, 66.8, 72.9, 79. ]),\n",
              " <BarContainer object of 10 artists>)"
            ]
          },
          "metadata": {},
          "execution_count": 56
        },
        {
          "output_type": "display_data",
          "data": {
            "text/plain": [
              "<Figure size 640x480 with 1 Axes>"
            ],
            "image/png": "[encoded data removed]"
          },
          "metadata": {}
        }
      ]
    },
    {
      "cell_type": "code",
      "source": [
        "df_corrected.isnull().sum()"
      ],
      "metadata": {
        "colab": {
          "base_uri": "https://localhost:8080/"
        },
        "id": "rviVDC7kG2ip",
        "outputId": "4f5a45c8-a2e8-462f-8e96-1723ea011807"
      },
      "execution_count": null,
      "outputs": [
        {
          "output_type": "execute_result",
          "data": {
            "text/plain": [
              "Average Daily Steps    0\n",
              "Hours of Sleep         0\n",
              "Caloric Intake         0\n",
              "Age                    0\n",
              "Height                 0\n",
              "Weight                 0\n",
              "Cholesterol level      0\n",
              "Blood Sugar level      0\n",
              "dtype: int64"
            ]
          },
          "metadata": {},
          "execution_count": 57
        }
      ]
    },
    {
      "cell_type": "code",
      "source": [
        "column_to_merge = df_c_interpolated_KNN['Gender']\n",
        "\n",
        "df_interpolate2 = pd.concat([df_corrected, column_to_merge], axis=1)\n",
        "\n",
        "df_interpolate2"
      ],
      "metadata": {
        "colab": {
          "base_uri": "https://localhost:8080/",
          "height": 441
        },
        "id": "yz3b4MiTH9Gr",
        "outputId": "a6eed665-0b3a-4199-e371-6438f66176cb"
      },
      "execution_count": null,
      "outputs": [
        {
          "output_type": "execute_result",
          "data": {
            "text/plain": [
              "       Average Daily Steps  Hours of Sleep  Caloric Intake        Age  \\\n",
              "0             15725.000000        6.518042          1714.0  56.000000   \n",
              "1              6733.000000        9.176300          2508.0  69.000000   \n",
              "2              7424.000000        4.856772          1366.0  46.000000   \n",
              "3             11853.000000        9.727244          2189.0  32.000000   \n",
              "4              7521.000000        6.433183          2342.0  50.545455   \n",
              "...                    ...             ...             ...        ...   \n",
              "99995          2265.000000        7.431135          2030.0  53.000000   \n",
              "99996         10959.000000        9.661165          2233.0  22.000000   \n",
              "99997          8865.545455        7.378317          2080.0  37.000000   \n",
              "99998         12110.000000        9.843323          1434.0  72.000000   \n",
              "99999         18618.000000        9.301179          3458.0  37.000000   \n",
              "\n",
              "           Height      Weight  Cholesterol level  Blood Sugar level  Gender  \n",
              "0      178.416872   75.489346         185.408550         104.442836    Male  \n",
              "1      176.826592   54.635484         191.698148         104.851888  Female  \n",
              "2      182.281966   63.578372         212.625051         106.649132    Male  \n",
              "3      168.520316   59.397202         205.440351         121.982302  Female  \n",
              "4      145.273232   62.574740         161.368583         126.408787     NaN  \n",
              "...           ...         ...                ...                ...     ...  \n",
              "99995  182.202253   65.035350         212.133380         115.360556    Male  \n",
              "99996  185.802297   63.457075         227.699267         112.321197    Male  \n",
              "99997  168.520316   41.227254         224.300704         121.369845    Male  \n",
              "99998  155.025779  106.908491         140.865132          94.524506  Female  \n",
              "99999  180.716378   79.617356         177.339752          87.519145    Male  \n",
              "\n",
              "[100000 rows x 9 columns]"
            ],
            "text/html": [
              "\n",
              "  <div id=\"df-919f6075-9069-484f-b686-339c5a9ce755\" class=\"colab-df-container\">\n",
              "    <div>\n",
              "<style scoped>\n",
              "    .dataframe tbody tr th:only-of-type {\n",
              "        vertical-align: middle;\n",
              "    }\n",
              "\n",
              "    .dataframe tbody tr th {\n",
              "        vertical-align: top;\n",
              "    }\n",
              "\n",
              "    .dataframe thead th {\n",
              "        text-align: right;\n",
              "    }\n",
              "</style>\n",
              "<table border=\"1\" class=\"dataframe\">\n",
              "  <thead>\n",
              "    <tr style=\"text-align: right;\">\n",
              "      <th></th>\n",
              "      <th>Average Daily Steps</th>\n",
              "      <th>Hours of Sleep</th>\n",
              "      <th>Caloric Intake</th>\n",
              "      <th>Age</th>\n",
              "      <th>Height</th>\n",
              "      <th>Weight</th>\n",
              "      <th>Cholesterol level</th>\n",
              "      <th>Blood Sugar level</th>\n",
              "      <th>Gender</th>\n",
              "    </tr>\n",
              "  </thead>\n",
              "  <tbody>\n",
              "    <tr>\n",
              "      <th>0</th>\n",
              "      <td>15725.000000</td>\n",
              "      <td>6.518042</td>\n",
              "      <td>1714.0</td>\n",
              "      <td>56.000000</td>\n",
              "      <td>178.416872</td>\n",
              "      <td>75.489346</td>\n",
              "      <td>185.408550</td>\n",
              "      <td>104.442836</td>\n",
              "      <td>Male</td>\n",
              "    </tr>\n",
              "    <tr>\n",
              "      <th>1</th>\n",
              "      <td>6733.000000</td>\n",
              "      <td>9.176300</td>\n",
              "      <td>2508.0</td>\n",
              "      <td>69.000000</td>\n",
              "      <td>176.826592</td>\n",
              "      <td>54.635484</td>\n",
              "      <td>191.698148</td>\n",
              "      <td>104.851888</td>\n",
              "      <td>Female</td>\n",
              "    </tr>\n",
              "    <tr>\n",
              "      <th>2</th>\n",
              "      <td>7424.000000</td>\n",
              "      <td>4.856772</td>\n",
              "      <td>1366.0</td>\n",
              "      <td>46.000000</td>\n",
              "      <td>182.281966</td>\n",
              "      <td>63.578372</td>\n",
              "      <td>212.625051</td>\n",
              "      <td>106.649132</td>\n",
              "      <td>Male</td>\n",
              "    </tr>\n",
              "    <tr>\n",
              "      <th>3</th>\n",
              "      <td>11853.000000</td>\n",
              "      <td>9.727244</td>\n",
              "      <td>2189.0</td>\n",
              "      <td>32.000000</td>\n",
              "      <td>168.520316</td>\n",
              "      <td>59.397202</td>\n",
              "      <td>205.440351</td>\n",
              "      <td>121.982302</td>\n",
              "      <td>Female</td>\n",
              "    </tr>\n",
              "    <tr>\n",
              "      <th>4</th>\n",
              "      <td>7521.000000</td>\n",
              "      <td>6.433183</td>\n",
              "      <td>2342.0</td>\n",
              "      <td>50.545455</td>\n",
              "      <td>145.273232</td>\n",
              "      <td>62.574740</td>\n",
              "      <td>161.368583</td>\n",
              "      <td>126.408787</td>\n",
              "      <td>NaN</td>\n",
              "    </tr>\n",
              "    <tr>\n",
              "      <th>...</th>\n",
              "      <td>...</td>\n",
              "      <td>...</td>\n",
              "      <td>...</td>\n",
              "      <td>...</td>\n",
              "      <td>...</td>\n",
              "      <td>...</td>\n",
              "      <td>...</td>\n",
              "      <td>...</td>\n",
              "      <td>...</td>\n",
              "    </tr>\n",
              "    <tr>\n",
              "      <th>99995</th>\n",
              "      <td>2265.000000</td>\n",
              "      <td>7.431135</td>\n",
              "      <td>2030.0</td>\n",
              "      <td>53.000000</td>\n",
              "      <td>182.202253</td>\n",
              "      <td>65.035350</td>\n",
              "      <td>212.133380</td>\n",
              "      <td>115.360556</td>\n",
              "      <td>Male</td>\n",
              "    </tr>\n",
              "    <tr>\n",
              "      <th>99996</th>\n",
              "      <td>10959.000000</td>\n",
              "      <td>9.661165</td>\n",
              "      <td>2233.0</td>\n",
              "      <td>22.000000</td>\n",
              "      <td>185.802297</td>\n",
              "      <td>63.457075</td>\n",
              "      <td>227.699267</td>\n",
              "      <td>112.321197</td>\n",
              "      <td>Male</td>\n",
              "    </tr>\n",
              "    <tr>\n",
              "      <th>99997</th>\n",
              "      <td>8865.545455</td>\n",
              "      <td>7.378317</td>\n",
              "      <td>2080.0</td>\n",
              "      <td>37.000000</td>\n",
              "      <td>168.520316</td>\n",
              "      <td>41.227254</td>\n",
              "      <td>224.300704</td>\n",
              "      <td>121.369845</td>\n",
              "      <td>Male</td>\n",
              "    </tr>\n",
              "    <tr>\n",
              "      <th>99998</th>\n",
              "      <td>12110.000000</td>\n",
              "      <td>9.843323</td>\n",
              "      <td>1434.0</td>\n",
              "      <td>72.000000</td>\n",
              "      <td>155.025779</td>\n",
              "      <td>106.908491</td>\n",
              "      <td>140.865132</td>\n",
              "      <td>94.524506</td>\n",
              "      <td>Female</td>\n",
              "    </tr>\n",
              "    <tr>\n",
              "      <th>99999</th>\n",
              "      <td>18618.000000</td>\n",
              "      <td>9.301179</td>\n",
              "      <td>3458.0</td>\n",
              "      <td>37.000000</td>\n",
              "      <td>180.716378</td>\n",
              "      <td>79.617356</td>\n",
              "      <td>177.339752</td>\n",
              "      <td>87.519145</td>\n",
              "      <td>Male</td>\n",
              "    </tr>\n",
              "  </tbody>\n",
              "</table>\n",
              "<p>100000 rows × 9 columns</p>\n",
              "</div>\n",
              "    <div class=\"colab-df-buttons\">\n",
              "\n",
              "  <div class=\"colab-df-container\">\n",
              "    <button class=\"colab-df-convert\" onclick=\"convertToInteractive('df-919f6075-9069-484f-b686-339c5a9ce755')\"\n",
              "            title=\"Convert this dataframe to an interactive table.\"\n",
              "            style=\"display:none;\">\n",
              "\n",
              "  <svg xmlns=\"http://www.w3.org/2000/svg\" height=\"24px\" viewBox=\"0 -960 960 960\">\n",
              "    <path d=\"M120-120v-720h720v720H120Zm60-500h600v-160H180v160Zm220 220h160v-160H400v160Zm0 220h160v-160H400v160ZM180-400h160v-160H180v160Zm440 0h160v-160H620v160ZM180-180h160v-160H180v160Zm440 0h160v-160H620v160Z\"/>\n",
              "  </svg>\n",
              "    </button>\n",
              "\n",
              "  <style>\n",
              "    .colab-df-container {\n",
              "      display:flex;\n",
              "      gap: 12px;\n",
              "    }\n",
              "\n",
              "    .colab-df-convert {\n",
              "      background-color: #E8F0FE;\n",
              "      border: none;\n",
              "      border-radius: 50%;\n",
              "      cursor: pointer;\n",
              "      display: none;\n",
              "      fill: #1967D2;\n",
              "      height: 32px;\n",
              "      padding: 0 0 0 0;\n",
              "      width: 32px;\n",
              "    }\n",
              "\n",
              "    .colab-df-convert:hover {\n",
              "      background-color: #E2EBFA;\n",
              "      box-shadow: 0px 1px 2px rgba(60, 64, 67, 0.3), 0px 1px 3px 1px rgba(60, 64, 67, 0.15);\n",
              "      fill: #174EA6;\n",
              "    }\n",
              "\n",
              "    .colab-df-buttons div {\n",
              "      margin-bottom: 4px;\n",
              "    }\n",
              "\n",
              "    [theme=dark] .colab-df-convert {\n",
              "      background-color: #3B4455;\n",
              "      fill: #D2E3FC;\n",
              "    }\n",
              "\n",
              "    [theme=dark] .colab-df-convert:hover {\n",
              "      background-color: #434B5C;\n",
              "      box-shadow: 0px 1px 3px 1px rgba(0, 0, 0, 0.15);\n",
              "      filter: drop-shadow(0px 1px 2px rgba(0, 0, 0, 0.3));\n",
              "      fill: #FFFFFF;\n",
              "    }\n",
              "  </style>\n",
              "\n",
              "    <script>\n",
              "      const buttonEl =\n",
              "        document.querySelector('#df-919f6075-9069-484f-b686-339c5a9ce755 button.colab-df-convert');\n",
              "      buttonEl.style.display =\n",
              "        google.colab.kernel.accessAllowed ? 'block' : 'none';\n",
              "\n",
              "      async function convertToInteractive(key) {\n",
              "        const element = document.querySelector('#df-919f6075-9069-484f-b686-339c5a9ce755');\n",
              "        const dataTable =\n",
              "          await google.colab.kernel.invokeFunction('convertToInteractive',\n",
              "                                                    [key], {});\n",
              "        if (!dataTable) return;\n",
              "\n",
              "        const docLinkHtml = 'Like what you see? Visit the ' +\n",
              "          '<a target=\"_blank\" href=https://colab.research.google.com/notebooks/data_table.ipynb>data table notebook</a>'\n",
              "          + ' to learn more about interactive tables.';\n",
              "        element.innerHTML = '';\n",
              "        dataTable['output_type'] = 'display_data';\n",
              "        await google.colab.output.renderOutput(dataTable, element);\n",
              "        const docLink = document.createElement('div');\n",
              "        docLink.innerHTML = docLinkHtml;\n",
              "        element.appendChild(docLink);\n",
              "      }\n",
              "    </script>\n",
              "  </div>\n",
              "\n",
              "\n",
              "<div id=\"df-9ba937bb-0f20-4a22-9c2e-490e5fa192e1\">\n",
              "  <button class=\"colab-df-quickchart\" onclick=\"quickchart('df-9ba937bb-0f20-4a22-9c2e-490e5fa192e1')\"\n",
              "            title=\"Suggest charts.\"\n",
              "            style=\"display:none;\">\n",
              "\n",
              "<svg xmlns=\"http://www.w3.org/2000/svg\" height=\"24px\"viewBox=\"0 0 24 24\"\n",
              "     width=\"24px\">\n",
              "    <g>\n",
              "        <path d=\"M19 3H5c-1.1 0-2 .9-2 2v14c0 1.1.9 2 2 2h14c1.1 0 2-.9 2-2V5c0-1.1-.9-2-2-2zM9 17H7v-7h2v7zm4 0h-2V7h2v10zm4 0h-2v-4h2v4z\"/>\n",
              "    </g>\n",
              "</svg>\n",
              "  </button>\n",
              "\n",
              "<style>\n",
              "  .colab-df-quickchart {\n",
              "      --bg-color: #E8F0FE;\n",
              "      --fill-color: #1967D2;\n",
              "      --hover-bg-color: #E2EBFA;\n",
              "      --hover-fill-color: #174EA6;\n",
              "      --disabled-fill-color: #AAA;\n",
              "      --disabled-bg-color: #DDD;\n",
              "  }\n",
              "\n",
              "  [theme=dark] .colab-df-quickchart {\n",
              "      --bg-color: #3B4455;\n",
              "      --fill-color: #D2E3FC;\n",
              "      --hover-bg-color: #434B5C;\n",
              "      --hover-fill-color: #FFFFFF;\n",
              "      --disabled-bg-color: #3B4455;\n",
              "      --disabled-fill-color: #666;\n",
              "  }\n",
              "\n",
              "  .colab-df-quickchart {\n",
              "    background-color: var(--bg-color);\n",
              "    border: none;\n",
              "    border-radius: 50%;\n",
              "    cursor: pointer;\n",
              "    display: none;\n",
              "    fill: var(--fill-color);\n",
              "    height: 32px;\n",
              "    padding: 0;\n",
              "    width: 32px;\n",
              "  }\n",
              "\n",
              "  .colab-df-quickchart:hover {\n",
              "    background-color: var(--hover-bg-color);\n",
              "    box-shadow: 0 1px 2px rgba(60, 64, 67, 0.3), 0 1px 3px 1px rgba(60, 64, 67, 0.15);\n",
              "    fill: var(--button-hover-fill-color);\n",
              "  }\n",
              "\n",
              "  .colab-df-quickchart-complete:disabled,\n",
              "  .colab-df-quickchart-complete:disabled:hover {\n",
              "    background-color: var(--disabled-bg-color);\n",
              "    fill: var(--disabled-fill-color);\n",
              "    box-shadow: none;\n",
              "  }\n",
              "\n",
              "  .colab-df-spinner {\n",
              "    border: 2px solid var(--fill-color);\n",
              "    border-color: transparent;\n",
              "    border-bottom-color: var(--fill-color);\n",
              "    animation:\n",
              "      spin 1s steps(1) infinite;\n",
              "  }\n",
              "\n",
              "  @keyframes spin {\n",
              "    0% {\n",
              "      border-color: transparent;\n",
              "      border-bottom-color: var(--fill-color);\n",
              "      border-left-color: var(--fill-color);\n",
              "    }\n",
              "    20% {\n",
              "      border-color: transparent;\n",
              "      border-left-color: var(--fill-color);\n",
              "      border-top-color: var(--fill-color);\n",
              "    }\n",
              "    30% {\n",
              "      border-color: transparent;\n",
              "      border-left-color: var(--fill-color);\n",
              "      border-top-color: var(--fill-color);\n",
              "      border-right-color: var(--fill-color);\n",
              "    }\n",
              "    40% {\n",
              "      border-color: transparent;\n",
              "      border-right-color: var(--fill-color);\n",
              "      border-top-color: var(--fill-color);\n",
              "    }\n",
              "    60% {\n",
              "      border-color: transparent;\n",
              "      border-right-color: var(--fill-color);\n",
              "    }\n",
              "    80% {\n",
              "      border-color: transparent;\n",
              "      border-right-color: var(--fill-color);\n",
              "      border-bottom-color: var(--fill-color);\n",
              "    }\n",
              "    90% {\n",
              "      border-color: transparent;\n",
              "      border-bottom-color: var(--fill-color);\n",
              "    }\n",
              "  }\n",
              "</style>\n",
              "\n",
              "  <script>\n",
              "    async function quickchart(key) {\n",
              "      const quickchartButtonEl =\n",
              "        document.querySelector('#' + key + ' button');\n",
              "      quickchartButtonEl.disabled = true;  // To prevent multiple clicks.\n",
              "      quickchartButtonEl.classList.add('colab-df-spinner');\n",
              "      try {\n",
              "        const charts = await google.colab.kernel.invokeFunction(\n",
              "            'suggestCharts', [key], {});\n",
              "      } catch (error) {\n",
              "        console.error('Error during call to suggestCharts:', error);\n",
              "      }\n",
              "      quickchartButtonEl.classList.remove('colab-df-spinner');\n",
              "      quickchartButtonEl.classList.add('colab-df-quickchart-complete');\n",
              "    }\n",
              "    (() => {\n",
              "      let quickchartButtonEl =\n",
              "        document.querySelector('#df-9ba937bb-0f20-4a22-9c2e-490e5fa192e1 button');\n",
              "      quickchartButtonEl.style.display =\n",
              "        google.colab.kernel.accessAllowed ? 'block' : 'none';\n",
              "    })();\n",
              "  </script>\n",
              "</div>\n",
              "    </div>\n",
              "  </div>\n"
            ]
          },
          "metadata": {},
          "execution_count": 58
        }
      ]
    },
    {
      "cell_type": "code",
      "source": [
        "from sklearn.linear_model import LogisticRegression"
      ],
      "metadata": {
        "id": "N7jBniWYIa_8"
      },
      "execution_count": null,
      "outputs": []
    },
    {
      "cell_type": "code",
      "source": [
        "df_missing = df_interpolate2[df_interpolate2['Gender'].isna()]\n",
        "df_not_missing = df_interpolate2[~df_interpolate2['Gender'].isna()]\n",
        "logistic_regression = LogisticRegression()\n",
        "print('this is df_not_missing')\n",
        "print(df_missing)\n",
        "print('this is df_not_missing')\n",
        "print(df_not_missing)\n",
        "logistic_regression.fit(df_not_missing[['Average Daily Steps', 'Hours of Sleep', 'Caloric Intake', 'Age','Height', 'Weight', 'Cholesterol level', 'Blood Sugar level']], df_not_missing['Gender'])\n",
        "\n",
        "predicted_values = logistic_regression.predict(df_missing[['Average Daily Steps', 'Hours of Sleep', 'Caloric Intake', 'Age','Height', 'Weight', 'Cholesterol level', 'Blood Sugar level']])\n",
        "\n",
        "# Replace the missing \"Gender\" values with the predicted values\n",
        "df_interpolate2.loc[df_interpolate2['Gender'].isna(), 'Gender'] = predicted_values"
      ],
      "metadata": {
        "colab": {
          "base_uri": "https://localhost:8080/"
        },
        "id": "ciNbGAtZFego",
        "outputId": "8c2395ba-f1c0-4939-8a53-2b994e56aedd"
      },
      "execution_count": null,
      "outputs": [
        {
          "output_type": "stream",
          "name": "stdout",
          "text": [
            "this is df_not_missing\n",
            "       Average Daily Steps  Hours of Sleep  Caloric Intake        Age  \\\n",
            "4              7521.000000        6.433183     2342.000000  50.545455   \n",
            "18            11424.000000        6.344670     1118.000000  41.000000   \n",
            "20            13413.000000        6.505656     3929.000000  39.000000   \n",
            "23            10491.272727        4.143663     1747.000000  41.000000   \n",
            "29             5303.000000        7.975367     3914.000000  38.000000   \n",
            "...                    ...             ...             ...        ...   \n",
            "99916         13350.636364        5.055937     1493.000000  32.000000   \n",
            "99930          5139.000000        9.778847     3341.000000  21.000000   \n",
            "99965         13894.000000        5.947483     1752.000000  76.000000   \n",
            "99978          9304.000000        7.524464     3329.000000  52.000000   \n",
            "99990         14357.000000        6.773970     2189.545455  53.000000   \n",
            "\n",
            "           Height     Weight  Cholesterol level  Blood Sugar level Gender  \n",
            "4      145.273232  62.574740         161.368583         126.408787    NaN  \n",
            "18     160.217881  69.181796         168.174693         100.992743    NaN  \n",
            "20     163.923301  77.216457         194.481350         117.525048    NaN  \n",
            "23     153.436342  50.927268         188.829050         116.396684    NaN  \n",
            "29     160.564257  70.025165         159.205923         119.844157    NaN  \n",
            "...           ...        ...                ...                ...    ...  \n",
            "99916  187.171785  59.766341         149.881663          89.715326    NaN  \n",
            "99930  177.851618  38.689398         228.115326          97.986203    NaN  \n",
            "99965  185.457880  70.025165         203.853058         123.651635    NaN  \n",
            "99978  159.164443  88.104083         160.591950         115.696521    NaN  \n",
            "99990  183.094232  69.583051         210.911771          85.773495    NaN  \n",
            "\n",
            "[10000 rows x 9 columns]\n",
            "this is df_not_missing\n",
            "       Average Daily Steps  Hours of Sleep  Caloric Intake   Age      Height  \\\n",
            "0             15725.000000        6.518042          1714.0  56.0  178.416872   \n",
            "1              6733.000000        9.176300          2508.0  69.0  176.826592   \n",
            "2              7424.000000        4.856772          1366.0  46.0  182.281966   \n",
            "3             11853.000000        9.727244          2189.0  32.0  168.520316   \n",
            "5             16484.000000        4.380561          2373.0  25.0  168.520316   \n",
            "...                    ...             ...             ...   ...         ...   \n",
            "99995          2265.000000        7.431135          2030.0  53.0  182.202253   \n",
            "99996         10959.000000        9.661165          2233.0  22.0  185.802297   \n",
            "99997          8865.545455        7.378317          2080.0  37.0  168.520316   \n",
            "99998         12110.000000        9.843323          1434.0  72.0  155.025779   \n",
            "99999         18618.000000        9.301179          3458.0  37.0  180.716378   \n",
            "\n",
            "           Weight  Cholesterol level  Blood Sugar level  Gender  \n",
            "0       75.489346         185.408550         104.442836    Male  \n",
            "1       54.635484         191.698148         104.851888  Female  \n",
            "2       63.578372         212.625051         106.649132    Male  \n",
            "3       59.397202         205.440351         121.982302  Female  \n",
            "5       88.357153         200.153204         101.648647    Male  \n",
            "...           ...                ...                ...     ...  \n",
            "99995   65.035350         212.133380         115.360556    Male  \n",
            "99996   63.457075         227.699267         112.321197    Male  \n",
            "99997   41.227254         224.300704         121.369845    Male  \n",
            "99998  106.908491         140.865132          94.524506  Female  \n",
            "99999   79.617356         177.339752          87.519145    Male  \n",
            "\n",
            "[90000 rows x 9 columns]\n"
          ]
        },
        {
          "output_type": "stream",
          "name": "stderr",
          "text": [
            "/usr/local/lib/python3.10/dist-packages/sklearn/linear_model/_logistic.py:458: ConvergenceWarning: lbfgs failed to converge (status=1):\n",
            "STOP: TOTAL NO. of ITERATIONS REACHED LIMIT.\n",
            "\n",
            "Increase the number of iterations (max_iter) or scale the data as shown in:\n",
            "    https://scikit-learn.org/stable/modules/preprocessing.html\n",
            "Please also refer to the documentation for alternative solver options:\n",
            "    https://scikit-learn.org/stable/modules/linear_model.html#logistic-regression\n",
            "  n_iter_i = _check_optimize_result(\n"
          ]
        }
      ]
    },
    {
      "cell_type": "code",
      "source": [
        "df_interpolate2"
      ],
      "metadata": {
        "colab": {
          "base_uri": "https://localhost:8080/",
          "height": 441
        },
        "id": "Fna9JOH1Im5F",
        "outputId": "ef08292a-9e82-4c05-ee85-1cfe41269e2a"
      },
      "execution_count": null,
      "outputs": [
        {
          "output_type": "execute_result",
          "data": {
            "text/plain": [
              "       Average Daily Steps  Hours of Sleep  Caloric Intake        Age  \\\n",
              "0             15725.000000        6.518042          1714.0  56.000000   \n",
              "1              6733.000000        9.176300          2508.0  69.000000   \n",
              "2              7424.000000        4.856772          1366.0  46.000000   \n",
              "3             11853.000000        9.727244          2189.0  32.000000   \n",
              "4              7521.000000        6.433183          2342.0  50.545455   \n",
              "...                    ...             ...             ...        ...   \n",
              "99995          2265.000000        7.431135          2030.0  53.000000   \n",
              "99996         10959.000000        9.661165          2233.0  22.000000   \n",
              "99997          8865.545455        7.378317          2080.0  37.000000   \n",
              "99998         12110.000000        9.843323          1434.0  72.000000   \n",
              "99999         18618.000000        9.301179          3458.0  37.000000   \n",
              "\n",
              "           Height      Weight  Cholesterol level  Blood Sugar level  Gender  \n",
              "0      178.416872   75.489346         185.408550         104.442836    Male  \n",
              "1      176.826592   54.635484         191.698148         104.851888  Female  \n",
              "2      182.281966   63.578372         212.625051         106.649132    Male  \n",
              "3      168.520316   59.397202         205.440351         121.982302  Female  \n",
              "4      145.273232   62.574740         161.368583         126.408787  Female  \n",
              "...           ...         ...                ...                ...     ...  \n",
              "99995  182.202253   65.035350         212.133380         115.360556    Male  \n",
              "99996  185.802297   63.457075         227.699267         112.321197    Male  \n",
              "99997  168.520316   41.227254         224.300704         121.369845    Male  \n",
              "99998  155.025779  106.908491         140.865132          94.524506  Female  \n",
              "99999  180.716378   79.617356         177.339752          87.519145    Male  \n",
              "\n",
              "[100000 rows x 9 columns]"
            ],
            "text/html": [
              "\n",
              "  <div id=\"df-62dcc95c-8dae-4d5c-935b-dffb9a4d8969\" class=\"colab-df-container\">\n",
              "    <div>\n",
              "<style scoped>\n",
              "    .dataframe tbody tr th:only-of-type {\n",
              "        vertical-align: middle;\n",
              "    }\n",
              "\n",
              "    .dataframe tbody tr th {\n",
              "        vertical-align: top;\n",
              "    }\n",
              "\n",
              "    .dataframe thead th {\n",
              "        text-align: right;\n",
              "    }\n",
              "</style>\n",
              "<table border=\"1\" class=\"dataframe\">\n",
              "  <thead>\n",
              "    <tr style=\"text-align: right;\">\n",
              "      <th></th>\n",
              "      <th>Average Daily Steps</th>\n",
              "      <th>Hours of Sleep</th>\n",
              "      <th>Caloric Intake</th>\n",
              "      <th>Age</th>\n",
              "      <th>Height</th>\n",
              "      <th>Weight</th>\n",
              "      <th>Cholesterol level</th>\n",
              "      <th>Blood Sugar level</th>\n",
              "      <th>Gender</th>\n",
              "    </tr>\n",
              "  </thead>\n",
              "  <tbody>\n",
              "    <tr>\n",
              "      <th>0</th>\n",
              "      <td>15725.000000</td>\n",
              "      <td>6.518042</td>\n",
              "      <td>1714.0</td>\n",
              "      <td>56.000000</td>\n",
              "      <td>178.416872</td>\n",
              "      <td>75.489346</td>\n",
              "      <td>185.408550</td>\n",
              "      <td>104.442836</td>\n",
              "      <td>Male</td>\n",
              "    </tr>\n",
              "    <tr>\n",
              "      <th>1</th>\n",
              "      <td>6733.000000</td>\n",
              "      <td>9.176300</td>\n",
              "      <td>2508.0</td>\n",
              "      <td>69.000000</td>\n",
              "      <td>176.826592</td>\n",
              "      <td>54.635484</td>\n",
              "      <td>191.698148</td>\n",
              "      <td>104.851888</td>\n",
              "      <td>Female</td>\n",
              "    </tr>\n",
              "    <tr>\n",
              "      <th>2</th>\n",
              "      <td>7424.000000</td>\n",
              "      <td>4.856772</td>\n",
              "      <td>1366.0</td>\n",
              "      <td>46.000000</td>\n",
              "      <td>182.281966</td>\n",
              "      <td>63.578372</td>\n",
              "      <td>212.625051</td>\n",
              "      <td>106.649132</td>\n",
              "      <td>Male</td>\n",
              "    </tr>\n",
              "    <tr>\n",
              "      <th>3</th>\n",
              "      <td>11853.000000</td>\n",
              "      <td>9.727244</td>\n",
              "      <td>2189.0</td>\n",
              "      <td>32.000000</td>\n",
              "      <td>168.520316</td>\n",
              "      <td>59.397202</td>\n",
              "      <td>205.440351</td>\n",
              "      <td>121.982302</td>\n",
              "      <td>Female</td>\n",
              "    </tr>\n",
              "    <tr>\n",
              "      <th>4</th>\n",
              "      <td>7521.000000</td>\n",
              "      <td>6.433183</td>\n",
              "      <td>2342.0</td>\n",
              "      <td>50.545455</td>\n",
              "      <td>145.273232</td>\n",
              "      <td>62.574740</td>\n",
              "      <td>161.368583</td>\n",
              "      <td>126.408787</td>\n",
              "      <td>Female</td>\n",
              "    </tr>\n",
              "    <tr>\n",
              "      <th>...</th>\n",
              "      <td>...</td>\n",
              "      <td>...</td>\n",
              "      <td>...</td>\n",
              "      <td>...</td>\n",
              "      <td>...</td>\n",
              "      <td>...</td>\n",
              "      <td>...</td>\n",
              "      <td>...</td>\n",
              "      <td>...</td>\n",
              "    </tr>\n",
              "    <tr>\n",
              "      <th>99995</th>\n",
              "      <td>2265.000000</td>\n",
              "      <td>7.431135</td>\n",
              "      <td>2030.0</td>\n",
              "      <td>53.000000</td>\n",
              "      <td>182.202253</td>\n",
              "      <td>65.035350</td>\n",
              "      <td>212.133380</td>\n",
              "      <td>115.360556</td>\n",
              "      <td>Male</td>\n",
              "    </tr>\n",
              "    <tr>\n",
              "      <th>99996</th>\n",
              "      <td>10959.000000</td>\n",
              "      <td>9.661165</td>\n",
              "      <td>2233.0</td>\n",
              "      <td>22.000000</td>\n",
              "      <td>185.802297</td>\n",
              "      <td>63.457075</td>\n",
              "      <td>227.699267</td>\n",
              "      <td>112.321197</td>\n",
              "      <td>Male</td>\n",
              "    </tr>\n",
              "    <tr>\n",
              "      <th>99997</th>\n",
              "      <td>8865.545455</td>\n",
              "      <td>7.378317</td>\n",
              "      <td>2080.0</td>\n",
              "      <td>37.000000</td>\n",
              "      <td>168.520316</td>\n",
              "      <td>41.227254</td>\n",
              "      <td>224.300704</td>\n",
              "      <td>121.369845</td>\n",
              "      <td>Male</td>\n",
              "    </tr>\n",
              "    <tr>\n",
              "      <th>99998</th>\n",
              "      <td>12110.000000</td>\n",
              "      <td>9.843323</td>\n",
              "      <td>1434.0</td>\n",
              "      <td>72.000000</td>\n",
              "      <td>155.025779</td>\n",
              "      <td>106.908491</td>\n",
              "      <td>140.865132</td>\n",
              "      <td>94.524506</td>\n",
              "      <td>Female</td>\n",
              "    </tr>\n",
              "    <tr>\n",
              "      <th>99999</th>\n",
              "      <td>18618.000000</td>\n",
              "      <td>9.301179</td>\n",
              "      <td>3458.0</td>\n",
              "      <td>37.000000</td>\n",
              "      <td>180.716378</td>\n",
              "      <td>79.617356</td>\n",
              "      <td>177.339752</td>\n",
              "      <td>87.519145</td>\n",
              "      <td>Male</td>\n",
              "    </tr>\n",
              "  </tbody>\n",
              "</table>\n",
              "<p>100000 rows × 9 columns</p>\n",
              "</div>\n",
              "    <div class=\"colab-df-buttons\">\n",
              "\n",
              "  <div class=\"colab-df-container\">\n",
              "    <button class=\"colab-df-convert\" onclick=\"convertToInteractive('df-62dcc95c-8dae-4d5c-935b-dffb9a4d8969')\"\n",
              "            title=\"Convert this dataframe to an interactive table.\"\n",
              "            style=\"display:none;\">\n",
              "\n",
              "  <svg xmlns=\"http://www.w3.org/2000/svg\" height=\"24px\" viewBox=\"0 -960 960 960\">\n",
              "    <path d=\"M120-120v-720h720v720H120Zm60-500h600v-160H180v160Zm220 220h160v-160H400v160Zm0 220h160v-160H400v160ZM180-400h160v-160H180v160Zm440 0h160v-160H620v160ZM180-180h160v-160H180v160Zm440 0h160v-160H620v160Z\"/>\n",
              "  </svg>\n",
              "    </button>\n",
              "\n",
              "  <style>\n",
              "    .colab-df-container {\n",
              "      display:flex;\n",
              "      gap: 12px;\n",
              "    }\n",
              "\n",
              "    .colab-df-convert {\n",
              "      background-color: #E8F0FE;\n",
              "      border: none;\n",
              "      border-radius: 50%;\n",
              "      cursor: pointer;\n",
              "      display: none;\n",
              "      fill: #1967D2;\n",
              "      height: 32px;\n",
              "      padding: 0 0 0 0;\n",
              "      width: 32px;\n",
              "    }\n",
              "\n",
              "    .colab-df-convert:hover {\n",
              "      background-color: #E2EBFA;\n",
              "      box-shadow: 0px 1px 2px rgba(60, 64, 67, 0.3), 0px 1px 3px 1px rgba(60, 64, 67, 0.15);\n",
              "      fill: #174EA6;\n",
              "    }\n",
              "\n",
              "    .colab-df-buttons div {\n",
              "      margin-bottom: 4px;\n",
              "    }\n",
              "\n",
              "    [theme=dark] .colab-df-convert {\n",
              "      background-color: #3B4455;\n",
              "      fill: #D2E3FC;\n",
              "    }\n",
              "\n",
              "    [theme=dark] .colab-df-convert:hover {\n",
              "      background-color: #434B5C;\n",
              "      box-shadow: 0px 1px 3px 1px rgba(0, 0, 0, 0.15);\n",
              "      filter: drop-shadow(0px 1px 2px rgba(0, 0, 0, 0.3));\n",
              "      fill: #FFFFFF;\n",
              "    }\n",
              "  </style>\n",
              "\n",
              "    <script>\n",
              "      const buttonEl =\n",
              "        document.querySelector('#df-62dcc95c-8dae-4d5c-935b-dffb9a4d8969 button.colab-df-convert');\n",
              "      buttonEl.style.display =\n",
              "        google.colab.kernel.accessAllowed ? 'block' : 'none';\n",
              "\n",
              "      async function convertToInteractive(key) {\n",
              "        const element = document.querySelector('#df-62dcc95c-8dae-4d5c-935b-dffb9a4d8969');\n",
              "        const dataTable =\n",
              "          await google.colab.kernel.invokeFunction('convertToInteractive',\n",
              "                                                    [key], {});\n",
              "        if (!dataTable) return;\n",
              "\n",
              "        const docLinkHtml = 'Like what you see? Visit the ' +\n",
              "          '<a target=\"_blank\" href=https://colab.research.google.com/notebooks/data_table.ipynb>data table notebook</a>'\n",
              "          + ' to learn more about interactive tables.';\n",
              "        element.innerHTML = '';\n",
              "        dataTable['output_type'] = 'display_data';\n",
              "        await google.colab.output.renderOutput(dataTable, element);\n",
              "        const docLink = document.createElement('div');\n",
              "        docLink.innerHTML = docLinkHtml;\n",
              "        element.appendChild(docLink);\n",
              "      }\n",
              "    </script>\n",
              "  </div>\n",
              "\n",
              "\n",
              "<div id=\"df-0faa8ab3-ea5f-4041-8086-aade26521008\">\n",
              "  <button class=\"colab-df-quickchart\" onclick=\"quickchart('df-0faa8ab3-ea5f-4041-8086-aade26521008')\"\n",
              "            title=\"Suggest charts.\"\n",
              "            style=\"display:none;\">\n",
              "\n",
              "<svg xmlns=\"http://www.w3.org/2000/svg\" height=\"24px\"viewBox=\"0 0 24 24\"\n",
              "     width=\"24px\">\n",
              "    <g>\n",
              "        <path d=\"M19 3H5c-1.1 0-2 .9-2 2v14c0 1.1.9 2 2 2h14c1.1 0 2-.9 2-2V5c0-1.1-.9-2-2-2zM9 17H7v-7h2v7zm4 0h-2V7h2v10zm4 0h-2v-4h2v4z\"/>\n",
              "    </g>\n",
              "</svg>\n",
              "  </button>\n",
              "\n",
              "<style>\n",
              "  .colab-df-quickchart {\n",
              "      --bg-color: #E8F0FE;\n",
              "      --fill-color: #1967D2;\n",
              "      --hover-bg-color: #E2EBFA;\n",
              "      --hover-fill-color: #174EA6;\n",
              "      --disabled-fill-color: #AAA;\n",
              "      --disabled-bg-color: #DDD;\n",
              "  }\n",
              "\n",
              "  [theme=dark] .colab-df-quickchart {\n",
              "      --bg-color: #3B4455;\n",
              "      --fill-color: #D2E3FC;\n",
              "      --hover-bg-color: #434B5C;\n",
              "      --hover-fill-color: #FFFFFF;\n",
              "      --disabled-bg-color: #3B4455;\n",
              "      --disabled-fill-color: #666;\n",
              "  }\n",
              "\n",
              "  .colab-df-quickchart {\n",
              "    background-color: var(--bg-color);\n",
              "    border: none;\n",
              "    border-radius: 50%;\n",
              "    cursor: pointer;\n",
              "    display: none;\n",
              "    fill: var(--fill-color);\n",
              "    height: 32px;\n",
              "    padding: 0;\n",
              "    width: 32px;\n",
              "  }\n",
              "\n",
              "  .colab-df-quickchart:hover {\n",
              "    background-color: var(--hover-bg-color);\n",
              "    box-shadow: 0 1px 2px rgba(60, 64, 67, 0.3), 0 1px 3px 1px rgba(60, 64, 67, 0.15);\n",
              "    fill: var(--button-hover-fill-color);\n",
              "  }\n",
              "\n",
              "  .colab-df-quickchart-complete:disabled,\n",
              "  .colab-df-quickchart-complete:disabled:hover {\n",
              "    background-color: var(--disabled-bg-color);\n",
              "    fill: var(--disabled-fill-color);\n",
              "    box-shadow: none;\n",
              "  }\n",
              "\n",
              "  .colab-df-spinner {\n",
              "    border: 2px solid var(--fill-color);\n",
              "    border-color: transparent;\n",
              "    border-bottom-color: var(--fill-color);\n",
              "    animation:\n",
              "      spin 1s steps(1) infinite;\n",
              "  }\n",
              "\n",
              "  @keyframes spin {\n",
              "    0% {\n",
              "      border-color: transparent;\n",
              "      border-bottom-color: var(--fill-color);\n",
              "      border-left-color: var(--fill-color);\n",
              "    }\n",
              "    20% {\n",
              "      border-color: transparent;\n",
              "      border-left-color: var(--fill-color);\n",
              "      border-top-color: var(--fill-color);\n",
              "    }\n",
              "    30% {\n",
              "      border-color: transparent;\n",
              "      border-left-color: var(--fill-color);\n",
              "      border-top-color: var(--fill-color);\n",
              "      border-right-color: var(--fill-color);\n",
              "    }\n",
              "    40% {\n",
              "      border-color: transparent;\n",
              "      border-right-color: var(--fill-color);\n",
              "      border-top-color: var(--fill-color);\n",
              "    }\n",
              "    60% {\n",
              "      border-color: transparent;\n",
              "      border-right-color: var(--fill-color);\n",
              "    }\n",
              "    80% {\n",
              "      border-color: transparent;\n",
              "      border-right-color: var(--fill-color);\n",
              "      border-bottom-color: var(--fill-color);\n",
              "    }\n",
              "    90% {\n",
              "      border-color: transparent;\n",
              "      border-bottom-color: var(--fill-color);\n",
              "    }\n",
              "  }\n",
              "</style>\n",
              "\n",
              "  <script>\n",
              "    async function quickchart(key) {\n",
              "      const quickchartButtonEl =\n",
              "        document.querySelector('#' + key + ' button');\n",
              "      quickchartButtonEl.disabled = true;  // To prevent multiple clicks.\n",
              "      quickchartButtonEl.classList.add('colab-df-spinner');\n",
              "      try {\n",
              "        const charts = await google.colab.kernel.invokeFunction(\n",
              "            'suggestCharts', [key], {});\n",
              "      } catch (error) {\n",
              "        console.error('Error during call to suggestCharts:', error);\n",
              "      }\n",
              "      quickchartButtonEl.classList.remove('colab-df-spinner');\n",
              "      quickchartButtonEl.classList.add('colab-df-quickchart-complete');\n",
              "    }\n",
              "    (() => {\n",
              "      let quickchartButtonEl =\n",
              "        document.querySelector('#df-0faa8ab3-ea5f-4041-8086-aade26521008 button');\n",
              "      quickchartButtonEl.style.display =\n",
              "        google.colab.kernel.accessAllowed ? 'block' : 'none';\n",
              "    })();\n",
              "  </script>\n",
              "</div>\n",
              "    </div>\n",
              "  </div>\n"
            ]
          },
          "metadata": {},
          "execution_count": 63
        }
      ]
    },
    {
      "cell_type": "code",
      "source": [
        "plt.hist(df_interpolate2['Gender'])"
      ],
      "metadata": {
        "colab": {
          "base_uri": "https://localhost:8080/",
          "height": 501
        },
        "id": "g9q7L6CAI8zs",
        "outputId": "ae2ce776-1495-48f9-bfac-f3d43e12690e"
      },
      "execution_count": null,
      "outputs": [
        {
          "output_type": "execute_result",
          "data": {
            "text/plain": [
              "(array([50343.,     0.,     0.,     0.,     0.,     0.,     0.,     0.,\n",
              "            0., 49657.]),\n",
              " array([0. , 0.1, 0.2, 0.3, 0.4, 0.5, 0.6, 0.7, 0.8, 0.9, 1. ]),\n",
              " <BarContainer object of 10 artists>)"
            ]
          },
          "metadata": {},
          "execution_count": 64
        },
        {
          "output_type": "display_data",
          "data": {
            "text/plain": [
              "<Figure size 640x480 with 1 Axes>"
            ],
            "image/png": "[encoded data removed]"
          },
          "metadata": {}
        }
      ]
    },
    {
      "cell_type": "code",
      "source": [
        "df_interpolate2.isnull().sum()"
      ],
      "metadata": {
        "colab": {
          "base_uri": "https://localhost:8080/"
        },
        "id": "bReFshuyJCnH",
        "outputId": "39cbe297-5f55-4056-8b30-f081df3b035c"
      },
      "execution_count": null,
      "outputs": [
        {
          "output_type": "execute_result",
          "data": {
            "text/plain": [
              "Average Daily Steps    0\n",
              "Hours of Sleep         0\n",
              "Caloric Intake         0\n",
              "Age                    0\n",
              "Height                 0\n",
              "Weight                 0\n",
              "Cholesterol level      0\n",
              "Blood Sugar level      0\n",
              "Gender                 0\n",
              "dtype: int64"
            ]
          },
          "metadata": {},
          "execution_count": 65
        }
      ]
    },
    {
      "cell_type": "code",
      "source": [
        "df_interpolate2.to_csv('/content/drive/MyDrive/final_kNNimputer.csv', index=False)"
      ],
      "metadata": {
        "id": "h4Ui6h9FPq5r"
      },
      "execution_count": null,
      "outputs": []
    },
    {
      "cell_type": "code",
      "source": [
        "def detect_outliers(column, threshold=1.5):\n",
        "    Q1 = column.quantile(0.25)\n",
        "    Q3 = column.quantile(0.75)\n",
        "    IQR = Q3 - Q1\n",
        "    lower_bound = Q1 - threshold * IQR\n",
        "    upper_bound = Q3 + threshold * IQR\n",
        "    outliers = column[(column < lower_bound) | (column > upper_bound)]\n",
        "    return outliers.tolist()\n",
        "\n",
        "# Create a dictionary to store outliers\n",
        "outliers_dict = {}\n",
        "\n",
        "# Iterate through the columns and detect outliers\n",
        "for column_name in ['Average Daily Steps', 'Hours of Sleep', 'Caloric Intake', 'Age']:\n",
        "    outliers_dict[column_name] = detect_outliers(df_interpolate[column_name])\n",
        "\n",
        "print(\"Outliers Dictionary:\")\n",
        "print(outliers_dict)\n",
        "\n"
      ],
      "metadata": {
        "id": "n-dlRe5KP-aV",
        "colab": {
          "base_uri": "https://localhost:8080/"
        },
        "outputId": "db4deeb1-adb5-4a4d-f85d-7f29671d65cb"
      },
      "execution_count": null,
      "outputs": [
        {
          "output_type": "stream",
          "name": "stdout",
          "text": [
            "Outliers Dictionary:\n",
            "{'Average Daily Steps': [], 'Hours of Sleep': [], 'Caloric Intake': [], 'Age': []}\n"
          ]
        }
      ]
    },
    {
      "cell_type": "code",
      "source": [
        "# # Define the outlier detection function using Z-scores\n",
        "# def remove_outliers_zscore(df, threshold=3):\n",
        "#     z_scores = np.abs(stats.zscore(df))\n",
        "#     mask = (z_scores <= threshold).all(axis=1)\n",
        "#     return df[mask]\n",
        "\n",
        "# # Remove rows with outliers in each column using Z-scores\n",
        "# threshold = 3  # Adjust this threshold as needed\n",
        "# df_no_outliers = remove_outliers_zscore(df_interpolate, threshold)\n",
        "\n",
        "# print(\"DataFrame with Outliers Removed (Z-score method):\")\n",
        "# print(df_no_outliers)"
      ],
      "metadata": {
        "id": "ASFft4Dq_t-F"
      },
      "execution_count": null,
      "outputs": []
    },
    {
      "cell_type": "code",
      "source": [
        "from scipy import stats"
      ],
      "metadata": {
        "id": "aRp-ZEOoIwzD"
      },
      "execution_count": null,
      "outputs": []
    },
    {
      "cell_type": "code",
      "source": [
        "def remove_outliers(dataframe, columns, z_threshold=3):\n",
        "    outlier_indices = set()\n",
        "\n",
        "    for column in columns:\n",
        "        z_scores = np.abs(stats.zscore(dataframe[column]))\n",
        "        outlier_indices.update(set(np.where(z_scores > z_threshold)[0]))\n",
        "\n",
        "    # Remove duplicate indices and sort them\n",
        "    outlier_indices = list(outlier_indices)\n",
        "    outlier_indices.sort()\n",
        "\n",
        "    # Create a new DataFrame without the outlier rows\n",
        "    cleaned_dataframe = dataframe.drop(outlier_indices)\n",
        "\n",
        "    return cleaned_dataframe\n"
      ],
      "metadata": {
        "id": "BAvjdEan_xxx"
      },
      "execution_count": null,
      "outputs": []
    },
    {
      "cell_type": "code",
      "source": [
        "df_clean=remove_outliers(df_interpolate, [ 'Height', 'Weight', 'Cholesterol level', 'Blood Sugar level'], z_threshold=3)\n",
        "\n",
        "print(df_clean)\n",
        "\n",
        "\n",
        "df_diastol=df_interpolate[['Average Daily Steps', 'Hours of Sleep', 'Caloric Intake', 'Age','Gender','Height', 'Weight', 'Cholesterol level', 'Blood Sugar level','Diastolic BP']]\n",
        "df_systol=df_interpolate[['Average Daily Steps', 'Hours of Sleep', 'Caloric Intake', 'Age','Gender','Height', 'Weight', 'Cholesterol level', 'Blood Sugar level','Systolic BP']]\n",
        "df_lifestyle=df_interpolate[['Average Daily Steps', 'Hours of Sleep', 'Caloric Intake', 'Age','Gender','Height', 'Weight', 'Cholesterol level', 'Blood Sugar level','LifeStyle']]\n",
        "\n",
        "df_systol=df_systol.dropna()\n",
        "df_diastol=df_diastol.dropna()\n",
        "df_lifestyle=df_lifestyle.dropna()\n",
        "\n",
        "\n",
        "df_systol.to_csv('/content/drive/MyDrive/Systol_corrected.csv',index=False)\n",
        "df_diastol.to_csv('/content/drive/MyDrive/diastol_corrected.csv',index=False)\n",
        "df_lifestyle.to_csv('/content/drive/MyDrive/LifeStyle_corrected.csv',index=False)"
      ],
      "metadata": {
        "colab": {
          "base_uri": "https://localhost:8080/"
        },
        "id": "cVfjTMk4_0S8",
        "outputId": "37afc151-dacf-49c4-f37c-79ef6722b8af"
      },
      "execution_count": null,
      "outputs": [
        {
          "output_type": "stream",
          "name": "stdout",
          "text": [
            "       Average Daily Steps  Hours of Sleep  Caloric Intake   Age  Gender  \\\n",
            "0                  15725.0        6.518042          1714.0  56.0    Male   \n",
            "1                   6733.0        9.176300          2508.0  69.0  Female   \n",
            "2                   7424.0        4.856772          1366.0  46.0    Male   \n",
            "3                  11853.0        9.727244          2189.0  32.0  Female   \n",
            "4                   7521.0        6.433183          2342.0  28.5  Female   \n",
            "...                    ...             ...             ...   ...     ...   \n",
            "99995               2265.0        7.842720          2030.0  53.0    Male   \n",
            "99996              10959.0        9.661165          2233.0  22.0    Male   \n",
            "99997              11534.5        7.378317          2080.0  37.0    Male   \n",
            "99998              12110.0        9.843323          1434.0  72.0  Female   \n",
            "99999              18618.0        9.301179          3458.0  37.0    Male   \n",
            "\n",
            "           Height      Weight  Cholesterol level  Blood Sugar level  \\\n",
            "0      178.416872   75.489346         185.408550         104.442836   \n",
            "1      176.826592   54.635484         191.698148         104.851888   \n",
            "2      182.281966   63.578372         212.625051         106.649132   \n",
            "3      168.520316   59.397202         205.440351         121.982302   \n",
            "4      145.273232   62.574740         161.368583         126.408787   \n",
            "...           ...         ...                ...                ...   \n",
            "99995  182.202253   65.035350         212.133380         115.360556   \n",
            "99996  185.802297   63.457075         227.699267         112.321197   \n",
            "99997  168.520316   41.227254         224.300704         121.369845   \n",
            "99998  155.025779  106.908491         140.865132          94.524506   \n",
            "99999  180.716378   79.617356         177.339752          87.519145   \n",
            "\n",
            "       Systolic BP  Diastolic BP LifeStyle  \n",
            "0       172.813045     75.552416   Average  \n",
            "1       198.729261   -103.634282   Average  \n",
            "2       172.905053     87.816911       Bad  \n",
            "3       204.527361     99.791603       NaN  \n",
            "4       187.882666     88.240932   Average  \n",
            "...            ...           ...       ...  \n",
            "99995   348.653753           NaN       Bad  \n",
            "99996   205.758576     97.740461      Good  \n",
            "99997   195.905161   -107.061245      Good  \n",
            "99998   149.675364    200.964967     Great  \n",
            "99999   216.590126     96.114712       Bad  \n",
            "\n",
            "[98573 rows x 12 columns]\n"
          ]
        }
      ]
    },
    {
      "cell_type": "code",
      "source": [
        "path=\"/content/drive/MyDrive/LifeStyle_vayun.csv\"\n",
        "df=pd.read_csv(path)"
      ],
      "metadata": {
        "id": "g6iRG0KJJJYX"
      },
      "execution_count": null,
      "outputs": []
    },
    {
      "cell_type": "code",
      "source": [
        "import numpy as np"
      ],
      "metadata": {
        "id": "TdCHnwM9dCRj"
      },
      "execution_count": null,
      "outputs": []
    },
    {
      "cell_type": "code",
      "source": [
        "df[\"Gender\"] = np.where(df[\"Gender\"] == \"Female\", 0, 1)"
      ],
      "metadata": {
        "id": "GTiTVN3KdFsc"
      },
      "execution_count": null,
      "outputs": []
    },
    {
      "cell_type": "code",
      "source": [],
      "metadata": {
        "id": "4y-4S6yRdHrE"
      },
      "execution_count": null,
      "outputs": []
    },
    {
      "cell_type": "code",
      "source": [
        "X =df[['Average Daily Steps', 'Hours of Sleep', 'Caloric Intake', 'Age',\n",
        "       'Gender', 'Height', 'Weight', 'Cholesterol level', 'Blood Sugar level']].copy()\n",
        "\n",
        "y = df['LifeStyle']"
      ],
      "metadata": {
        "id": "saL2P2rndJ81"
      },
      "execution_count": null,
      "outputs": []
    },
    {
      "cell_type": "code",
      "source": [
        "X_train, X_test, y_train, y_test = train_test_split(X, y, test_size=0.2, random_state=42)"
      ],
      "metadata": {
        "id": "GGlBSnmVdL1o"
      },
      "execution_count": null,
      "outputs": []
    },
    {
      "cell_type": "code",
      "source": [
        "rf = RandomForestClassifier()"
      ],
      "metadata": {
        "id": "wx2PVAKVdOG-"
      },
      "execution_count": null,
      "outputs": []
    },
    {
      "cell_type": "code",
      "source": [
        "param_grid = {\n",
        "    'n_estimators': [200, 500, 800],\n",
        "    'max_depth': [10, 20, 30,50,75, None],\n",
        "    'min_samples_split': [2, 5, 10,20],\n",
        "}"
      ],
      "metadata": {
        "id": "yuzmZuGAdP7I"
      },
      "execution_count": null,
      "outputs": []
    },
    {
      "cell_type": "code",
      "source": [
        "random_search = RandomizedSearchCV(estimator=rf, param_distributions=param_grid, n_iter=75, cv=3, n_jobs=-1, random_state=42)\n",
        "random_search.fit(X_train, y_train)"
      ],
      "metadata": {
        "id": "a7vwZYwLdRoU"
      },
      "execution_count": null,
      "outputs": []
    },
    {
      "cell_type": "code",
      "source": [
        "best_rf = random_search.best_estimator_"
      ],
      "metadata": {
        "id": "WoHFpAxUdU0C"
      },
      "execution_count": null,
      "outputs": []
    },
    {
      "cell_type": "code",
      "source": [
        "y_pred = best_rf.predict(X_test)"
      ],
      "metadata": {
        "id": "iEytkwq_dW0e"
      },
      "execution_count": null,
      "outputs": []
    },
    {
      "cell_type": "code",
      "source": [
        "print(classification_report(y_test, y_pred))"
      ],
      "metadata": {
        "id": "kR8FAdmRdYt4"
      },
      "execution_count": null,
      "outputs": []
    },
    {
      "cell_type": "code",
      "source": [
        "path=\"/content/drive/MyDrive/ML101_dataset_test_feature.csv\"\n",
        "df1=pd.read_csv(path)"
      ],
      "metadata": {
        "id": "T5N9XEpOdbSr"
      },
      "execution_count": null,
      "outputs": []
    },
    {
      "cell_type": "code",
      "source": [
        "df1[\"Gender\"] = np.where(df1[\"Gender\"] == \"Female\", 0, 1)\n",
        "\n",
        "y_pred_final = best_rf.predict(df1)\n",
        "\n",
        "y_pred_final\n",
        "\n",
        "df_3 = pd.DataFrame({'Predictions': y_pred_final})\n",
        "\n",
        "df_3.to_csv('/content/drive/MyDrive/classification_final_submition_ml101.csv',index=True)"
      ],
      "metadata": {
        "id": "TFu4WeCFddk6"
      },
      "execution_count": null,
      "outputs": []
    },
    {
      "cell_type": "markdown",
      "source": [
        "REGRESSION\n"
      ],
      "metadata": {
        "id": "HBCjfAzbe-1C"
      }
    },
    {
      "cell_type": "markdown",
      "source": [
        "Systolic Blood Pressure Prediction"
      ],
      "metadata": {
        "id": "YDzPu61TjngF"
      }
    },
    {
      "cell_type": "code",
      "source": [
        "#Loading datasets for Regression\n",
        "\n",
        "df_test = pd.read_csv(\"/content/drive/MyDrive/ML101_dataset_test_feature.csv\")\n",
        "path=\"/content/drive/MyDrive/ML101_dataset_test_feature.csv\"\n",
        "X_testing=pd.read_csv(path)\n",
        "X_testing = pd.get_dummies(X_testing, columns=['Gender'], drop_first=True)\n",
        "data = df_systol"
      ],
      "metadata": {
        "id": "bQ9S2mC_epqF"
      },
      "execution_count": null,
      "outputs": []
    },
    {
      "cell_type": "code",
      "source": [
        "data= data[['Average Daily Steps', 'Hours of Sleep', 'Caloric Intake', 'Age',\n",
        "       'Gender', 'Height', 'Weight', 'Cholesterol level', 'Blood Sugar level',\n",
        "       'Systolic BP']]\n",
        "target_column = 'Systolic BP'"
      ],
      "metadata": {
        "id": "ub-pN7_1etMM"
      },
      "execution_count": null,
      "outputs": []
    },
    {
      "cell_type": "code",
      "source": [
        "#Eliminating the gaussian noise at the ends\n",
        "\n",
        "Q1 = data[target_column].quantile(0.25)\n",
        "Q3 = data[target_column].quantile(0.75)\n",
        "IQR = Q3 - Q1\n",
        "# Define a threshold for outliers\n",
        "threshold = 1.2\n",
        "#Outlier detection mask\n",
        "outliers_mask = (data[target_column] < (Q1 - threshold * IQR)) | (data[target_column] > (Q3 + threshold * IQR))\n",
        "# # Remove rows with outliers\n",
        "df_cleaned = data[~outliers_mask]\n",
        "# df_cleaned=data\n",
        "X = df_cleaned[['Average Daily Steps', 'Hours of Sleep', 'Caloric Intake', 'Age','Gender','Height', 'Weight', 'Cholesterol level', 'Blood Sugar level']]\n",
        "\n",
        "y = df_cleaned['Systolic BP']\n",
        "\n",
        "# One-Hot Encoding for Gender Atrribute\n",
        "X = pd.get_dummies(X, columns=['Gender'], drop_first=True)\n",
        "\n",
        "# Split the data into training and testing sets\n",
        "X_train, X_test, y_train, y_test = train_test_split(X, y, test_size=0.2, random_state=42)"
      ],
      "metadata": {
        "id": "Qz7abgRIewhs"
      },
      "execution_count": null,
      "outputs": []
    },
    {
      "cell_type": "code",
      "source": [
        "model = RandomForestRegressor(n_estimators=300, random_state=42) #Initializing the model (We used n_estimators=300 after running some experimental tries and found this value optimal)\n",
        "\n",
        "model.fit(X_train, y_train)\n",
        "\n",
        "# Make predictions\n",
        "y_pred = model.predict(X_test)"
      ],
      "metadata": {
        "id": "TweVaBEcez2d"
      },
      "execution_count": null,
      "outputs": []
    },
    {
      "cell_type": "code",
      "source": [
        "y_pred_test=model.predict(X_testing)\n",
        "\n",
        "df_assigned=pd.DataFrame(y_pred_test,columns=['Systolic BP'])\n",
        "\n",
        "df_assigned.to_csv(\"/content/drive/MyDrive/final_systolic_test.csv\", index=False)"
      ],
      "metadata": {
        "id": "vSR7uAexe4ys"
      },
      "execution_count": null,
      "outputs": []
    },
    {
      "cell_type": "markdown",
      "source": [
        "Diastolic Blood Pressure Prediction"
      ],
      "metadata": {
        "id": "SDwsHQSBjuAp"
      }
    },
    {
      "cell_type": "code",
      "source": [
        "path=\"/content/drive/MyDrive/diastol_corrected.csv\"\n",
        "data=pd.read_csv(path)\n",
        "\n",
        "df = data\n",
        "\n",
        "df = df[['Average Daily Steps', 'Hours of Sleep', 'Caloric Intake', 'Age',\n",
        "       'Gender', 'Height', 'Weight', 'Cholesterol level', 'Blood Sugar level',\n",
        "       'Diastolic BP']]"
      ],
      "metadata": {
        "id": "ADYAp4IEja3A"
      },
      "execution_count": null,
      "outputs": []
    },
    {
      "cell_type": "code",
      "source": [
        "target_column = 'Diastolic BP'\n",
        "\n",
        "# Calculate the IQR for the target column\n",
        "Q1 = df[target_column].quantile(0.25)\n",
        "Q3 = df[target_column].quantile(0.75)\n",
        "IQR = Q3 - Q1\n",
        "\n",
        "# Define a threshold for outliers\n",
        "threshold = 1.15\n",
        "\n",
        "# Create a boolean mask to identify outliers\n",
        "outliers_mask = (data[target_column] < (Q1 - threshold * IQR)) | (data[target_column] > (Q3 + threshold * IQR))\n",
        "\n",
        "# # Remove rows with outliers\n",
        "df_cleaned = data[~outliers_mask]"
      ],
      "metadata": {
        "id": "1Se_q7AFj-XT"
      },
      "execution_count": null,
      "outputs": []
    },
    {
      "cell_type": "code",
      "source": [
        "X = df_cleaned[['Average Daily Steps', 'Hours of Sleep', 'Caloric Intake', 'Age','Gender','Height', 'Weight', 'Cholesterol level', 'Blood Sugar level']]\n",
        "# print(X)\n",
        "y = df_cleaned['Diastolic BP']\n",
        "# If 'gender' is categorical (e.g., 'Male' and 'Female'), you need to one-hot encode it\n",
        "X = pd.get_dummies(X, columns=['Gender'], drop_first=True)  # Drop the first category to avoid multicollinearity"
      ],
      "metadata": {
        "id": "dPKPuMktkH-k"
      },
      "execution_count": null,
      "outputs": []
    },
    {
      "cell_type": "code",
      "source": [
        "X_train, X_test, y_train, y_test = train_test_split(X, y, test_size=0.2, random_state=42)"
      ],
      "metadata": {
        "id": "Nj_4i7kokPRn"
      },
      "execution_count": null,
      "outputs": []
    },
    {
      "cell_type": "code",
      "source": [
        "model = RandomForestRegressor(n_estimators=300, random_state=42)\n",
        "\n",
        "model.fit(X_train, y_train)\n",
        "\n",
        "# Make predictions\n",
        "y_pred = model.predict(X_test)"
      ],
      "metadata": {
        "id": "daIEz-oLkWJB"
      },
      "execution_count": null,
      "outputs": []
    },
    {
      "cell_type": "code",
      "source": [
        "df_test = pd.read_csv(\"/content/drive/MyDrive/ML101_dataset_test_feature.csv\")\n",
        "\n",
        "# Preprocessing for test data (using the same preprocessor as training data)\n",
        "X_test2 = df_test[['Average Daily Steps', 'Hours of Sleep', 'Caloric Intake', 'Age',\n",
        "                 'Gender', 'Height', 'Weight', 'Cholesterol level', 'Blood Sugar level']]\n",
        "\n",
        "X_test2 = pd.get_dummies(X_test2, columns=['Gender'], drop_first=True)\n",
        "\n",
        "\n",
        "# Make predictions on the test data\n",
        "y_pred = model.predict(X_test2)\n",
        "\n",
        "print(y_pred)\n",
        "# Add predictions to the test data\n",
        "df_test[\"Diastolic BP\"] = y_pred\n",
        "\n",
        "# # Save the data with predictions to a new CSV file\n",
        "df_test.to_csv(\"/content/drive/MyDrive/test_with_predictions1.csv\", index=False)"
      ],
      "metadata": {
        "id": "BVUH-fxAkaH_"
      },
      "execution_count": null,
      "outputs": []
    },
    {
      "cell_type": "markdown",
      "source": [
        "Combining The Systolic and Diastolic Predicted values"
      ],
      "metadata": {
        "id": "TIGErxUHkp2i"
      }
    },
    {
      "cell_type": "code",
      "source": [
        "# Load the first CSV file with the \"Systolic BP\" column\n",
        "df_systolic = pd.read_csv('/content/drive/MyDrive/final_systolic_test.csv')\n",
        "\n",
        "# Load the second CSV file with the \"Diastolic BP\" column\n",
        "df_diastolic = pd.read_csv('/content/drive/MyDrive/test_with_predictions1.csv')\n",
        "\n",
        "# Create a new DataFrame with both columns\n",
        "df_combined = pd.concat([df_systolic['Systolic BP'], df_diastolic['Diastolic BP']], axis=1)\n",
        "\n",
        "# Save the combined DataFrame to a new CSV file\n",
        "df_combined.to_csv('/content/drive/MyDrive/combined_blood_pressure.csv', index=False)"
      ],
      "metadata": {
        "id": "PlGeXFWum1T9"
      },
      "execution_count": null,
      "outputs": []
    },
    {
      "cell_type": "markdown",
      "source": [
        "The code below is of Ridge Regression which we tested alongside the random forest code, and skipped because Random Forest gives a better MSE score\n"
      ],
      "metadata": {
        "id": "b7crQeGtizJU"
      }
    },
    {
      "cell_type": "code",
      "source": [
        "# data = pd.read_csv('Systol_corrected.csv')\n",
        "\n",
        "\n",
        "# df = data\n",
        "\n",
        "# df = df[['Average Daily Steps', 'Hours of Sleep', 'Caloric Intake', 'Age',\n",
        "#        'Gender', 'Height', 'Weight', 'Cholesterol level', 'Blood Sugar level',\n",
        "#        'Systolic BP']]\n",
        "\n",
        "# target_column = 'Systolic BP'\n",
        "\n",
        "# # Calculate the IQR for the target column\n",
        "# Q1 = df[target_column].quantile(0.25)\n",
        "# Q3 = df[target_column].quantile(0.75)\n",
        "# IQR = Q3 - Q1\n",
        "\n",
        "# # Define a threshold for outliers\n",
        "# threshold = 10\n",
        "\n",
        "# # Create a boolean mask to identify outliers\n",
        "# outliers_mask = (df[target_column] < (Q1 - threshold * IQR)) | (df[target_column] > (Q3 + threshold * IQR))\n",
        "\n",
        "# # Remove rows with outliers\n",
        "# df_cleaned = df[~outliers_mask]\n",
        "\n",
        "\n",
        "\n",
        "\n",
        "# # Load your dataset\n",
        "# data = df_cleaned\n",
        "\n",
        "# X = data.drop('Systolic BP', axis=1)\n",
        "# y = data['Systolic BP']\n",
        "\n",
        "# # If 'gender' is categorical, one-hot encode it\n",
        "# X = pd.get_dummies(X, columns=['Gender'], drop_first=True)\n",
        "\n",
        "\n",
        "# X_train, X_test, y_train, y_test = train_test_split(X, y, test_size=0.2, random_state=42)\n",
        "\n",
        "# # Create a ColumnTransformer to preprocess the numeric and categorical features\n",
        "# numeric_features = X_train.select_dtypes(include=['float64']).columns\n",
        "# categorical_features = X_train.select_dtypes(exclude=['float64']).columns\n",
        "\n",
        "# numeric_transformer = Pipeline(steps=[\n",
        "#     ('scaler', StandardScaler())\n",
        "# ])\n",
        "\n",
        "# categorical_transformer = Pipeline(steps=[\n",
        "#     ('onehot', OneHotEncoder(drop='first'))\n",
        "# ])\n",
        "\n",
        "# preprocessor = ColumnTransformer(\n",
        "#     transformers=[\n",
        "#         ('num', numeric_transformer, numeric_features),\n",
        "#         ('cat', categorical_transformer, categorical_features)\n",
        "#     ])\n",
        "\n",
        "# # Create a Ridge Regression model\n",
        "# ridge_model = Ridge()\n",
        "\n",
        "# # Create a Pipeline to combine preprocessing and modeling\n",
        "# model = Pipeline(steps=[('preprocessor', preprocessor),\n",
        "#                         ('model', ridge_model)])\n",
        "\n",
        "# # Define a parameter grid for GridSearchCV\n",
        "# param_grid = {\n",
        "#     'model__alpha': [0.001, 0.01, 0.1, 1.0, 1.0]  # You can add more alpha values to fine-tune\n",
        "# }\n",
        "\n",
        "# # Create GridSearchCV with cross-validation\n",
        "# grid_search = GridSearchCV(model, param_grid, cv=25, scoring='neg_mean_squared_error', verbose=1)\n",
        "\n",
        "# df.columns = range(df.shape[1])\n",
        "\n",
        "# # Fit the model with GridSearchCV to find the best hyperparameters\n",
        "# grid_search.fit(X_train, y_train)\n",
        "\n",
        "# # Get the best model\n",
        "# best_model = grid_search.best_estimator_\n",
        "\n",
        "# # Evaluate the best model on the test data\n",
        "# y_pred = best_model.predict(X_test)\n",
        "\n",
        "# mse = mean_squared_error(y_test, y_pred)\n",
        "# r2 = r2_score(y_test, y_pred)\n",
        "\n",
        "# print(f\"Best Model Parameters: {grid_search.best_params_}\")\n",
        "# print(f\"Mean Squared Error: {mse}\")\n",
        "# print(f\"R-squared: {r2}\")\n",
        "\n",
        "# print(y_test)\n",
        "# print(y_pred)\n",
        "\n",
        "\n",
        "\n",
        "# df_test = pd.read_csv(\"test.csv\")\n",
        "\n",
        "# # Preprocessing for test data (using the same preprocessor as training data)\n",
        "# X_test2 = df_test[['Average Daily Steps', 'Hours of Sleep', 'Caloric Intake', 'Age',\n",
        "#                  'Gender', 'Height', 'Weight', 'Cholesterol level', 'Blood Sugar level']]\n",
        "\n",
        "# # X_test2 = pd.get_dummies(X_test2, columns=['Gender'], drop_first=True)\n",
        "\n",
        "# # Make predictions on the test data\n",
        "# y_pred = best_model.predict(X_test2)\n",
        "\n",
        "# print(y_pred)\n",
        "# # Add predictions to the test data\n",
        "# # df_test[\"Predicted Systolic BP\"] = y_pred\n",
        "\n",
        "# # # Save the data with predictions to a new CSV file\n",
        "# # df_test.to_csv(\"test_with_predictions.csv\", index=False)"
      ],
      "metadata": {
        "id": "INsq1VR_e7xl"
      },
      "execution_count": null,
      "outputs": []
    }
  ]
}
