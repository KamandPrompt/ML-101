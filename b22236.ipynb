{
 "cells": [
  {
   "cell_type": "markdown",
   "metadata": {},
   "source": [
    "Team Members:\n",
    "\n",
    "    Roll no. B22236 Satyam Kumar"
   ]
  },
  {
   "cell_type": "code",
   "execution_count": 78,
   "metadata": {},
   "outputs": [],
   "source": [
    "import numpy as np \n",
    "import pandas as pd\n",
    "import matplotlib.pyplot as plt\n",
    "from sklearn import preprocessing\n",
    "from sklearn.impute import SimpleImputer\n",
    "from scipy.linalg import pinv"
   ]
  },
  {
   "cell_type": "code",
   "execution_count": 79,
   "metadata": {},
   "outputs": [
    {
     "name": "stdout",
     "output_type": "stream",
     "text": [
      "58979\n",
      "       Average Daily Steps  Hours of Sleep  Caloric Intake   Age      Height  \\\n",
      "0                  15725.0        6.518042          1714.0  56.0  178.416872   \n",
      "1                   7424.0        4.856772          1366.0  46.0  182.281966   \n",
      "2                  16484.0        4.380561          2373.0  25.0  167.868325   \n",
      "3                  17563.0        4.195405          1547.0  78.0  159.352113   \n",
      "4                   3700.0        9.558343          2299.0  38.0  150.136600   \n",
      "...                    ...             ...             ...   ...         ...   \n",
      "58974               4248.0        4.205830          3219.0  23.0  182.338167   \n",
      "58975               2701.0        7.016010          2376.0  41.0  160.398936   \n",
      "58976              10959.0        9.661165          2233.0  22.0  185.802297   \n",
      "58977              12110.0        9.843323          1434.0  72.0  155.025779   \n",
      "58978              18618.0        9.301179          3458.0  37.0  180.716378   \n",
      "\n",
      "           Weight  Cholesterol level  Blood Sugar level  Systolic BP  \\\n",
      "0       75.489346         185.408550         104.442836   172.813045   \n",
      "1       63.578372         212.625051         106.649132   172.905053   \n",
      "2       88.357153         200.153204         101.648647   198.811186   \n",
      "3       62.381498         164.797289          95.894504   166.152809   \n",
      "4       70.121782         161.519291         114.993495   173.251125   \n",
      "...           ...                ...                ...          ...   \n",
      "58974   50.034733         224.564016         108.690423   238.720193   \n",
      "58975   90.530513         189.141981          99.684418   194.684105   \n",
      "58976   63.457075         227.699267         112.321197   205.758576   \n",
      "58977  106.908491         140.865132          94.524506   149.675364   \n",
      "58978   79.617356         177.339752          87.519145   216.590126   \n",
      "\n",
      "       Diastolic BP LifeStyle  \n",
      "0         75.552416   Average  \n",
      "1         87.816911       Bad  \n",
      "2         93.742647       Bad  \n",
      "3         72.226524       Bad  \n",
      "4         78.683695   Average  \n",
      "...             ...       ...  \n",
      "58974    247.405796       Bad  \n",
      "58975    234.620907       Bad  \n",
      "58976     97.740461      Good  \n",
      "58977    200.964967     Great  \n",
      "58978     96.114712       Bad  \n",
      "\n",
      "[58979 rows x 11 columns]\n"
     ]
    }
   ],
   "source": [
    "df = pd.read_csv('ML101_train_dataset.csv')\n",
    "df = df[df[\"Systolic BP\"] > 0]\n",
    "df = df[df[\"Diastolic BP\"] > 0]\n",
    "\n",
    "df = df.dropna(subset=['LifeStyle'])\n",
    "df = df.dropna(subset=['Gender'])\n",
    "\n",
    "classes = df['LifeStyle'].tolist()\n",
    "print(len(classes))\n",
    "y_train1 = list(df['Systolic BP'])\n",
    "y_train2 = list(df['Diastolic BP'])\n",
    "\n",
    "col = df.columns.tolist()\n",
    "col.remove('Gender')\n",
    "col.remove('LifeStyle')\n",
    "\n",
    "imp = SimpleImputer(missing_values=np.nan, strategy='median') # replace missing numerical values with median\n",
    "fit_df = pd.DataFrame(imp.fit_transform(df[col]), columns=col)\n",
    "fit_df['LifeStyle'] = classes\n",
    "fit_df['Systolic BP'] = y_train1\n",
    "fit_df['Diastolic BP'] = y_train2   \n",
    "\n",
    "print(fit_df)"
   ]
  },
  {
   "cell_type": "markdown",
   "metadata": {},
   "source": [
    "Regression"
   ]
  },
  {
   "cell_type": "code",
   "execution_count": 80,
   "metadata": {},
   "outputs": [],
   "source": [
    "def corr(A, B):\n",
    "    N = len(A)\n",
    "    mean_a = np.mean(A)\n",
    "    mean_b = np.mean(B)\n",
    "    s = 0\n",
    "    for i in range(0, N):\n",
    "         s += (A[i] - mean_a)*(B[i] - mean_b)\n",
    "    s = s/N\n",
    "    return s/(np.std(A)*np.std(B))\n",
    "\n",
    "def Vandermonde(x, p):\n",
    "    Z = []\n",
    "    z = []\n",
    "    for sample in x:\n",
    "        for i in range(0, p+1):\n",
    "            z.append(sample**i)\n",
    "        Z.append(z)\n",
    "        z = []\n",
    "    return np.array(Z)\n",
    "\n",
    "def get_parameters(x, y, p): # training data as arguments\n",
    "    Z = Vandermonde(x, p)\n",
    "    w_cap = np.linalg.inv(Z.T @ Z) @ Z.T @ y\n",
    "    return w_cap\n",
    "\n",
    "def regression(x, y, p):\n",
    "    Z = Vandermonde(x, p)\n",
    "    w_cap = np.linalg.inv(Z.T @ Z) @ Z.T @ y\n",
    "    y_cap = w_cap.T @ Z.T\n",
    "    return y_cap\n",
    "\n",
    "def rmse(y_cap, y):\n",
    "    mse = 0\n",
    "    N = len(y_cap)\n",
    "    for i in range(0, N):\n",
    "        mse += (y_cap[i] - y[i])**2\n",
    "    mse = mse/N\n",
    "    rmse = mse**0.5\n",
    "    return rmse\n"
   ]
  },
  {
   "cell_type": "code",
   "execution_count": 81,
   "metadata": {},
   "outputs": [],
   "source": [
    "def multi_linear(X, y):\n",
    "    XTX = X.T @ X\n",
    "    XTy = X.T @ y\n",
    "    coefficients = pinv(XTX) @ XTy\n",
    "\n",
    "    return coefficients\n",
    "\n",
    "def predict(coefficients, X):\n",
    "    return X @ coefficients\n"
   ]
  },
  {
   "cell_type": "code",
   "execution_count": 82,
   "metadata": {},
   "outputs": [
    {
     "name": "stdout",
     "output_type": "stream",
     "text": [
      "RMSE for Systolic BP: 66.70409150963651\n"
     ]
    }
   ],
   "source": [
    "X_train = fit_df.drop(['LifeStyle', 'Systolic BP', 'Diastolic BP'], axis=1)\n",
    "\n",
    "attributes = list(X_train.columns)\n",
    "pearson = []\n",
    "for attribute in attributes:\n",
    "        data = np.array(X_train[attribute])\n",
    "        pearson.append(corr(data, y_train1))\n",
    "\n",
    "i = np.argmax(pearson)\n",
    "attribute = attributes[i] # most correlated with Systolic BP\n",
    "\n",
    "train_data = X_train[attribute]\n",
    "RMSE = []\n",
    "degree = list(range(1,5))\n",
    "for p in degree:\n",
    "    y_cap = regression(train_data, y_train1, p)\n",
    "    r = rmse(y_cap, y_train1)\n",
    "    RMSE.append(r)\n",
    "\n",
    "p1 = degree[np.argmin(RMSE)]\n",
    "y_cap = regression(train_data, y_train1, p1)\n",
    "w1 = get_parameters(train_data, y_train1, p1)\n",
    "\n",
    "print(\"RMSE for Systolic BP:\", rmse(y_cap, y_train1))"
   ]
  },
  {
   "cell_type": "code",
   "execution_count": 83,
   "metadata": {},
   "outputs": [
    {
     "name": "stdout",
     "output_type": "stream",
     "text": [
      "RMSE for Diastolic BP: 43.80272598595539\n"
     ]
    }
   ],
   "source": [
    "attributes = list(X_train.columns)\n",
    "pearson = []\n",
    "for attribute in attributes:\n",
    "        data = np.array(X_train[attribute])\n",
    "        pearson.append(corr(data, y_train1))\n",
    "\n",
    "i = np.argmax(pearson)\n",
    "attribute = attributes[i] # most correlated with Diastolic BP\n",
    "\n",
    "train_data = X_train[attribute]\n",
    "RMSE = []\n",
    "degree = list(range(1,5))\n",
    "for p in degree:\n",
    "    y_cap = regression(train_data, y_train2, p)\n",
    "    r = rmse(y_cap, y_train2)\n",
    "    RMSE.append(r)\n",
    "\n",
    "p2 = degree[np.argmin(RMSE)]\n",
    "y_cap = regression(train_data, y_train2, p2)\n",
    "w2 = get_parameters(train_data, y_train2, p2)\n",
    "\n",
    "print(\"RMSE for Diastolic BP:\", rmse(y_cap, y_train2))"
   ]
  },
  {
   "cell_type": "markdown",
   "metadata": {},
   "source": [
    "Predicting on the Test Data"
   ]
  },
  {
   "cell_type": "code",
   "execution_count": 84,
   "metadata": {},
   "outputs": [],
   "source": [
    "test_df = pd.read_csv('ML101_dataset_test_feature.csv')\n",
    "test_df = test_df.drop(columns=['Gender'])\n",
    "\n",
    "c1 = multi_linear(X_train, y_train1)\n",
    "c2 = multi_linear(X_train, y_train2)\n",
    "systolic_pred = predict(c1, test_df)\n",
    "diastolic_pred = predict(c2, test_df)\n",
    "\n",
    "pred_df = pd.DataFrame()\n",
    "pred_df['Systolic BP'] = systolic_pred\n",
    "pred_df['Diastolic BP'] = diastolic_pred\n",
    "pred_df = pred_df.rename_axis(\"ID\")     \n",
    "pred_df.to_csv('BP.csv')"
   ]
  },
  {
   "cell_type": "markdown",
   "metadata": {},
   "source": [
    "Classification (Bayes Classifier Implemented)"
   ]
  },
  {
   "cell_type": "code",
   "execution_count": 85,
   "metadata": {},
   "outputs": [],
   "source": [
    "import math \n",
    "\n",
    "def log_likelihood(X, X_mean, covmat):\n",
    "    X = np.array(X)\n",
    "    X_mean = np.array(X_mean)\n",
    "    X_sub = X.T - X_mean.T\n",
    "    covmat = np.array(covmat, dtype=float) # check covmat\n",
    "    c = 1/((2*math.pi)**(4.5)) # beacuse d = 9\n",
    "    d = 1/(((np.linalg.det(covmat)))**0.5)\n",
    "    e1 = -0.5*((X_sub.T) @ (np.array(np.linalg.inv(covmat), dtype=float)))\n",
    "    e2 = e1 @ X_sub\n",
    "    exp = math.exp(e2)\n",
    "    ans = np.log(c) + np.log(d) + e2*np.log(math.exp(1))\n",
    "    return ans\n",
    "\n",
    "def get_parameters(train, y):\n",
    "    mean_vectors = np.zeros((4,8)) \n",
    "    covm = []\n",
    "    prior = [] \n",
    "\n",
    "    for i in range(0, 4):  \n",
    "        for j in range(0, 8):   \n",
    "            values = train[train['LifeStyle'] == y[i]][attributes[j]].values  \n",
    "            mean_vectors[i][j] = np.mean(values) \n",
    "\n",
    "    for i in range(0, 4):\n",
    "        data = train[train['LifeStyle'] == y[i]].to_numpy()[:, 0:-3]\n",
    "        C = np.cov(data.astype(np.float64), rowvar=False)\n",
    "        covm.append(C)\n",
    "        prior.append(len(data)/len(train))\n",
    "\n",
    "    return mean_vectors, covm, prior\n",
    "\n",
    "def bayes_multivar(train_df, test_df): \n",
    "    mean_vectors, covm, prior = get_parameters(train_df, y)\n",
    "\n",
    "    predicted = []\n",
    "    test_matrix = test_df.to_numpy()\n",
    "    for sample in test_matrix:\n",
    "        log_posterior = []\n",
    "        for i in range(0, 4):\n",
    "            log_posterior.append(np.log(prior[i])+(log_likelihood(sample, mean_vectors[i], covm[i])))\n",
    "        index = np.argmax(log_posterior)\n",
    "        predicted.append(y[index])\n",
    "    return predicted\n"
   ]
  },
  {
   "cell_type": "code",
   "execution_count": 86,
   "metadata": {},
   "outputs": [],
   "source": [
    "y = df['LifeStyle'].unique() \n",
    "y_pred = bayes_multivar(fit_df, test_df)\n",
    "\n",
    "pred_classes = pd.DataFrame()\n",
    "pred_classes['LifeStyle'] = y_pred\n",
    "pred_classes.to_csv('LifeStyle.csv')"
   ]
  }
 ],
 "metadata": {
  "kernelspec": {
   "display_name": "Python 3",
   "language": "python",
   "name": "python3"
  },
  "language_info": {
   "codemirror_mode": {
    "name": "ipython",
    "version": 3
   },
   "file_extension": ".py",
   "mimetype": "text/x-python",
   "name": "python",
   "nbconvert_exporter": "python",
   "pygments_lexer": "ipython3",
   "version": "3.10.8"
  }
 },
 "nbformat": 4,
 "nbformat_minor": 2
}
